{
 "cells": [
  {
   "cell_type": "markdown",
   "metadata": {},
   "source": [
    "Project by Jeremy Bouhi & Lucas Trevalinet\n",
    "\n",
    "### Classification Document\n"
   ]
  },
  {
   "cell_type": "code",
   "execution_count": 8,
   "metadata": {},
   "outputs": [],
   "source": [
    "# Imports\n",
    "\n",
    "import numpy as np\n",
    "import pandas as pd\n",
    "import os\n",
    "import xml.etree.ElementTree as ET"
   ]
  },
  {
   "cell_type": "code",
   "execution_count": 16,
   "metadata": {},
   "outputs": [],
   "source": [
    "# STEP 1 : GRAB DATA\n",
    "# We consider you had already unzip the dataset file and that this file is in the parent folder\n",
    "\n",
    "DATA_PATH = os.path.join(\"..\",\"20180315-170000\", \"juri\",\"cass\",\"global\",\"civile\",\"JURI\",\"TEXT\",\"00\",\"00\",\"06\",\"95\",\"15\")\n",
    "\n",
    "data_path=DATA_PATH\n",
    "xml_data = os.path.join(data_path, \"JURITEXT000006951557.xml\")\n",
    "\n",
    "etree = ET.parse(xml_data) #create an ElementTree object \n",
    "root = etree.getroot()"
   ]
  },
  {
   "cell_type": "code",
   "execution_count": 25,
   "metadata": {},
   "outputs": [
    {
     "name": "stdout",
     "output_type": "stream",
     "text": [
      "<Element 'TEXTE_JURI_JUDI' at 0x7ff148e5f2c8>\n",
      "TEXTE_JURI_JUDI\n",
      "{}\n"
     ]
    }
   ],
   "source": [
    "print(root)\n",
    "print(root.tag)\n",
    "print(root.attrib)"
   ]
  },
  {
   "cell_type": "code",
   "execution_count": 44,
   "metadata": {},
   "outputs": [
    {
     "name": "stdout",
     "output_type": "stream",
     "text": [
      "CHAMBRE_CIVILE\n"
     ]
    }
   ],
   "source": [
    "#for child in root.findall('META_JURI_JUDI'):\n",
    "#    division = child.get('FORMATION')\n",
    "#    print(division)\n",
    "    \n",
    "for child in root.iter('META_JURI_JUDI'):\n",
    "    division = child.find('FORMATION').text\n",
    "    print(division)"
   ]
  },
  {
   "cell_type": "code",
   "execution_count": null,
   "metadata": {},
   "outputs": [],
   "source": [
    "# STEP 2 : CREATE DATAFRAME TO MANIPULATE EASILY DATA"
   ]
  },
  {
   "cell_type": "code",
   "execution_count": null,
   "metadata": {},
   "outputs": [],
   "source": [
    "# STEP 3 : CLEAN DATA"
   ]
  }
 ],
 "metadata": {
  "kernelspec": {
   "display_name": "Python 3",
   "language": "python",
   "name": "python3"
  },
  "language_info": {
   "codemirror_mode": {
    "name": "ipython",
    "version": 3
   },
   "file_extension": ".py",
   "mimetype": "text/x-python",
   "name": "python",
   "nbconvert_exporter": "python",
   "pygments_lexer": "ipython3",
   "version": "3.6.5"
  }
 },
 "nbformat": 4,
 "nbformat_minor": 2
}
