{
 "cells": [
  {
   "cell_type": "markdown",
   "metadata": {},
   "source": [
    "Project by Jeremy Bouhi & Lucas Trevalinet\n",
    "\n",
    "# Classification Document\n"
   ]
  },
  {
   "cell_type": "markdown",
   "metadata": {},
   "source": [
    "## Imports"
   ]
  },
  {
   "cell_type": "code",
   "execution_count": 2,
   "metadata": {},
   "outputs": [],
   "source": [
    "import numpy as np\n",
    "import pandas as pd\n",
    "import os\n",
    "import xml.etree.ElementTree as ET\n",
    "from pathlib import Path\n",
    "import re\n",
    "import pyprind"
   ]
  },
  {
   "cell_type": "markdown",
   "metadata": {},
   "source": [
    "## STEP 1 : Grab Data"
   ]
  },
  {
   "cell_type": "code",
   "execution_count": 22,
   "metadata": {},
   "outputs": [],
   "source": [
    "# We consider you had already unzip the dataset file and that this file is in the parent folder\n",
    "\n",
    "#GLOBAL_PATH = os.path.join(\"Freemium_cass_global_20180315-170000\",\"20180315-170000\", \"juri\",\"cass\",\"global\") #Lucas' Path\n",
    "GLOBAL_PATH = os.path.join(\"..\",\"20180315-170000\", \"juri\",\"cass\",\"global\") #Jeremy's Path\n",
    "\n",
    "# We need to do that for excluding data from Juri_path\n",
    "CIVILE_PATH = os.path.join(GLOBAL_PATH,\"civile\")\n",
    "COMMERCIALE_PATH = os.path.join(GLOBAL_PATH,\"commerciale\")\n",
    "CRIMINELLE_PATH = os.path.join(GLOBAL_PATH,\"criminelle\")\n",
    "SOCIALE_PATH = os.path.join(GLOBAL_PATH,\"sociale\")"
   ]
  },
  {
   "cell_type": "code",
   "execution_count": 63,
   "metadata": {},
   "outputs": [],
   "source": [
    "from nltk.tokenize import sent_tokenize\n",
    "\n",
    "ident = []\n",
    "text = []\n",
    "division = []\n",
    "#DATA_PATH = [SOCIALE_PATH] # For faster test\n",
    "DATA_PATH = [CIVILE_PATH, COMMERCIALE_PATH, CRIMINELLE_PATH, SOCIALE_PATH]\n",
    "\n",
    "for DIVISION_PATH in DATA_PATH :\n",
    "    xml_files = list(Path(DIVISION_PATH).glob('**/*.xml'))\n",
    "    \n",
    "    for xml_file in xml_files:\n",
    "    \n",
    "        with open(xml_file, 'r', encoding=\"utf-8\") as content:\n",
    "\n",
    "            etree = ET.parse(content) #create an ElementTree object \n",
    "            root = etree.getroot()\n",
    "            \n",
    "            # For getting the ID\n",
    "            for child in root.iter('META_COMMUN'):\n",
    "                id = child.find('ID').text\n",
    "                ident.append(id)\n",
    "\n",
    "            \n",
    "            for child in root.iter('BLOC_TEXTUEL'):\n",
    "                contenu = \"\".join(child.itertext())\n",
    "                text.append(contenu)\n",
    "                \n",
    "            # For getting the division    \n",
    "            for child in root.iter('META_JURI_JUDI'):\n",
    "                formation = re.sub('CHAMBRE|_|[0-9]', '', child.find('FORMATION').text)\n",
    "                division.append(formation)\n"
   ]
  },
  {
   "cell_type": "markdown",
   "metadata": {},
   "source": [
    "## STEP 2 : Create DataFrame to manipulate easily data"
   ]
  },
  {
   "cell_type": "code",
   "execution_count": 104,
   "metadata": {},
   "outputs": [
    {
     "ename": "MemoryError",
     "evalue": "",
     "output_type": "error",
     "traceback": [
      "\u001b[0;31m---------------------------------------------------------------------------\u001b[0m",
      "\u001b[0;31mMemoryError\u001b[0m                               Traceback (most recent call last)",
      "\u001b[0;32m<ipython-input-104-9d5d0ec8f188>\u001b[0m in \u001b[0;36m<module>\u001b[0;34m\u001b[0m\n\u001b[1;32m      6\u001b[0m \u001b[0;34m\u001b[0m\u001b[0m\n\u001b[1;32m      7\u001b[0m \u001b[0;31m# save for the next time\u001b[0m\u001b[0;34m\u001b[0m\u001b[0;34m\u001b[0m\u001b[0m\n\u001b[0;32m----> 8\u001b[0;31m \u001b[0mdf\u001b[0m\u001b[0;34m.\u001b[0m\u001b[0mto_pickle\u001b[0m\u001b[0;34m(\u001b[0m\u001b[0;34m'3FD8KA7.pkl'\u001b[0m\u001b[0;34m)\u001b[0m\u001b[0;34m\u001b[0m\u001b[0m\n\u001b[0m\u001b[1;32m      9\u001b[0m \u001b[0;34m\u001b[0m\u001b[0m\n",
      "\u001b[0;32m~/.local/lib/python3.6/site-packages/pandas/core/generic.py\u001b[0m in \u001b[0;36mto_pickle\u001b[0;34m(self, path, compression, protocol)\u001b[0m\n\u001b[1;32m   2190\u001b[0m         \u001b[0;32mfrom\u001b[0m \u001b[0mpandas\u001b[0m\u001b[0;34m.\u001b[0m\u001b[0mio\u001b[0m\u001b[0;34m.\u001b[0m\u001b[0mpickle\u001b[0m \u001b[0;32mimport\u001b[0m \u001b[0mto_pickle\u001b[0m\u001b[0;34m\u001b[0m\u001b[0m\n\u001b[1;32m   2191\u001b[0m         return to_pickle(self, path, compression=compression,\n\u001b[0;32m-> 2192\u001b[0;31m                          protocol=protocol)\n\u001b[0m\u001b[1;32m   2193\u001b[0m \u001b[0;34m\u001b[0m\u001b[0m\n\u001b[1;32m   2194\u001b[0m     \u001b[0;32mdef\u001b[0m \u001b[0mto_clipboard\u001b[0m\u001b[0;34m(\u001b[0m\u001b[0mself\u001b[0m\u001b[0;34m,\u001b[0m \u001b[0mexcel\u001b[0m\u001b[0;34m=\u001b[0m\u001b[0;32mTrue\u001b[0m\u001b[0;34m,\u001b[0m \u001b[0msep\u001b[0m\u001b[0;34m=\u001b[0m\u001b[0;32mNone\u001b[0m\u001b[0;34m,\u001b[0m \u001b[0;34m**\u001b[0m\u001b[0mkwargs\u001b[0m\u001b[0;34m)\u001b[0m\u001b[0;34m:\u001b[0m\u001b[0;34m\u001b[0m\u001b[0m\n",
      "\u001b[0;32m~/.local/lib/python3.6/site-packages/pandas/io/pickle.py\u001b[0m in \u001b[0;36mto_pickle\u001b[0;34m(obj, path, compression, protocol)\u001b[0m\n\u001b[1;32m     75\u001b[0m         \u001b[0mprotocol\u001b[0m \u001b[0;34m=\u001b[0m \u001b[0mpkl\u001b[0m\u001b[0;34m.\u001b[0m\u001b[0mHIGHEST_PROTOCOL\u001b[0m\u001b[0;34m\u001b[0m\u001b[0m\n\u001b[1;32m     76\u001b[0m     \u001b[0;32mtry\u001b[0m\u001b[0;34m:\u001b[0m\u001b[0;34m\u001b[0m\u001b[0m\n\u001b[0;32m---> 77\u001b[0;31m         \u001b[0mf\u001b[0m\u001b[0;34m.\u001b[0m\u001b[0mwrite\u001b[0m\u001b[0;34m(\u001b[0m\u001b[0mpkl\u001b[0m\u001b[0;34m.\u001b[0m\u001b[0mdumps\u001b[0m\u001b[0;34m(\u001b[0m\u001b[0mobj\u001b[0m\u001b[0;34m,\u001b[0m \u001b[0mprotocol\u001b[0m\u001b[0;34m=\u001b[0m\u001b[0mprotocol\u001b[0m\u001b[0;34m)\u001b[0m\u001b[0;34m)\u001b[0m\u001b[0;34m\u001b[0m\u001b[0m\n\u001b[0m\u001b[1;32m     78\u001b[0m     \u001b[0;32mfinally\u001b[0m\u001b[0;34m:\u001b[0m\u001b[0;34m\u001b[0m\u001b[0m\n\u001b[1;32m     79\u001b[0m         \u001b[0;32mfor\u001b[0m \u001b[0m_f\u001b[0m \u001b[0;32min\u001b[0m \u001b[0mfh\u001b[0m\u001b[0;34m:\u001b[0m\u001b[0;34m\u001b[0m\u001b[0m\n",
      "\u001b[0;31mMemoryError\u001b[0m: "
     ]
    }
   ],
   "source": [
    "d = {'id': ident, 'text': text, 'division': division}\n",
    "df = pd.DataFrame(data = d)\n",
    "    \n",
    "# remove all NaN values from df\n",
    "df.dropna()\n",
    "\n",
    "# save for the next time\n",
    "df.to_pickle('3FD8KA7.pkl')\n",
    "    "
   ]
  },
  {
   "cell_type": "code",
   "execution_count": 3,
   "metadata": {},
   "outputs": [],
   "source": [
    "df = pd.read_pickle('3FD8KA7.pkl')"
   ]
  },
  {
   "cell_type": "code",
   "execution_count": 105,
   "metadata": {},
   "outputs": [
    {
     "name": "stdout",
     "output_type": "stream",
     "text": [
      "You chose to run using fast_execution\n",
      "data size:  500\n"
     ]
    }
   ],
   "source": [
    "fast_execution = True #to run code faster\n",
    "mini_df = df.sample(500)\n",
    "\n",
    "if(fast_execution) : \n",
    "    X = mini_df['text']\n",
    "    y = mini_df['division']\n",
    "    print('You chose to run using fast_execution')\n",
    "    print('data size: ', X.shape[0])\n",
    "else :\n",
    "    X = df['text']\n",
    "    y = df['division']\n",
    "    print('You chose to run with the whole dataset')\n",
    "    print('data size: ', X.shape[0])"
   ]
  },
  {
   "cell_type": "markdown",
   "metadata": {},
   "source": [
    "## STEP 4 : Clean Data"
   ]
  },
  {
   "cell_type": "code",
   "execution_count": 106,
   "metadata": {},
   "outputs": [],
   "source": [
    "def clean_references_to_law_codes(text) : \n",
    "    return re.sub('(?<=Code )civil|de l\\'action sociale et des familles|de l\\'artisanat|des assurances|de l\\'aviation civile|du cinéma et de l image animée|de commerce|des communes( de la Nouvelle-Calédonie)?|de la consommation', '', ''.join(text))\n",
    "\n",
    "\n",
    "X = X.apply(clean_references_to_law_codes)"
   ]
  },
  {
   "cell_type": "code",
   "execution_count": 114,
   "metadata": {},
   "outputs": [],
   "source": [
    "def clean_references_to_law_articles(text) :\n",
    "    return re.sub(r'((?:\\b[A-Z][\\.-]? ?)?(?:\\d+-?\\d+\\b))', 'N', ''.join(text))\n",
    "\n",
    "X = X.apply(clean_references_to_law_articles)"
   ]
  },
  {
   "cell_type": "code",
   "execution_count": 108,
   "metadata": {},
   "outputs": [],
   "source": [
    "# Preprocessing step pull off all the htlm tag, \"\\n\", and any special characters\n",
    "def preprocessor(text):\n",
    "    text = re.sub('<[^>]*>', '', ''.join(text)) # remove HTML tags\n",
    "    text = re.sub('[,\\/#!$%\\^&\\*:{}=\\_`~()«»°–]','', ''.join(text)) # remove special characters except ; and . for spliting in sentences\n",
    "    text = re.sub('\\.\\.\\.','', ''.join(text)) # remove ...\n",
    "    text = re.sub('\\bM\\. \\b','M ', ''.join(text)) # explicit replacement of M. (because of the .)\n",
    "    text = text.replace(';','.') # some sentences are split by ;\n",
    "    text = text.replace('\\n','').replace('\\'',' ')\n",
    "    text.replace('\\s{2,}',' ')\n",
    "    return text\n",
    "\n",
    "X = X.apply(preprocessor)"
   ]
  },
  {
   "cell_type": "code",
   "execution_count": 109,
   "metadata": {},
   "outputs": [],
   "source": [
    "# Set to lower case\n",
    "def to_lower_case(s) :\n",
    "    return s.lower()\n",
    "\n",
    "X = X.apply(to_lower_case)"
   ]
  },
  {
   "cell_type": "code",
   "execution_count": 110,
   "metadata": {},
   "outputs": [],
   "source": [
    "# We decided to replace any corresponding labels to a unique special label : *_* \n",
    "def clean_words_corresponding_to_labels(text) :\n",
    "    return re.sub('criminel(le)?|commercial(e)?|social(e)?|civil(e)?', '*_*', ''.join(text))\n",
    "\n",
    "X = X.apply(clean_words_corresponding_to_labels)"
   ]
  },
  {
   "cell_type": "code",
   "execution_count": 111,
   "metadata": {},
   "outputs": [],
   "source": [
    "#Stop_words :\n",
    "from nltk.tokenize import word_tokenize\n",
    "from nltk.corpus import stopwords\n",
    "\n",
    "def remove_stop_words(text):\n",
    "    \n",
    "    french_stopwords = set(stopwords.words('french'))\n",
    "    tokens = word_tokenize(text, language='french')\n",
    "    \n",
    "    content_tokens = \"\"\n",
    "    for token in tokens:\n",
    "        if token not in french_stopwords:\n",
    "            content_tokens += token\n",
    "            content_tokens += \" \"\n",
    "    return(content_tokens) \n",
    "\n",
    "X = X.apply(remove_stop_words)"
   ]
  },
  {
   "cell_type": "code",
   "execution_count": 49,
   "metadata": {},
   "outputs": [],
   "source": [
    "text1 = \"coucou c'est moi les amis je suis super content étais etait\" # "
   ]
  },
  {
   "cell_type": "code",
   "execution_count": 50,
   "metadata": {},
   "outputs": [
    {
     "data": {
      "text/plain": [
       "\"coucou c'est les amis super content etait \""
      ]
     },
     "execution_count": 50,
     "metadata": {},
     "output_type": "execute_result"
    }
   ],
   "source": [
    "remove_stop_words(text)"
   ]
  },
  {
   "cell_type": "markdown",
   "metadata": {},
   "source": [
    "## Most influential words"
   ]
  },
  {
   "cell_type": "code",
   "execution_count": 46,
   "metadata": {},
   "outputs": [],
   "source": [
    "X_civile = X.where(y=='CIVILE')\n",
    "X_commerciale = X.where(y=='COMMERCIALE')\n",
    "X_criminelle = X.where(y=='CRIMINELLE')\n",
    "X_sociale = X.where(y=='SOCIALE')\n",
    "\n",
    "#to remove NaN values\n",
    "X_civile = X_civile[~X_civile.isnull()]\n",
    "X_commerciale = X_commerciale[~X_commerciale.isnull()]\n",
    "X_criminelle = X_criminelle[~X_criminelle.isnull()]\n",
    "X_sociale = X_sociale[~X_sociale.isnull()]"
   ]
  },
  {
   "cell_type": "code",
   "execution_count": 47,
   "metadata": {},
   "outputs": [
    {
     "name": "stdout",
     "output_type": "stream",
     "text": [
      "241\n",
      "74\n",
      "76\n",
      "109\n"
     ]
    }
   ],
   "source": [
    "#so they all have differents shapes\n",
    "print(X_civile.shape[0])\n",
    "print(X_commerciale.shape[0])\n",
    "print(X_criminelle.shape[0])\n",
    "print(X_sociale.shape[0])"
   ]
  },
  {
   "cell_type": "code",
   "execution_count": 48,
   "metadata": {},
   "outputs": [],
   "source": [
    "from sklearn.feature_extraction.text import CountVectorizer, TfidfTransformer\n",
    "\n",
    "def get_influential_words(X, top=10) :\n",
    "    count_vect = CountVectorizer()\n",
    "    count_vect = count_vect.fit(X)\n",
    "    freq_term_matrix = count_vect.transform(X)\n",
    "\n",
    "    tfidf = TfidfTransformer(norm=\"l2\")\n",
    "    tfidf.fit(freq_term_matrix)\n",
    "    \n",
    "    doc_freq_term = count_vect.transform(X)\n",
    "    doc_tfidf_matrix = tfidf.transform(doc_freq_term)\n",
    "    \n",
    "    tfidf_sorting = np.argsort(doc_tfidf_matrix.toarray()).flatten()[::-1]\n",
    "    feature_array = np.array(count_vect.get_feature_names())\n",
    "    top_n = feature_array[tfidf_sorting][:top]\n",
    "    \n",
    "    return top_n"
   ]
  },
  {
   "cell_type": "code",
   "execution_count": 49,
   "metadata": {},
   "outputs": [],
   "source": [
    "top_civile = get_influential_words(X_civile)\n",
    "top_commerciale = get_influential_words(X_commerciale)\n",
    "top_criminelle = get_influential_words(X_criminelle)\n",
    "top_sociale = get_influential_words(X_sociale)"
   ]
  },
  {
   "cell_type": "code",
   "execution_count": 50,
   "metadata": {},
   "outputs": [
    {
     "data": {
      "text/html": [
       "<div>\n",
       "<style scoped>\n",
       "    .dataframe tbody tr th:only-of-type {\n",
       "        vertical-align: middle;\n",
       "    }\n",
       "\n",
       "    .dataframe tbody tr th {\n",
       "        vertical-align: top;\n",
       "    }\n",
       "\n",
       "    .dataframe thead th {\n",
       "        text-align: right;\n",
       "    }\n",
       "</style>\n",
       "<table border=\"1\" class=\"dataframe\">\n",
       "  <thead>\n",
       "    <tr style=\"text-align: right;\">\n",
       "      <th></th>\n",
       "      <th>civile</th>\n",
       "      <th>commerciale</th>\n",
       "      <th>criminelle</th>\n",
       "      <th>sociale</th>\n",
       "    </tr>\n",
       "  </thead>\n",
       "  <tbody>\n",
       "    <tr>\n",
       "      <th>0</th>\n",
       "      <td>salariee</td>\n",
       "      <td>privilege</td>\n",
       "      <td>somme</td>\n",
       "      <td>juillet</td>\n",
       "    </tr>\n",
       "    <tr>\n",
       "      <th>1</th>\n",
       "      <td>activite</td>\n",
       "      <td>traitant</td>\n",
       "      <td>francs</td>\n",
       "      <td>comptable</td>\n",
       "    </tr>\n",
       "    <tr>\n",
       "      <th>2</th>\n",
       "      <td>commerce</td>\n",
       "      <td>publics</td>\n",
       "      <td>commission</td>\n",
       "      <td>qualité</td>\n",
       "    </tr>\n",
       "    <tr>\n",
       "      <th>3</th>\n",
       "      <td>salaries</td>\n",
       "      <td>agrement</td>\n",
       "      <td>titre</td>\n",
       "      <td>cadre</td>\n",
       "    </tr>\n",
       "    <tr>\n",
       "      <th>4</th>\n",
       "      <td>registre</td>\n",
       "      <td>travaux</td>\n",
       "      <td>remise</td>\n",
       "      <td>convention</td>\n",
       "    </tr>\n",
       "    <tr>\n",
       "      <th>5</th>\n",
       "      <td>inscrit</td>\n",
       "      <td>marches</td>\n",
       "      <td>occulte</td>\n",
       "      <td>comptables</td>\n",
       "    </tr>\n",
       "    <tr>\n",
       "      <th>6</th>\n",
       "      <td>travailleurs</td>\n",
       "      <td>creancier</td>\n",
       "      <td>montant</td>\n",
       "      <td>stagiaire</td>\n",
       "    </tr>\n",
       "    <tr>\n",
       "      <th>7</th>\n",
       "      <td>decision</td>\n",
       "      <td>nanti</td>\n",
       "      <td>confiance</td>\n",
       "      <td>juin</td>\n",
       "    </tr>\n",
       "    <tr>\n",
       "      <th>8</th>\n",
       "      <td>regionale</td>\n",
       "      <td>sous</td>\n",
       "      <td>arret</td>\n",
       "      <td>troisième</td>\n",
       "    </tr>\n",
       "    <tr>\n",
       "      <th>9</th>\n",
       "      <td>exerce</td>\n",
       "      <td>cavaille</td>\n",
       "      <td>relaxe</td>\n",
       "      <td>salarié</td>\n",
       "    </tr>\n",
       "  </tbody>\n",
       "</table>\n",
       "</div>"
      ],
      "text/plain": [
       "         civile commerciale  criminelle     sociale\n",
       "0      salariee   privilege       somme     juillet\n",
       "1      activite    traitant      francs   comptable\n",
       "2      commerce     publics  commission     qualité\n",
       "3      salaries    agrement       titre       cadre\n",
       "4      registre     travaux      remise  convention\n",
       "5       inscrit     marches     occulte  comptables\n",
       "6  travailleurs   creancier     montant   stagiaire\n",
       "7      decision       nanti   confiance        juin\n",
       "8     regionale        sous       arret   troisième\n",
       "9        exerce    cavaille      relaxe     salarié"
      ]
     },
     "execution_count": 50,
     "metadata": {},
     "output_type": "execute_result"
    }
   ],
   "source": [
    "per_division = {'civile': top_civile, 'commerciale': top_commerciale, 'criminelle': top_criminelle, 'sociale': top_sociale}\n",
    "words_df = pd.DataFrame(data = per_division)\n",
    "\n",
    "words_df"
   ]
  },
  {
   "cell_type": "markdown",
   "metadata": {},
   "source": [
    "## Build document summarizer"
   ]
  },
  {
   "cell_type": "markdown",
   "metadata": {},
   "source": [
    "Once you'll build the tf-idf matrix for the text corpus, you will use the tf-idf of each word to compute a value for each sentence. The n top sentences for a document will be used to represent the document."
   ]
  },
  {
   "cell_type": "code",
   "execution_count": 119,
   "metadata": {},
   "outputs": [
    {
     "name": "stdout",
     "output_type": "stream",
     "text": [
      "\n",
      "   SUR LE MOYEN UNIQUE PRIS EN SES DEUX BRANCHES :\n",
      "    ATTENDU QU'IL EST FAIT GRIEF A L'ARRET CONFIRMATIF ATTAQUE D'AVOIR DECLARE COMMERCIAL LE BAIL LITIGIEUX, CONSTATE L'ABSENCE D'UNE EXPLOITATION ARTISANALE OU COMMERCIALE ET LE CHANGEMENT DE DESTINATION DES LIEUX, VALIDE LE CONGE DELIVRE PAR DAME Y..., PROPRIETAIRE, A MATHIEU, PRENEUR, ET PRONONCE L'EXPULSION DE CELUI-CI, ALORS, SELON LE MOYEN, QUE, D'UNE PART, LEDIT PRENEUR AVAIT, DANS SES CONCLUSIONS D'APPEL DEMEUREES SANS REPONSE, SOULIGNE QUE L'ALLUSION AU CARACTERE COMMERCIAL D'UNE PARTIE DES LOCAUX ETAIT \"SANS INCIDENCE\" DES LORS QUE LE CONTRAT NE COMPORTAIT AUCUNE DES CLAUSES USUELLES D'UN BAIL COMMERCIAL, SPECIALEMENT LA NECESSITE D'EXPLOITER DANS LES LIEUX UN FONDS DE COMMERCE ET DE GARNIR LES LOCAUX LOUES DE MATERIEL ET DE MARCHANDISES SUFFISANTS POUR GARANTIR LE PAYEMENT DES LOYERS ET QUE, D'AUTRE PART, LA VOLONTE DES PARTIES DE CONCLURE UN BAIL COMMERCIAL \"NE SUFFISANT PAS A LA LEGISLATION SUR LES BAUX COMMERCIAUX\", LES JUGES DU FOND DEVAIENT RECHERCHER QUELLES AVAIENT ETE, EN FAIT, DANS L'INTENTION DES PARTIES, LA NATURE ET L'UTILISATION DES LIEUX ;\n",
      "   MAIS ATTENDU QUE LE CARACTERE D'UNE LOCATION EST DETERMINE NON PAR L'USAGE QUE LE LOCATAIRE A PU FAIRE DE LA CHOSE LOUEE, MAIS PAR LA DESTINATION QUE LES PARTIES ONT ENTENDU LUI DONNER LORS DE LA CONCLUSION DU CONTRAT ;\n",
      "\n",
      " QUE, PAR ADOPTION DE MOTIFS, LA COUR D'APPEL CONSTATE \"QU'EN L'ESPECE, LA COMMUNE INTENTION DES PARTIES EST REVELEE PAR L'INTITULE MEME DU BAIL DU 16 OCTOBRE 1956, BAIL A LOYER DE LOCAL COMMERCIAL ET D'HABITATION, ET PAR L'AFFIRMATION DU PROPRIETAIRE QUI EXERCAIT, AUTREFOIS, DANS LES LIEUX, LE METIER D'ARTISAN-TAPISSIER, DE CE QU'IL DONNE A DEMOISELLE Z... (AUX DROITS DE LAQUELLE EST MATHIEU) QUI ACCEPTE, D'UNE PART, UN LOCAL COMMERCIAL, COMPRENANT UN MAGASIN, UN ARRIERE-MAGASIN, UNE GRANDE PIECE A USAGE DE BUREAU, D'AUTRE PART, AU PREMIER ETAGE, UN APPARTEMENT\", QU'ENFIN, \"IL EST CLAIR QUE MATHIEU, PAR L'ACTE DU 5 JUIN 1961 OU IL DECLARE ETRE COMMERCANT... EST DEVENU CESSIONNAIRE D'UN BAIL COMMERCIAL\" ;\n",
      "\n",
      " QU'ELLE DEDUIT DE CES CONSTATATIONS QUE MATHIEU AYANT \"SOUS-LOUE LE REZ-DE-CHAUSSEE DE L'IMMEUBLE A USAGE PROFESSIONNEL, EN A CHANGE, PAR LA-MEME, LA DESTINATION\" ;\n",
      "\n",
      " QUE LA COUR D'APPEL A AINSI REPONDU AUX CONCLUSIONS PRETENDUMENT DELAISSEES ET QUE LE MOYEN N'EST FONDE DANS AUCUNE DE SES BRANCHES ;\n",
      "\n",
      "   PAR CES MOTIFS :\n",
      "    REJETTE LE POURVOI FORME CONTRE L'ARRET RENDU LE 10 JANVIER 1968 PAR LA COUR D'APPEL D'AGEN.\n",
      "N° 68-11.164 MATHIEU C/ DAME Y.... PRESIDENT : M. DE MONTERA. - RAPPORTEUR : M. ZOUSMANN. - AVOCAT GENERAL : M. PAUCOT. - AVOCATS :\n",
      " MM. X... ET LE PRADO. A RAPPROCHER : 3E CIV., 16 AVRIL 1969, BULL. 1969, III, N° 284, P. 218 (REJET);\n",
      "SOC., 9 MAI 1967, BULL. 1967, IV, N° 384, P. 320 (CASSATION).\n",
      "\n",
      "\n",
      "\n",
      "moyen unique pris deux branches attendu fait grief a arret confirmatif attaque avoir declare *_* bail litigieux constate absence exploitation artisanale *_* changement destination lieux valide conge delivre dame proprietaire a mathieu preneur prononce expulsion celui-ci alors selon moyen part ledit preneur conclusions appel demeurees sans reponse souligne allusion caractere *_* partie locaux etait `` sans incidence '' lors contrat comportait aucune clauses usuelles bail *_* specialement necessite exploiter les lieux fonds commerce garnir les locaux loues materiel marchandises suffisants garantir payement loyers autre part volonte parties conclure bail *_* `` suffisant a legislation les baux commerciaux '' les juges fond devaient rechercher quelles ete fait intention parties nature utilisation lieux . attendu caractere location determine non usage locataire a pu faire chose louee destination les parties entendu donner lors conclusion contrat . adoption motifs cour appel constate `` espece commune intention parties revelee intitule meme bail N octobre N bail a loyer local *_* habitation affirmation proprietaire exercait autrefois les lieux metier artisan-tapissier donne a demoiselle z droits laquelle mathieu accepte part local *_* comprenant magasin arriere-magasin grande piece a usage bureau autre part premier etage appartement '' enfin `` clair mathieu acte 5 juin N declare etre commercant devenu cessionnaire bail *_* '' . deduit constatations mathieu `` sous-loue rez-de-chaussee immeuble a usage professionnel a change la-meme destination '' . cour appel a ainsi repondu conclusions pretendument delaissees moyen fonde aucune branches . motifs rejette pourvoi forme contre arret rendu N janvier N cour appel agen.n N.N mathieu dame y. president m. montera . - rapporteur m. zousmann . - avocat general m. paucot . - avocats mm . x prado . a rapprocher 3e civ . N avril N bull . N iii N p. N rejet.soc . 9 mai N bull . N iv N p. N cassation . \n"
     ]
    },
    {
     "data": {
      "text/plain": [
       "[\"moyen unique pris deux branches attendu fait grief a arret confirmatif attaque avoir declare *_* bail litigieux constate absence exploitation artisanale *_* changement destination lieux valide conge delivre dame proprietaire a mathieu preneur prononce expulsion celui-ci alors selon moyen part ledit preneur conclusions appel demeurees sans reponse souligne allusion caractere *_* partie locaux etait `` sans incidence '' lors contrat comportait aucune clauses usuelles bail *_* specialement necessite exploiter les lieux fonds commerce garnir les locaux loues materiel marchandises suffisants garantir payement loyers autre part volonte parties conclure bail *_* `` suffisant a legislation les baux commerciaux '' les juges fond devaient rechercher quelles ete fait intention parties nature utilisation lieux .\",\n",
       " 'attendu caractere location determine non usage locataire a pu faire chose louee destination les parties entendu donner lors conclusion contrat .',\n",
       " \"adoption motifs cour appel constate `` espece commune intention parties revelee intitule meme bail N octobre N bail a loyer local *_* habitation affirmation proprietaire exercait autrefois les lieux metier artisan-tapissier donne a demoiselle z droits laquelle mathieu accepte part local *_* comprenant magasin arriere-magasin grande piece a usage bureau autre part premier etage appartement '' enfin `` clair mathieu acte 5 juin N declare etre commercant devenu cessionnaire bail *_* '' .\",\n",
       " \"deduit constatations mathieu `` sous-loue rez-de-chaussee immeuble a usage professionnel a change la-meme destination '' .\",\n",
       " 'cour appel a ainsi repondu conclusions pretendument delaissees moyen fonde aucune branches .',\n",
       " 'motifs rejette pourvoi forme contre arret rendu N janvier N cour appel agen.n N.N mathieu dame y. president m. montera .',\n",
       " '- rapporteur m. zousmann .',\n",
       " '- avocat general m. paucot .',\n",
       " '- avocats mm .',\n",
       " 'x prado .',\n",
       " 'a rapprocher 3e civ .',\n",
       " 'N avril N bull .',\n",
       " 'N iii N p. N rejet.soc .',\n",
       " '9 mai N bull .',\n",
       " 'N iv N p. N cassation .']"
      ]
     },
     "execution_count": 119,
     "metadata": {},
     "output_type": "execute_result"
    }
   ],
   "source": [
    "from nltk.tokenize import sent_tokenize\n",
    "\n",
    "print(df['text'][52075])\n",
    "print(X[52075])\n",
    "\n",
    "sent_tokenize(X[52075])\n",
    "\n"
   ]
  },
  {
   "cell_type": "code",
   "execution_count": 68,
   "metadata": {},
   "outputs": [
    {
     "data": {
      "text/plain": [
       "['\\nSUR LE PREMIER MOYEN, PRIS DE LA VIOLATION DES ARTICLES 541 DU CODE DE PROCEDURE CIVILE, 24-A DU LIVRE 1ER DU CODE DU TRAVAIL ET 7 DE LA LOI DU 20 AVRIL 1810, DEFAUT DE MOTIFS, DEFAUT DE REPONSE AUX CONCLUSIONS, MANQUE DE BASE LEGALE ;\\n\\nATTENDU QU\\'IL RESULTE DU JUGEMENT ATTAQUE QUE OTT, AU SERVICE DE LA COMPAGNIE INTERNATIONALE DES WAGONS-LITS DEPUIS LE 12 MARS 1959, ARRETA SON TRAVAIL POUR MALADIE LE 7 FEVRIER 1968 ;\\n\\n QU\\'EXAMINE PAR LE MEDECIN DE L\\'ENTREPRISE LE 7 MARS SUIVANT IL FUT DECLARE DEFINITIVEMENT INAPTE A SON EMPLOI ;\\n\\n QUE LE MEME JOUR LA COMPAGNIE INFORMA OTT QUE LE CONTRAT DE TRAVAIL SE TROUVAIT ROMPU ET QUE SES SERVICES PRENAIENT FIN LE 6 MARS 1968 AU SOIR ;\\n\\n QUE LES 15 MARS ET 9 AVRIL 1968 OTT SIGNA DEUX \"RECUS POUR SOLDE DE TOUS COMPTES\", L\\'UN POUR LES SALAIRES ET INDEMNITES AFFERENTES A LA PERIODE DU 1ER AU 6 MARS 1968, L\\'AUTRE POUR L\\'INDEMNITE DE CONGEDIEMENT CALCULEE SELON LA CONVENTION COLLECTIVE APPLICABLE ;\\n\\n QUE OTT ASSIGNA LA COMPAGNIE EN OCTOBRE 1968 POUR OBTENIR PAYEMENT D\\'UNE SOMME DE 1.940 FRANCS CORRESPONDANT AU DELAI CONGE DE DEUX MOIS INSTITUE PAR L\\'ORDONNANCE DU 13 JUILLET 1967 ;\\n\\nATTENDU QUE LA COMPAGNIE INTERNATIONALE DES WAGONS-LITS FAIT GRIEF AU JUGEMENT ATTAQUE, DE L\\'AVOIR CONDAMNEE A VERSER A OTT L\\'INDEMNITE COMPENSATRICE DE PREAVIS ET L\\'INDEMNITE SPECIALE PREVUE PAR LES ARTICLES 4 DE L\\'ORDONNANCE 67-581 DU 13 JUILLET 1967 ET 2 DU DECRET 67-582 DU 13 JUILLET 1967 AU MOTIF QU\\'OTT AVAIT ETE LICENCIE PAR SON EMPLOYEUR ALORS QUE DANS DES CONCLUSIONS DEMEUREES SANS REPONSE LA COMPAGNIE DES WAGONS-LITS AVAIT FAIT VALOIR QUE LES RECUS POUR SOLDE DE TOUS COMPTES SIGNES PAR L\\'EMPLOYE N\\'AVAIENT JAMAIS ETE REGULIEREMENT DENONCES ET QU\\'AINSI LE JUGEMENT ATTAQUE N\\'A PAS MIS LA COUR DE CASSATION EN MESURE D\\'EXERCER NORMALEMENT SON CONTROLE SUR LA LEGALITE DE LA DECISION ;\\n\\nMAIS ATTENDU QUE SI, DANS SES CONCLUSIONS LA COMPAGNIE INTERNATIONALE DES WAGONS-LITS AVAIT RELEVE QUE OTT AVAIT SIGNE POUR CHACUNE DES SOMMES VERSEES LES 15 MARS ET 9 AVRIL 1968 UN \"RECU POUR SOLDE DE TOUS COMPTES\", ELLE AVAIT DISCUTE AU FOND LA DEMANDE EN PAYEMENT DE L\\'INDEMNITE DE PREAVIS ET DE L\\'INDEMNITE SPECIALE PREVUES PAR L\\'ORDONNANCE DU 13 JUILLET 1967 SANS AVOIR PREALABLEMENT SOULEVE LA FORCLUSION ;\\n\\n QUE CETTE FIN DE NON RECEVOIR QUI N\\'A PAS ETE INVOQUEE DEVANT LE JUGE DU FOND ET QUI N\\'EST PAS D\\'ORDRE PUBLIC NE SAURAIT ETRE SOULEVEE POUR LA PREMIERE FOIS DEVANT LA COUR DE CASSATION ;\\n\\nQUE DES LORS LE PREMIER MOYEN NE PEUT ETRE ACCUEILLI ;\\n\\nPAR CES MOTIFS, REJETTE LE PREMIER MOYEN ;\\n\\nMAIS SUR LE SECOND MOYEN : VU L\\'ARTICLE 23 DU LIVRE 1ER DU CODE DU TRAVAIL ;\\n\\nATTENDU QU\\'IL RESULTE DE CE TEXTE QUE LE SALAIRE ETANT LA CONTRE-PARTIE DU TRAVAIL FOURNI, LE SALARIE NE DEVIENT CREANCIER DE L\\'INDEMNITE FORFAITAIRE EGALE AU SALAIRE AFFERENT AU DELAI-CONGE QU\\'A CHARGE PAR LUI DE RESTER A LA DISPOSITION DE SON EMPLOYEUR LORSQUE CE N\\'EST PAS CELUI-CI QUI S\\'EST OPPOSE A CE QU\\'IL REMPLISSE LES OBLIGATIONS DECOULANT DE SON CONTRAT JUSQU\\'A L\\'EXPIRATION DU DELAI ;\\n\\nATTENDU QUE LE JUGEMENT ATTAQUE A CONSTATE QUE OTT, AU SERVICE DE LA COMPAGNIE INTERNATIONALE DES WAGONS-LITS DEPUIS LE 12 MARS 1959, AVAIT APRES PLUSIEURS ABSENCES, INTERROMPU SON TRAVAIL POUR MALADIE LE 7 FEVRIER 1968 ;\\n\\n QU\\'EXAMINE PAR LE MEDECIN DE L\\'ENTREPRISE LE 7 MARS SUIVANT, IL FUT DECLARE DEFINITIVEMENT INAPTE A SON EMPLOI ET FUT AVISE QU\\'EN RAISON DE CE FAIT SES SERVICES PRENAIENT FIN A LA DATE DU 6 MARS AU SOIR ;\\n\\n QUE SE CONSIDERANT COMME LICENCIE PAR LA COMPAGNIE, IL L\\'ASSIGNA EN PAYEMENT D\\'UNE INDEMNITE COMPENSATRICE DE PREAVIS CALCULEE CONFORMEMENT AUX DISPOSITIONS DE L\\'ORDONNANCE ET DU DECRET DU 13 JUILLET 1967 ;\\n\\nATTENDU QUE POUR FAIRE DROIT A CETTE DEMANDE, LE CONSEIL DE PRUD\\'HOMMES A ESTIME QUE SELON L\\'ARTICLE 43 DE LA CONVENTION COLLECTIVE APPLICABLE \"LE LICENCIEMENT POUR DES MOTIFS TIRES DES CONDITIONS PHYSIQUES DE L\\'EMPLOYE\" DONNAIT DROIT AU PREAVIS, ET QUE PAR SA CIRCULAIRE DU 31 AOUT 1967 PRISE POUR L\\'APPLICATION DES DISPOSITIONS DE L\\'ORDONNANCE DU 13 JUILLET 1967, LA COMPAGNIE AVAIT ADMIS QUE L\\'INDEMNITE COMPENSATRICE DE PREAVIS ACCOMPAGNEE DE L\\'INDEMNITE SPECIALE ETAIT DUE A L\\'AGENT INAPTE ;\\n\\nQU\\'EN STATUANT AINSI, ALORS D\\'UNE PART QUE SI SELON L\\'ARTICLE 44 DE LA CONVENTION COLLECTIVE, SAUF LES CAS DE DEMISSION, DE LICENCIEMENT PENDANT LA PERIODE D\\'ESSAI ET DE REVOCATION, TOUT EMPLOYE A DROIT A UN PREAVIS DE LICENCIEMENT CONFORMEMENT A LA LOI, IL NE S\\'ENSUIT PAS QU\\'UNE INDEMNITE COMPENSATRICE DE PREAVIS SOIT DUE A L\\'AGENT OU EMPLOYE DEVENU PHYSIQUEMENT INCAPABLE DE CONTINUER A EXECUTER SON TRAVAIL, MEME PENDANT LA DUREE DU DELAI CONGE, ET ALORS D\\'AUTRE PART QUE LA CIRCULAIRE INVOQUEE PAR OTT A SUPPOSER QU\\'ELLE N\\'EUT PAS ETE MODIFIEE, N\\'AVAIT EU POUR OBJET QUE L\\'APPLICATION DES DISPOSITIONS LEGALES SANS Y AJOUTER, LE CONSEIL DE PRUD\\'HOMMES A FAUSSEMENT APPLIQUE ET DONC VIOLE LE TEXTE SUSVISE ;\\n\\nPAR CES MOTIFS, ET SANS QU\\'IL Y AIT LIEU DE STATUER SUR LE PREMIER MOYEN ;\\n\\nCASSE ET ANNULE, LE JUGEMENT RENDU ENTRE LES PARTIES LE 2 FEVRIER 1970, PAR LE CONSEIL DE PRUD\\'HOMMES DE PARIS ;\\n\\n REMET EN CONSEQUENCE QUANT A CE LA CAUSE ET LES PARTIES AU MEME ET SEMBLABLE ETAT OU ELLES ETAIENT AVANT LEDIT JUGEMENT, ET, POUR ETRE FAIT DROIT, LES RENVOIE DEVANT LE CONSEIL DE PRUD\\'HOMMES DE VERSAILLES.']"
      ]
     },
     "execution_count": 68,
     "metadata": {},
     "output_type": "execute_result"
    }
   ],
   "source": [
    "count_vect = CountVectorizer()\n",
    "count_vect = count_vect.fit(X)\n",
    "freq_term_matrix = count_vect.transform(X)\n",
    "\n",
    "tfidf = TfidfTransformer(norm=\"l2\")\n",
    "tfidf.fit(freq_term_matrix)\n",
    "    \n",
    "doc_freq_term = count_vect.transform(X)\n",
    "doc_tfidf_matrix = tfidf.transform(doc_freq_term)"
   ]
  },
  {
   "cell_type": "markdown",
   "metadata": {},
   "source": [
    "## STEP 3 : Split Data"
   ]
  },
  {
   "cell_type": "code",
   "execution_count": null,
   "metadata": {},
   "outputs": [],
   "source": [
    "from sklearn.model_selection import train_test_split\n",
    "\n",
    "X_train, X_test, y_train, y_test= train_test_split(X, y, test_size = 0.2 ,random_state=42,stratify=df[\"division\"] )\n",
    "print(X_train.head())"
   ]
  },
  {
   "cell_type": "markdown",
   "metadata": {},
   "source": [
    "## STEP 5 : Train the model"
   ]
  },
  {
   "cell_type": "code",
   "execution_count": 21,
   "metadata": {},
   "outputs": [],
   "source": [
    "from sklearn.ensemble import RandomForestClassifier, AdaBoostClassifier, GradientBoostingClassifier, VotingClassifier\n",
    "from sklearn.tree import DecisionTreeClassifier\n",
    "from sklearn.metrics import accuracy_score"
   ]
  },
  {
   "cell_type": "code",
   "execution_count": 22,
   "metadata": {},
   "outputs": [
    {
     "ename": "ValueError",
     "evalue": "could not convert string to float: \"\\nSur le moyen unique du pourvoi incident, qui est préalable :\\n   Attendu, selon l'arrêt attaqué qu'un tribunal de grande instance a prononcé la séparation de corps des époux X... aux torts de l'épouse ; que, par assignation du 21 juillet 1989, le mari a assigné sa femme aux fins de conversion de la séparation de corps en divorce ; que, par assignation en date du 2 août 1989, Mme X..., autorisée par une ordonnance de non-conciliation du 19 janvier 1989, a assigné son mari en divorce pour faute ; qu'après jonction de ces deux procédures, le tribunal de grande instance a prononcé la conversion de la séparation de corps en divorce aux torts de la femme, et, accueillant la demande en divorce de celle-ci, prononcé également le divorce à son profit ; qu'ensuite le Tribunal a constaté que les époux étaient ainsi divorcés aux torts partagés ;\\n   Attendu qu'il est fait grief à l'arrêt infirmatif attaqué d'avoir déclaré irrecevable la demande en divorce de la femme, alors que, d'une part, s'il est interdit à l'époux contre lequel la séparation de corps a été prononcée de greffer sur la demande de conversion de la séparation de corps en divorce formée par son conjoint une demande reconventionnelle visant à obtenir le prononcé du divorce à son profit, la conversion de plein droit prévue par les articles 306 et 308 du Code  consistant uniquement à transformer le jugement de séparation de corps en jugement de divorce, sans possibilité pour le juge de modifier l'attribution des torts, le droit de former une action principale en divorce lui appartient en revanche jusqu'à la dissolution du mariage et qu'en énonçant, au contraire, que la femme n'était plus recevable à présenter une demande en divorce à compter de la demande de conversion formée par le mari, la cour d'appel aurait violé l'article 242 du Code  ; alors que, d'autre part, en énonçant que la demande en divorce formée par la femme le 9 août 1989 constituait une demande reconventionnelle prohibée par l'article 1142 du nouveau Code de procédure civile, tout en relevant, par ailleurs, que celle-ci avait été présentée par voie d'assignation et faisait suite à une ordonnance de non-conciliation du 19 janvier 1989 ayant autorisé la femme à assigner le mari en divorce pour faute, la cour d'appel n'aurait pas tiré les conséquences légales de ses propres constatations au regard des articles 68, 1106, 1107 et 1111 du nouveau Code de procédure civile, et, partant, aurait violé les textes précités ;\\n   Mais attendu qu'ayant relevé que le mari avait assigné sa femme en conversion de la séparation de corps antérieurement à l'assignation en divorce pour faute, la cour d'appel, a, à bon droit, qualifié la demande de l'épouse en demande reconventionnelle au sens de l'article 1142 du nouveau Code de procédure civile et décidé qu'elle devait être déclarée irrecevable ;\\n   D'où il suit que le moyen n'est pas fondé ;\\n   Sur le moyen unique du pourvoi principal : (sans intérêt) ;\\n         PAR CES MOTIFS :\\n   REJETTE le pourvoi.\\n\\n\\n\"",
     "output_type": "error",
     "traceback": [
      "\u001b[0;31m---------------------------------------------------------------------------\u001b[0m",
      "\u001b[0;31mValueError\u001b[0m                                Traceback (most recent call last)",
      "\u001b[0;32m<ipython-input-22-bd56c024b4f4>\u001b[0m in \u001b[0;36m<module>\u001b[0;34m\u001b[0m\n\u001b[1;32m      1\u001b[0m \u001b[0mrnd_clf\u001b[0m \u001b[0;34m=\u001b[0m \u001b[0mRandomForestClassifier\u001b[0m\u001b[0;34m(\u001b[0m\u001b[0mrandom_state\u001b[0m\u001b[0;34m=\u001b[0m\u001b[0;36m42\u001b[0m\u001b[0;34m,\u001b[0m \u001b[0mn_estimators\u001b[0m\u001b[0;34m=\u001b[0m\u001b[0;36m100\u001b[0m\u001b[0;34m)\u001b[0m\u001b[0;34m\u001b[0m\u001b[0m\n\u001b[0;32m----> 2\u001b[0;31m \u001b[0mrnd_clf\u001b[0m\u001b[0;34m.\u001b[0m\u001b[0mfit\u001b[0m\u001b[0;34m(\u001b[0m\u001b[0mX_train\u001b[0m\u001b[0;34m,\u001b[0m \u001b[0my_train\u001b[0m\u001b[0;34m)\u001b[0m\u001b[0;34m\u001b[0m\u001b[0m\n\u001b[0m\u001b[1;32m      3\u001b[0m \u001b[0my_pred\u001b[0m \u001b[0;34m=\u001b[0m \u001b[0mrnd_clf\u001b[0m\u001b[0;34m.\u001b[0m\u001b[0mpredict\u001b[0m\u001b[0;34m(\u001b[0m\u001b[0mX_test\u001b[0m\u001b[0;34m)\u001b[0m\u001b[0;34m\u001b[0m\u001b[0m\n",
      "\u001b[0;32m~/.local/lib/python3.6/site-packages/sklearn/ensemble/forest.py\u001b[0m in \u001b[0;36mfit\u001b[0;34m(self, X, y, sample_weight)\u001b[0m\n\u001b[1;32m    250\u001b[0m \u001b[0;34m\u001b[0m\u001b[0m\n\u001b[1;32m    251\u001b[0m         \u001b[0;31m# Validate or convert input data\u001b[0m\u001b[0;34m\u001b[0m\u001b[0;34m\u001b[0m\u001b[0m\n\u001b[0;32m--> 252\u001b[0;31m         \u001b[0mX\u001b[0m \u001b[0;34m=\u001b[0m \u001b[0mcheck_array\u001b[0m\u001b[0;34m(\u001b[0m\u001b[0mX\u001b[0m\u001b[0;34m,\u001b[0m \u001b[0maccept_sparse\u001b[0m\u001b[0;34m=\u001b[0m\u001b[0;34m\"csc\"\u001b[0m\u001b[0;34m,\u001b[0m \u001b[0mdtype\u001b[0m\u001b[0;34m=\u001b[0m\u001b[0mDTYPE\u001b[0m\u001b[0;34m)\u001b[0m\u001b[0;34m\u001b[0m\u001b[0m\n\u001b[0m\u001b[1;32m    253\u001b[0m         \u001b[0my\u001b[0m \u001b[0;34m=\u001b[0m \u001b[0mcheck_array\u001b[0m\u001b[0;34m(\u001b[0m\u001b[0my\u001b[0m\u001b[0;34m,\u001b[0m \u001b[0maccept_sparse\u001b[0m\u001b[0;34m=\u001b[0m\u001b[0;34m'csc'\u001b[0m\u001b[0;34m,\u001b[0m \u001b[0mensure_2d\u001b[0m\u001b[0;34m=\u001b[0m\u001b[0;32mFalse\u001b[0m\u001b[0;34m,\u001b[0m \u001b[0mdtype\u001b[0m\u001b[0;34m=\u001b[0m\u001b[0;32mNone\u001b[0m\u001b[0;34m)\u001b[0m\u001b[0;34m\u001b[0m\u001b[0m\n\u001b[1;32m    254\u001b[0m         \u001b[0;32mif\u001b[0m \u001b[0msample_weight\u001b[0m \u001b[0;32mis\u001b[0m \u001b[0;32mnot\u001b[0m \u001b[0;32mNone\u001b[0m\u001b[0;34m:\u001b[0m\u001b[0;34m\u001b[0m\u001b[0m\n",
      "\u001b[0;32m~/.local/lib/python3.6/site-packages/sklearn/utils/validation.py\u001b[0m in \u001b[0;36mcheck_array\u001b[0;34m(array, accept_sparse, accept_large_sparse, dtype, order, copy, force_all_finite, ensure_2d, allow_nd, ensure_min_samples, ensure_min_features, warn_on_dtype, estimator)\u001b[0m\n\u001b[1;32m    520\u001b[0m             \u001b[0;32mtry\u001b[0m\u001b[0;34m:\u001b[0m\u001b[0;34m\u001b[0m\u001b[0m\n\u001b[1;32m    521\u001b[0m                 \u001b[0mwarnings\u001b[0m\u001b[0;34m.\u001b[0m\u001b[0msimplefilter\u001b[0m\u001b[0;34m(\u001b[0m\u001b[0;34m'error'\u001b[0m\u001b[0;34m,\u001b[0m \u001b[0mComplexWarning\u001b[0m\u001b[0;34m)\u001b[0m\u001b[0;34m\u001b[0m\u001b[0m\n\u001b[0;32m--> 522\u001b[0;31m                 \u001b[0marray\u001b[0m \u001b[0;34m=\u001b[0m \u001b[0mnp\u001b[0m\u001b[0;34m.\u001b[0m\u001b[0masarray\u001b[0m\u001b[0;34m(\u001b[0m\u001b[0marray\u001b[0m\u001b[0;34m,\u001b[0m \u001b[0mdtype\u001b[0m\u001b[0;34m=\u001b[0m\u001b[0mdtype\u001b[0m\u001b[0;34m,\u001b[0m \u001b[0morder\u001b[0m\u001b[0;34m=\u001b[0m\u001b[0morder\u001b[0m\u001b[0;34m)\u001b[0m\u001b[0;34m\u001b[0m\u001b[0m\n\u001b[0m\u001b[1;32m    523\u001b[0m             \u001b[0;32mexcept\u001b[0m \u001b[0mComplexWarning\u001b[0m\u001b[0;34m:\u001b[0m\u001b[0;34m\u001b[0m\u001b[0m\n\u001b[1;32m    524\u001b[0m                 raise ValueError(\"Complex data not supported\\n\"\n",
      "\u001b[0;32m~/.local/lib/python3.6/site-packages/numpy/core/numeric.py\u001b[0m in \u001b[0;36masarray\u001b[0;34m(a, dtype, order)\u001b[0m\n\u001b[1;32m    499\u001b[0m \u001b[0;34m\u001b[0m\u001b[0m\n\u001b[1;32m    500\u001b[0m     \"\"\"\n\u001b[0;32m--> 501\u001b[0;31m     \u001b[0;32mreturn\u001b[0m \u001b[0marray\u001b[0m\u001b[0;34m(\u001b[0m\u001b[0ma\u001b[0m\u001b[0;34m,\u001b[0m \u001b[0mdtype\u001b[0m\u001b[0;34m,\u001b[0m \u001b[0mcopy\u001b[0m\u001b[0;34m=\u001b[0m\u001b[0;32mFalse\u001b[0m\u001b[0;34m,\u001b[0m \u001b[0morder\u001b[0m\u001b[0;34m=\u001b[0m\u001b[0morder\u001b[0m\u001b[0;34m)\u001b[0m\u001b[0;34m\u001b[0m\u001b[0m\n\u001b[0m\u001b[1;32m    502\u001b[0m \u001b[0;34m\u001b[0m\u001b[0m\n\u001b[1;32m    503\u001b[0m \u001b[0;34m\u001b[0m\u001b[0m\n",
      "\u001b[0;31mValueError\u001b[0m: could not convert string to float: \"\\nSur le moyen unique du pourvoi incident, qui est préalable :\\n   Attendu, selon l'arrêt attaqué qu'un tribunal de grande instance a prononcé la séparation de corps des époux X... aux torts de l'épouse ; que, par assignation du 21 juillet 1989, le mari a assigné sa femme aux fins de conversion de la séparation de corps en divorce ; que, par assignation en date du 2 août 1989, Mme X..., autorisée par une ordonnance de non-conciliation du 19 janvier 1989, a assigné son mari en divorce pour faute ; qu'après jonction de ces deux procédures, le tribunal de grande instance a prononcé la conversion de la séparation de corps en divorce aux torts de la femme, et, accueillant la demande en divorce de celle-ci, prononcé également le divorce à son profit ; qu'ensuite le Tribunal a constaté que les époux étaient ainsi divorcés aux torts partagés ;\\n   Attendu qu'il est fait grief à l'arrêt infirmatif attaqué d'avoir déclaré irrecevable la demande en divorce de la femme, alors que, d'une part, s'il est interdit à l'époux contre lequel la séparation de corps a été prononcée de greffer sur la demande de conversion de la séparation de corps en divorce formée par son conjoint une demande reconventionnelle visant à obtenir le prononcé du divorce à son profit, la conversion de plein droit prévue par les articles 306 et 308 du Code  consistant uniquement à transformer le jugement de séparation de corps en jugement de divorce, sans possibilité pour le juge de modifier l'attribution des torts, le droit de former une action principale en divorce lui appartient en revanche jusqu'à la dissolution du mariage et qu'en énonçant, au contraire, que la femme n'était plus recevable à présenter une demande en divorce à compter de la demande de conversion formée par le mari, la cour d'appel aurait violé l'article 242 du Code  ; alors que, d'autre part, en énonçant que la demande en divorce formée par la femme le 9 août 1989 constituait une demande reconventionnelle prohibée par l'article 1142 du nouveau Code de procédure civile, tout en relevant, par ailleurs, que celle-ci avait été présentée par voie d'assignation et faisait suite à une ordonnance de non-conciliation du 19 janvier 1989 ayant autorisé la femme à assigner le mari en divorce pour faute, la cour d'appel n'aurait pas tiré les conséquences légales de ses propres constatations au regard des articles 68, 1106, 1107 et 1111 du nouveau Code de procédure civile, et, partant, aurait violé les textes précités ;\\n   Mais attendu qu'ayant relevé que le mari avait assigné sa femme en conversion de la séparation de corps antérieurement à l'assignation en divorce pour faute, la cour d'appel, a, à bon droit, qualifié la demande de l'épouse en demande reconventionnelle au sens de l'article 1142 du nouveau Code de procédure civile et décidé qu'elle devait être déclarée irrecevable ;\\n   D'où il suit que le moyen n'est pas fondé ;\\n   Sur le moyen unique du pourvoi principal : (sans intérêt) ;\\n         PAR CES MOTIFS :\\n   REJETTE le pourvoi.\\n\\n\\n\""
     ]
    }
   ],
   "source": [
    "rnd_clf = RandomForestClassifier(random_state=42, n_estimators=100)\n",
    "rnd_clf.fit(X_train, y_train)\n",
    "y_pred = rnd_clf.predict(X_test)"
   ]
  },
  {
   "cell_type": "code",
   "execution_count": 153,
   "metadata": {},
   "outputs": [],
   "source": [
    "rnd_clf = RandomForestClassifier(random_state=42, n_estimators=100)\n",
    "\n",
    "ada_clf= AdaBoostClassifier(\n",
    "    DecisionTreeClassifier(max_depth=1), n_estimators=100,\n",
    "    algorithm=\"SAMME.R\", learning_rate=0.5, random_state=42)\n",
    "\n",
    "gdb_clf = GradientBoostingClassifier(random_state=42, n_estimators=100)\n",
    "\n",
    "voting_clf = VotingClassifier(\n",
    "    estimators=[('rfc', rnd_clf), ('abc', ada_clf), ('gbr', gdb_clf)],\n",
    "    voting='hard')"
   ]
  },
  {
   "cell_type": "code",
   "execution_count": 154,
   "metadata": {},
   "outputs": [
    {
     "ename": "ValueError",
     "evalue": "could not convert string to float: 'sur le moyen unique du pourvoi incident qui est préalable    attendu selon l arrêt attaqué qu un tribunal de grande instance a prononcé la séparation de corps des époux x aux torts de l épouse  que par assignation du 21 juillet 1989 le mari a assigné sa femme aux fins de conversion de la séparation de corps en divorce  que par assignation en date du 2 août 1989 mme x autorisée par une ordonnance de nonconciliation du 19 janvier 1989 a assigné son mari en divorce pour faute  qu après jonction de ces deux procédures le tribunal de grande instance a prononcé la conversion de la séparation de corps en divorce aux torts de la femme et accueillant la demande en divorce de celleci prononcé également le divorce à son profit  qu ensuite le tribunal a constaté que les époux étaient ainsi divorcés aux torts partagés    attendu qu il est fait grief à l arrêt infirmatif attaqué d avoir déclaré irrecevable la demande en divorce de la femme alors que d une part s il est interdit à l époux contre lequel la séparation de corps a été prononcée de greffer sur la demande de conversion de la séparation de corps en divorce formée par son conjoint une demande reconventionnelle visant à obtenir le prononcé du divorce à son profit la conversion de plein droit prévue par les articles 306 et 308 du code  consistant uniquement à transformer le jugement de séparation de corps en jugement de divorce sans possibilité pour le juge de modifier l attribution des torts le droit de former une action principale en divorce lui appartient en revanche jusqu à la dissolution du mariage et qu en énonçant au contraire que la femme n était plus recevable à présenter une demande en divorce à compter de la demande de conversion formée par le mari la cour d appel aurait violé l article 242 du code   alors que d autre part en énonçant que la demande en divorce formée par la femme le 9 août 1989 constituait une demande reconventionnelle prohibée par l article 1142 du nouveau code de procédure *_* tout en relevant par ailleurs que celleci avait été présentée par voie d assignation et faisait suite à une ordonnance de nonconciliation du 19 janvier 1989 ayant autorisé la femme à assigner le mari en divorce pour faute la cour d appel n aurait pas tiré les conséquences légales de ses propres constatations au regard des articles 68 1106 1107 et 1111 du nouveau code de procédure *_* et partant aurait violé les textes précités    mais attendu qu ayant relevé que le mari avait assigné sa femme en conversion de la séparation de corps antérieurement à l assignation en divorce pour faute la cour d appel a à bon droit qualifié la demande de l épouse en demande reconventionnelle au sens de l article 1142 du nouveau code de procédure *_* et décidé qu elle devait être déclarée irrecevable    d où il suit que le moyen n est pas fondé    sur le moyen unique du pourvoi principal  sans intérêt          par ces motifs    rejette le pourvoi'",
     "output_type": "error",
     "traceback": [
      "\u001b[0;31m---------------------------------------------------------------------------\u001b[0m",
      "\u001b[0;31mValueError\u001b[0m                                Traceback (most recent call last)",
      "\u001b[0;32m<ipython-input-154-ff71eadff600>\u001b[0m in \u001b[0;36m<module>\u001b[0;34m\u001b[0m\n\u001b[1;32m      1\u001b[0m \u001b[0;32mfor\u001b[0m \u001b[0mclf\u001b[0m \u001b[0;32min\u001b[0m \u001b[0;34m(\u001b[0m\u001b[0mrnd_clf\u001b[0m\u001b[0;34m,\u001b[0m \u001b[0mada_clf\u001b[0m\u001b[0;34m,\u001b[0m \u001b[0mgdb_clf\u001b[0m\u001b[0;34m,\u001b[0m \u001b[0mvoting_clf\u001b[0m\u001b[0;34m)\u001b[0m\u001b[0;34m:\u001b[0m\u001b[0;34m\u001b[0m\u001b[0m\n\u001b[0;32m----> 2\u001b[0;31m     \u001b[0mclf\u001b[0m\u001b[0;34m.\u001b[0m\u001b[0mfit\u001b[0m\u001b[0;34m(\u001b[0m\u001b[0mX_train\u001b[0m\u001b[0;34m,\u001b[0m \u001b[0my_train\u001b[0m\u001b[0;34m)\u001b[0m\u001b[0;34m\u001b[0m\u001b[0m\n\u001b[0m\u001b[1;32m      3\u001b[0m     \u001b[0my_pred\u001b[0m \u001b[0;34m=\u001b[0m \u001b[0mclf\u001b[0m\u001b[0;34m.\u001b[0m\u001b[0mpredict\u001b[0m\u001b[0;34m(\u001b[0m\u001b[0mX_test\u001b[0m\u001b[0;34m)\u001b[0m\u001b[0;34m\u001b[0m\u001b[0m\n\u001b[1;32m      4\u001b[0m     \u001b[0mprint\u001b[0m\u001b[0;34m(\u001b[0m\u001b[0mclf\u001b[0m\u001b[0;34m.\u001b[0m\u001b[0m__class__\u001b[0m\u001b[0;34m.\u001b[0m\u001b[0m__name__\u001b[0m\u001b[0;34m,\u001b[0m \u001b[0maccuracy_score\u001b[0m\u001b[0;34m(\u001b[0m\u001b[0my_test\u001b[0m\u001b[0;34m,\u001b[0m \u001b[0my_pred\u001b[0m\u001b[0;34m)\u001b[0m\u001b[0;34m)\u001b[0m\u001b[0;34m\u001b[0m\u001b[0m\n",
      "\u001b[0;32m~/.local/lib/python3.6/site-packages/sklearn/ensemble/forest.py\u001b[0m in \u001b[0;36mfit\u001b[0;34m(self, X, y, sample_weight)\u001b[0m\n\u001b[1;32m    250\u001b[0m \u001b[0;34m\u001b[0m\u001b[0m\n\u001b[1;32m    251\u001b[0m         \u001b[0;31m# Validate or convert input data\u001b[0m\u001b[0;34m\u001b[0m\u001b[0;34m\u001b[0m\u001b[0m\n\u001b[0;32m--> 252\u001b[0;31m         \u001b[0mX\u001b[0m \u001b[0;34m=\u001b[0m \u001b[0mcheck_array\u001b[0m\u001b[0;34m(\u001b[0m\u001b[0mX\u001b[0m\u001b[0;34m,\u001b[0m \u001b[0maccept_sparse\u001b[0m\u001b[0;34m=\u001b[0m\u001b[0;34m\"csc\"\u001b[0m\u001b[0;34m,\u001b[0m \u001b[0mdtype\u001b[0m\u001b[0;34m=\u001b[0m\u001b[0mDTYPE\u001b[0m\u001b[0;34m)\u001b[0m\u001b[0;34m\u001b[0m\u001b[0m\n\u001b[0m\u001b[1;32m    253\u001b[0m         \u001b[0my\u001b[0m \u001b[0;34m=\u001b[0m \u001b[0mcheck_array\u001b[0m\u001b[0;34m(\u001b[0m\u001b[0my\u001b[0m\u001b[0;34m,\u001b[0m \u001b[0maccept_sparse\u001b[0m\u001b[0;34m=\u001b[0m\u001b[0;34m'csc'\u001b[0m\u001b[0;34m,\u001b[0m \u001b[0mensure_2d\u001b[0m\u001b[0;34m=\u001b[0m\u001b[0;32mFalse\u001b[0m\u001b[0;34m,\u001b[0m \u001b[0mdtype\u001b[0m\u001b[0;34m=\u001b[0m\u001b[0;32mNone\u001b[0m\u001b[0;34m)\u001b[0m\u001b[0;34m\u001b[0m\u001b[0m\n\u001b[1;32m    254\u001b[0m         \u001b[0;32mif\u001b[0m \u001b[0msample_weight\u001b[0m \u001b[0;32mis\u001b[0m \u001b[0;32mnot\u001b[0m \u001b[0;32mNone\u001b[0m\u001b[0;34m:\u001b[0m\u001b[0;34m\u001b[0m\u001b[0m\n",
      "\u001b[0;32m~/.local/lib/python3.6/site-packages/sklearn/utils/validation.py\u001b[0m in \u001b[0;36mcheck_array\u001b[0;34m(array, accept_sparse, accept_large_sparse, dtype, order, copy, force_all_finite, ensure_2d, allow_nd, ensure_min_samples, ensure_min_features, warn_on_dtype, estimator)\u001b[0m\n\u001b[1;32m    520\u001b[0m             \u001b[0;32mtry\u001b[0m\u001b[0;34m:\u001b[0m\u001b[0;34m\u001b[0m\u001b[0m\n\u001b[1;32m    521\u001b[0m                 \u001b[0mwarnings\u001b[0m\u001b[0;34m.\u001b[0m\u001b[0msimplefilter\u001b[0m\u001b[0;34m(\u001b[0m\u001b[0;34m'error'\u001b[0m\u001b[0;34m,\u001b[0m \u001b[0mComplexWarning\u001b[0m\u001b[0;34m)\u001b[0m\u001b[0;34m\u001b[0m\u001b[0m\n\u001b[0;32m--> 522\u001b[0;31m                 \u001b[0marray\u001b[0m \u001b[0;34m=\u001b[0m \u001b[0mnp\u001b[0m\u001b[0;34m.\u001b[0m\u001b[0masarray\u001b[0m\u001b[0;34m(\u001b[0m\u001b[0marray\u001b[0m\u001b[0;34m,\u001b[0m \u001b[0mdtype\u001b[0m\u001b[0;34m=\u001b[0m\u001b[0mdtype\u001b[0m\u001b[0;34m,\u001b[0m \u001b[0morder\u001b[0m\u001b[0;34m=\u001b[0m\u001b[0morder\u001b[0m\u001b[0;34m)\u001b[0m\u001b[0;34m\u001b[0m\u001b[0m\n\u001b[0m\u001b[1;32m    523\u001b[0m             \u001b[0;32mexcept\u001b[0m \u001b[0mComplexWarning\u001b[0m\u001b[0;34m:\u001b[0m\u001b[0;34m\u001b[0m\u001b[0m\n\u001b[1;32m    524\u001b[0m                 raise ValueError(\"Complex data not supported\\n\"\n",
      "\u001b[0;32m~/.local/lib/python3.6/site-packages/numpy/core/numeric.py\u001b[0m in \u001b[0;36masarray\u001b[0;34m(a, dtype, order)\u001b[0m\n\u001b[1;32m    499\u001b[0m \u001b[0;34m\u001b[0m\u001b[0m\n\u001b[1;32m    500\u001b[0m     \"\"\"\n\u001b[0;32m--> 501\u001b[0;31m     \u001b[0;32mreturn\u001b[0m \u001b[0marray\u001b[0m\u001b[0;34m(\u001b[0m\u001b[0ma\u001b[0m\u001b[0;34m,\u001b[0m \u001b[0mdtype\u001b[0m\u001b[0;34m,\u001b[0m \u001b[0mcopy\u001b[0m\u001b[0;34m=\u001b[0m\u001b[0;32mFalse\u001b[0m\u001b[0;34m,\u001b[0m \u001b[0morder\u001b[0m\u001b[0;34m=\u001b[0m\u001b[0morder\u001b[0m\u001b[0;34m)\u001b[0m\u001b[0;34m\u001b[0m\u001b[0m\n\u001b[0m\u001b[1;32m    502\u001b[0m \u001b[0;34m\u001b[0m\u001b[0m\n\u001b[1;32m    503\u001b[0m \u001b[0;34m\u001b[0m\u001b[0m\n",
      "\u001b[0;31mValueError\u001b[0m: could not convert string to float: 'sur le moyen unique du pourvoi incident qui est préalable    attendu selon l arrêt attaqué qu un tribunal de grande instance a prononcé la séparation de corps des époux x aux torts de l épouse  que par assignation du 21 juillet 1989 le mari a assigné sa femme aux fins de conversion de la séparation de corps en divorce  que par assignation en date du 2 août 1989 mme x autorisée par une ordonnance de nonconciliation du 19 janvier 1989 a assigné son mari en divorce pour faute  qu après jonction de ces deux procédures le tribunal de grande instance a prononcé la conversion de la séparation de corps en divorce aux torts de la femme et accueillant la demande en divorce de celleci prononcé également le divorce à son profit  qu ensuite le tribunal a constaté que les époux étaient ainsi divorcés aux torts partagés    attendu qu il est fait grief à l arrêt infirmatif attaqué d avoir déclaré irrecevable la demande en divorce de la femme alors que d une part s il est interdit à l époux contre lequel la séparation de corps a été prononcée de greffer sur la demande de conversion de la séparation de corps en divorce formée par son conjoint une demande reconventionnelle visant à obtenir le prononcé du divorce à son profit la conversion de plein droit prévue par les articles 306 et 308 du code  consistant uniquement à transformer le jugement de séparation de corps en jugement de divorce sans possibilité pour le juge de modifier l attribution des torts le droit de former une action principale en divorce lui appartient en revanche jusqu à la dissolution du mariage et qu en énonçant au contraire que la femme n était plus recevable à présenter une demande en divorce à compter de la demande de conversion formée par le mari la cour d appel aurait violé l article 242 du code   alors que d autre part en énonçant que la demande en divorce formée par la femme le 9 août 1989 constituait une demande reconventionnelle prohibée par l article 1142 du nouveau code de procédure *_* tout en relevant par ailleurs que celleci avait été présentée par voie d assignation et faisait suite à une ordonnance de nonconciliation du 19 janvier 1989 ayant autorisé la femme à assigner le mari en divorce pour faute la cour d appel n aurait pas tiré les conséquences légales de ses propres constatations au regard des articles 68 1106 1107 et 1111 du nouveau code de procédure *_* et partant aurait violé les textes précités    mais attendu qu ayant relevé que le mari avait assigné sa femme en conversion de la séparation de corps antérieurement à l assignation en divorce pour faute la cour d appel a à bon droit qualifié la demande de l épouse en demande reconventionnelle au sens de l article 1142 du nouveau code de procédure *_* et décidé qu elle devait être déclarée irrecevable    d où il suit que le moyen n est pas fondé    sur le moyen unique du pourvoi principal  sans intérêt          par ces motifs    rejette le pourvoi'"
     ]
    }
   ],
   "source": [
    "for clf in (rnd_clf, ada_clf, gdb_clf, voting_clf):\n",
    "    clf.fit(X_train, y_train)\n",
    "    y_pred = clf.predict(X_test)\n",
    "    print(clf.__class__.__name__, accuracy_score(y_test, y_pred))"
   ]
  },
  {
   "cell_type": "code",
   "execution_count": null,
   "metadata": {},
   "outputs": [],
   "source": []
  }
 ],
 "metadata": {
  "kernelspec": {
   "display_name": "Python 3",
   "language": "python",
   "name": "python3"
  },
  "language_info": {
   "codemirror_mode": {
    "name": "ipython",
    "version": 3
   },
   "file_extension": ".py",
   "mimetype": "text/x-python",
   "name": "python",
   "nbconvert_exporter": "python",
   "pygments_lexer": "ipython3",
   "version": "3.6.5"
  }
 },
 "nbformat": 4,
 "nbformat_minor": 2
}
