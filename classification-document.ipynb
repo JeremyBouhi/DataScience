{
 "cells": [
  {
   "cell_type": "markdown",
   "metadata": {},
   "source": [
    "Project by Jeremy Bouhi & Lucas Trevalinet\n",
    "\n",
    "### Classification Document\n"
   ]
  },
  {
   "cell_type": "code",
   "execution_count": 2,
   "metadata": {},
   "outputs": [],
   "source": [
    "# Imports\n",
    "\n",
    "import numpy as np\n",
    "import pandas as pd\n",
    "import os\n",
    "import xml.etree.ElementTree as ET"
   ]
  },
  {
   "cell_type": "code",
   "execution_count": 35,
   "metadata": {},
   "outputs": [],
   "source": [
    "# STEP 1 : GRAB DATA\n",
    "# We consider you had already unzip the dataset file and that this file is in the parent folder\n",
    "\n",
    "DATA_PATH = os.path.join(\"..\",\"20180315-170000\", \"juri\",\"cass\",\"global\",\"civile\",\"JURI\",\"TEXT\",\"00\",\"00\",\"06\",\"95\",\"15\", \"JURITEXT000006951557.xml\")\n",
    "\n",
    "\n",
    "etree = ET.parse(DATA_PATH) #create an ElementTree object \n",
    "root = etree.getroot()"
   ]
  },
  {
   "cell_type": "code",
   "execution_count": 36,
   "metadata": {},
   "outputs": [
    {
     "name": "stdout",
     "output_type": "stream",
     "text": [
      "<Element 'TEXTE_JURI_JUDI' at 0x7f0d04f22368>\n",
      "TEXTE_JURI_JUDI\n",
      "{}\n",
      "<xml.etree.ElementTree.ElementTree object at 0x7f0d04f1ef98>\n"
     ]
    }
   ],
   "source": [
    "print(root)\n",
    "print(root.tag)\n",
    "print(root.attrib)\n",
    "\n",
    "print(etree)\n"
   ]
  },
  {
   "cell_type": "code",
   "execution_count": 57,
   "metadata": {},
   "outputs": [
    {
     "name": "stdout",
     "output_type": "stream",
     "text": [
      "['JURITEXT000006951557', \"ANNULATION, sur la demande du sieur Prosper X..., avoué, d'un arrêt rendu, par la Cour royale de Rouen, le 18 février 1842, au profit du sieur Y... et autres.\", 'CHAMBRE_CIVILE']\n"
     ]
    }
   ],
   "source": [
    "#data = np.matrix()\n",
    "\n",
    "X = []\n",
    "\n",
    "for child in root.iter('META_COMMUN'):\n",
    "    id = child.find('ID').text\n",
    "    X.append(id)\n",
    "    \n",
    "for child in root.iter('BLOC_TEXTUEL'):\n",
    "    text = child.find('CONTENU').text\n",
    "    X.append(text)\n",
    "\n",
    "for child in root.iter('META_JURI_JUDI'):\n",
    "    division = child.find('FORMATION').text\n",
    "    X.append(division)\n",
    "    \n",
    "print(X)"
   ]
  },
  {
   "cell_type": "code",
   "execution_count": 58,
   "metadata": {},
   "outputs": [
    {
     "data": {
      "text/html": [
       "<div>\n",
       "<style scoped>\n",
       "    .dataframe tbody tr th:only-of-type {\n",
       "        vertical-align: middle;\n",
       "    }\n",
       "\n",
       "    .dataframe tbody tr th {\n",
       "        vertical-align: top;\n",
       "    }\n",
       "\n",
       "    .dataframe thead th {\n",
       "        text-align: right;\n",
       "    }\n",
       "</style>\n",
       "<table border=\"1\" class=\"dataframe\">\n",
       "  <thead>\n",
       "    <tr style=\"text-align: right;\">\n",
       "      <th></th>\n",
       "      <th>id</th>\n",
       "      <th>text</th>\n",
       "      <th>division</th>\n",
       "    </tr>\n",
       "  </thead>\n",
       "  <tbody>\n",
       "    <tr>\n",
       "      <th>0</th>\n",
       "      <td>JURITEXT000006951557</td>\n",
       "      <td>ANNULATION, sur la demande du sieur Prosper X....</td>\n",
       "      <td>CHAMBRE_CIVILE</td>\n",
       "    </tr>\n",
       "  </tbody>\n",
       "</table>\n",
       "</div>"
      ],
      "text/plain": [
       "                     id                                               text  \\\n",
       "0  JURITEXT000006951557  ANNULATION, sur la demande du sieur Prosper X....   \n",
       "\n",
       "         division  \n",
       "0  CHAMBRE_CIVILE  "
      ]
     },
     "execution_count": 58,
     "metadata": {},
     "output_type": "execute_result"
    }
   ],
   "source": [
    "# STEP 2 : CREATE DATAFRAME TO MANIPULATE EASILY DATA\n",
    "\n",
    "data = ([X])\n",
    "\n",
    "df = pd.DataFrame(data, columns=['id', 'text', 'division'])\n",
    "df"
   ]
  },
  {
   "cell_type": "code",
   "execution_count": null,
   "metadata": {},
   "outputs": [],
   "source": [
    "# STEP 3 : CLEAN DATA"
   ]
  }
 ],
 "metadata": {
  "kernelspec": {
   "display_name": "Python 3",
   "language": "python",
   "name": "python3"
  },
  "language_info": {
   "codemirror_mode": {
    "name": "ipython",
    "version": 3
   },
   "file_extension": ".py",
   "mimetype": "text/x-python",
   "name": "python",
   "nbconvert_exporter": "python",
   "pygments_lexer": "ipython3",
   "version": "3.6.5"
  }
 },
 "nbformat": 4,
 "nbformat_minor": 2
}
