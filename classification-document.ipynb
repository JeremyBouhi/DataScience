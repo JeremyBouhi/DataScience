{
 "cells": [
  {
   "cell_type": "markdown",
   "metadata": {},
   "source": [
    "Project by Jeremy Bouhi & Lucas Trevalinet\n",
    "\n",
    "# Classification Document\n"
   ]
  },
  {
   "cell_type": "markdown",
   "metadata": {},
   "source": [
    "## Imports"
   ]
  },
  {
   "cell_type": "code",
   "execution_count": 1,
   "metadata": {},
   "outputs": [],
   "source": [
    "import numpy as np\n",
    "import pandas as pd\n",
    "import os\n",
    "import xml.etree.ElementTree as ET\n",
    "from pathlib import Path\n",
    "import re"
   ]
  },
  {
   "cell_type": "markdown",
   "metadata": {},
   "source": [
    "## STEP 1 : Grab Data"
   ]
  },
  {
   "cell_type": "code",
   "execution_count": 2,
   "metadata": {},
   "outputs": [],
   "source": [
    "# We consider you had already unzip the dataset file and that this file is in the parent folder\n",
    "\n",
    "#GLOBAL_PATH = os.path.join(\"Freemium_cass_global_20180315-170000\",\"20180315-170000\", \"juri\",\"cass\",\"global\") #Lucas' Path\n",
    "GLOBAL_PATH = os.path.join(\"..\",\"20180315-170000\", \"juri\",\"cass\",\"global\") #Jeremy's Path\n",
    "\n",
    "# We need to do that for excluding data from Juri_path\n",
    "CIVILE_PATH = os.path.join(GLOBAL_PATH,\"civile\")\n",
    "COMMERCIALE_PATH = os.path.join(GLOBAL_PATH,\"commerciale\")\n",
    "CRIMINELLE_PATH = os.path.join(GLOBAL_PATH,\"criminelle\")\n",
    "SOCIALE_PATH = os.path.join(GLOBAL_PATH,\"sociale\")"
   ]
  },
  {
   "cell_type": "code",
   "execution_count": 3,
   "metadata": {},
   "outputs": [],
   "source": [
    "ident = []\n",
    "text = []\n",
    "division = []\n",
    "DATA_PATH = [CIVILE_PATH] # For faster test\n",
    "#DATA_PATH = [CIVILE_PATH, COMMERCIALE_PATH, CRIMINELLE_PATH, SOCIALE_PATH]\n",
    "\n",
    "for DIVISION_PATH in DATA_PATH :\n",
    "    xml_files = list(Path(DIVISION_PATH).glob('**/*.xml'))\n",
    "    \n",
    "    for xml_file in xml_files:\n",
    "    \n",
    "        with open(xml_file, 'r', encoding=\"utf-8\") as content:\n",
    "\n",
    "            etree = ET.parse(content) #create an ElementTree object \n",
    "            root = etree.getroot()\n",
    "            \n",
    "            # For getting the ID\n",
    "            for child in root.iter('META_COMMUN'):\n",
    "                id = child.find('ID').text\n",
    "                ident.append(id)\n",
    "                \n",
    "            # For getting the text\n",
    "            for child in root.iter('BLOC_TEXTUEL'):\n",
    "                contenu = re.sub('<[^<]+?>', '', ET.tostring(child).decode(\"utf-8\"))\n",
    "                text.append(contenu)\n",
    "                \n",
    "            # For getting the division    \n",
    "            for child in root.iter('META_JURI_JUDI'):\n",
    "                formation = re.sub('CHAMBRE|_|[0-9]', '', child.find('FORMATION').text)\n",
    "                division.append(formation)\n",
    "                \n",
    "            "
   ]
  },
  {
   "cell_type": "code",
   "execution_count": 4,
   "metadata": {},
   "outputs": [
    {
     "name": "stdout",
     "output_type": "stream",
     "text": [
      "text:  59250\n",
      "ID:  59250\n",
      "division:  59250\n"
     ]
    }
   ],
   "source": [
    "print (\"text: \", len(text))\n",
    "print (\"ID: \", len(ident))\n",
    "print (\"division: \", len(division))"
   ]
  },
  {
   "cell_type": "markdown",
   "metadata": {},
   "source": [
    "## STEP 2 : Create DataFrame to manipulate easily data"
   ]
  },
  {
   "cell_type": "code",
   "execution_count": 6,
   "metadata": {},
   "outputs": [
    {
     "data": {
      "text/plain": [
       "0        \\nLA COUR DE CASSATION, TROISI&#200;ME CHAMBRE...\n",
       "1        \\nLA COUR DE CASSATION, TROISI&#200;ME CHAMBRE...\n",
       "2        \\nLA COUR DE CASSATION, DEUXI&#200;ME CHAMBRE ...\n",
       "3        \\nLA COUR DE CASSATION, DEUXI&#200;ME CHAMBRE ...\n",
       "4        \\nLA COUR DE CASSATION, DEUXI&#200;ME CHAMBRE ...\n",
       "5        \\nLA COUR DE CASSATION, DEUXI&#200;ME CHAMBRE ...\n",
       "6        \\n\\nLA COUR DE CASSATION, DEUXI&#200;ME CHAMBR...\n",
       "7        \\nLA COUR DE CASSATION, DEUXI&#200;ME CHAMBRE ...\n",
       "8        \\nLA COUR DE CASSATION, PREMI&#200;RE CHAMBRE ...\n",
       "9        \\nLA COUR DE CASSATION, PREMI&#200;RE CHAMBRE ...\n",
       "10       \\nLA COUR DE CASSATION, PREMI&#200;RE CHAMBRE ...\n",
       "11       \\nLA COUR DE CASSATION, TROISI&#200;ME CHAMBRE...\n",
       "12       \\nLA COUR DE CASSATION, TROISI&#200;ME CHAMBRE...\n",
       "13       \\nLA COUR DE CASSATION, TROISI&#200;ME CHAMBRE...\n",
       "14       \\nLA COUR DE CASSATION, TROISI&#200;ME CHAMBRE...\n",
       "15       \\nLA COUR DE CASSATION, DEUXI&#200;ME CHAMBRE ...\n",
       "16       \\nLA COUR DE CASSATION, PREMI&#200;RE CHAMBRE ...\n",
       "17       \\nLA COUR DE CASSATION, PREMI&#200;RE CHAMBRE ...\n",
       "18       \\nLA COUR DE CASSATION, PREMI&#200;RE CHAMBRE ...\n",
       "19       \\nLA COUR DE CASSATION, DEUXI&#200;ME CHAMBRE ...\n",
       "20       \\nLA COUR DE CASSATION, DEUXI&#200;ME CHAMBRE ...\n",
       "21       \\nLA COUR DE CASSATION, DEUXI&#200;ME CHAMBRE ...\n",
       "22       \\nLA COUR DE CASSATION, PREMI&#200;RE CHAMBRE ...\n",
       "23       \\nLA COUR DE CASSATION, DEUXI&#200;ME CHAMBRE ...\n",
       "24       \\nLA COUR DE CASSATION, DEUXI&#200;ME CHAMBRE ...\n",
       "25       \\nLA COUR DE CASSATION, DEUXI&#200;ME CHAMBRE ...\n",
       "26       \\nLA COUR DE CASSATION, DEUXI&#200;ME CHAMBRE ...\n",
       "27       \\nLA COUR DE CASSATION, DEUXI&#200;ME CHAMBRE ...\n",
       "28       \\nLA COUR DE CASSATION, PREMI&#200;RE CHAMBRE ...\n",
       "29       \\nLA COUR DE CASSATION, DEUXI&#200;ME CHAMBRE ...\n",
       "                               ...                        \n",
       "59220    \\nSUR LE MOYEN UNIQUE : ATTENDU QUE LA RESIDEN...\n",
       "59221    \\nSUR LE MOYEN UNIQUE PRIS EN SA PREMIERE BRAN...\n",
       "59222    \\nSUR LE MOYEN UNIQUE: VU L'ARTICLE 1147 DU CO...\n",
       "59223    \\nSUR LE PREMIER MOYEN, PRIS EN SA PREMIER E B...\n",
       "59224    \\nSUR LE PREMIER MOYEN : ATTENDU QU'IL EST FAI...\n",
       "59225    \\nSUR LE MOYEN UNIQUE : VU L'ARTICLE 1134 DU C...\n",
       "59226    \\nSUR LE MOYEN UNIQUE PRIS EN SES TROIS BRANCH...\n",
       "59227    \\nSUR LE PREMIER MOYEN, PRIS EN SES DEUX BRANC...\n",
       "59228    \\nSUR LE MOYEN UNIQUE : VU L'ARTICLE 1384, 1ER...\n",
       "59229    \\nSUR LE MOYEN UNIQUE : ATTENDU QU'IL EST FAIT...\n",
       "59230    \\nSUR LA PREMIERE BRANCHE DU MOYEN UNIQUE : AT...\n",
       "59231    \\nSUR LE MOYEN UNIQUE : ATTENDU QU'IL RESULTE ...\n",
       "59232    \\nSUR LE PREMIER MOYEN, PRIS EN SES DIVERSES B...\n",
       "59233    \\nSUR LE MOYEN UNIQUE PRIS EN SA SECONDE BRANC...\n",
       "59234    \\nSUR LE PREMIER MOYEN, PRIS EN SES TROIS BRAN...\n",
       "59235    \\nJOINT, EN RAISON DE LA CONNEXITE, LES POURVO...\n",
       "59236    \\nSUR LE MOYEN UNIQUE, PRIS EN SES DIVERSES BR...\n",
       "59237    \\nSUR LE MOYEN UNIQUE : ATTENDU QUE FAISANT DR...\n",
       "59238    \\nSUR LE MOYEN UNIQUE, PRIS EN SA PREMIERE BRA...\n",
       "59239    \\nSUR LE PREMIER MOYEN : VU L'ARTICLE 931 DU C...\n",
       "59240    \\nSUR LE MOYEN UNIQUE : ATTENDU QUE LE DEFENDE...\n",
       "59241    \\nSUR LES PREMIER ET DEUXIEME MOYENS REUNIS : ...\n",
       "59242    \\nSUR LE MOYEN UNIQUE, PRIS EN SA PREMIERE BRA...\n",
       "59243    \\nSUR LE MOYEN UNIQUE, PRIS EN SES DIVERSES BR...\n",
       "59244    \\nSUR LE MOYEN UNIQUE : ATTENDU QU'IL RESULTE ...\n",
       "59245    \\nSUR LE PREMIER MOYEN: ATTENDU QU'IL RESULTE ...\n",
       "59246    \\nSUR LE MOYEN UNIQUE, PRIS EN SES DEUX BRANCH...\n",
       "59247    \\nSUR LE MOYEN UNIQUE PRIS EN SA PREMIERE BRAN...\n",
       "59248    \\nSUR LE MOYEN UNIQUE : VU L'ARTICLE 137 DU CO...\n",
       "59249    \\nSUR LE PREMIER MOYEN : ATTENDU QU'IL EST FAI...\n",
       "Name: text, Length: 59250, dtype: object"
      ]
     },
     "execution_count": 6,
     "metadata": {},
     "output_type": "execute_result"
    }
   ],
   "source": [
    "d = {'id': ident, 'text': text, 'division': division}\n",
    "df = pd.DataFrame(data = d)\n",
    "\n",
    "#print('df', df)\n",
    "\n",
    "df[\"text\"]"
   ]
  },
  {
   "cell_type": "markdown",
   "metadata": {},
   "source": [
    "## STEP 3 : Split Data"
   ]
  },
  {
   "cell_type": "code",
   "execution_count": 9,
   "metadata": {},
   "outputs": [
    {
     "name": "stdout",
     "output_type": "stream",
     "text": [
      "19298    \\nSur le moyen unique du pourvoi incident, qui...\n",
      "31218    \\nSur le moyen unique :\\n   Vu l'article 2127 ...\n",
      "28634    \\n\\n   Sur le moyen unique : \\n\\n   Attendu qu...\n",
      "35146                                               \\n\\n\\n\n",
      "22017    \\nSur la recevabilit&#233; du pourvoi contest&...\n",
      "Name: text, dtype: object\n"
     ]
    }
   ],
   "source": [
    "from sklearn.model_selection import train_test_split\n",
    "\n",
    "X_train,X_test,Y_train,Y_test= train_test_split(df[\"text\"],df[\"division\"], test_size = 0.2 ,random_state=42,stratify=df[\"division\"] )\n",
    "print(X_train.head())"
   ]
  },
  {
   "cell_type": "code",
   "execution_count": 8,
   "metadata": {},
   "outputs": [
    {
     "name": "stdout",
     "output_type": "stream",
     "text": [
      "Training size :  47400\n",
      "Testing size :  11850\n"
     ]
    }
   ],
   "source": [
    "print(\"Training size : \",X_train.shape[0])\n",
    "print(\"Testing size : \",X_test.shape[0])"
   ]
  },
  {
   "cell_type": "markdown",
   "metadata": {},
   "source": [
    "## STEP 4 : Clean Data"
   ]
  },
  {
   "cell_type": "code",
   "execution_count": 28,
   "metadata": {},
   "outputs": [],
   "source": [
    "# Set back special characters removed by decode(utf-8) used for grab the whole text (not until the first <br>)\n",
    "def set_back_special_characters(s) : \n",
    "    return s.replace('&#233;', 'é').replace('&#201;', 'é').replace(\"&#234;\",\"ê\").replace(\"&#200;\",\"è\").replace(\"&#232;\",\"è\").replace(\"&#249;\",\"ù\").replace(\"&#224;\",\"à\").replace(\"&#251;\",\"û\").replace('&#226;', 'â').replace('&#238;', 'î').replace('&#239;','ï').replace('&#231;','ç').replace('&#244;','ô').replace('&#176;','°').replace('&#187;','»').replace('&#171;','«').replace('&#8211;','–')"
   ]
  },
  {
   "cell_type": "code",
   "execution_count": 29,
   "metadata": {},
   "outputs": [],
   "source": [
    "X_train = X_train.apply(set_back_special_characters)"
   ]
  },
  {
   "cell_type": "code",
   "execution_count": 62,
   "metadata": {},
   "outputs": [],
   "source": [
    "# Preprocessing step pull off all the htlm tag and \"\\n\"\n",
    "def preprocessor(text):\n",
    "    text = re.sub('<[^>]*>', '', text)\n",
    "    #text2 = text.replace('\\n','').replace('\\'',' ').replace(';','').replace(',','').replace('.','').replace('  ',' ')\n",
    "    return text.replace('[.,\\/#!$%\\^&\\*;:{}=\\-_`~()«»°–]','').replace('\\s{2,}',' ')"
   ]
  },
  {
   "cell_type": "code",
   "execution_count": 63,
   "metadata": {},
   "outputs": [],
   "source": [
    "X_train = X_train.apply(preprocessor)"
   ]
  },
  {
   "cell_type": "code",
   "execution_count": 54,
   "metadata": {},
   "outputs": [],
   "source": [
    "def clean_references_to_law_codes(text) : \n",
    "    return re.sub('(?<=Code )civil|de l action sociale et des familles|de l artisanat|des assurances|de l aviation civile|du cinéma et de l image animée|de commerce|des communes( de la Nouvelle-Calédonie)?|de la consommation', '', text)"
   ]
  },
  {
   "cell_type": "code",
   "execution_count": 55,
   "metadata": {},
   "outputs": [],
   "source": [
    "X_train = X_train.apply(clean_references_to_law_codes)"
   ]
  },
  {
   "cell_type": "code",
   "execution_count": 65,
   "metadata": {},
   "outputs": [],
   "source": [
    "def clean_words_corresponding_to_labels(text) :\n",
    "    return re.sub('criminel(le)?|commercial(e)?|social(e)?|civil(e)?', '*_*', text)"
   ]
  },
  {
   "cell_type": "code",
   "execution_count": 66,
   "metadata": {},
   "outputs": [],
   "source": [
    "X_train = X_train.apply(clean_words_corresponding_to_labels)"
   ]
  },
  {
   "cell_type": "code",
   "execution_count": 56,
   "metadata": {},
   "outputs": [],
   "source": [
    "# Set to lower case\n",
    "def to_lower_case(s) :\n",
    "    return s.lower()"
   ]
  },
  {
   "cell_type": "code",
   "execution_count": 57,
   "metadata": {},
   "outputs": [],
   "source": [
    "X_train = X_train.apply(to_lower_case)"
   ]
  },
  {
   "cell_type": "code",
   "execution_count": 67,
   "metadata": {},
   "outputs": [
    {
     "data": {
      "text/plain": [
       "'la cour de cassation deuxième chambre *_* a rendu l arrêt suivant : sur le premier moyen pris en sa seconde branche : vu l article 13 du titre ii de la loi des 16-24 août 1790 et le décret du 16 fructidor an ii et l article l 142-1 du code de la sécurité *_* ensemble les articles l 254-1 et l 254-2 du code dans leur rédaction applicable à la date des soins litigieuxattendu que les litiges nés de la facturation aux caisses d assurance maladie par les établissements de santé de la part des dépenses prises en charge par l etat pour les soins dispensés au titre des soins urgents dans les conditions prévues par les deux derniers de ces textes se rapportent à l attribution des prestations d aide *_* de l etat et ne sont pas dès lors au nombre des différends auxquels donne lieu au sens du troisième l application des législations et réglementations de sécurité *_* et de mutualité *_* agricoleattendu selon le jugement attaqué rendu en dernier ressort qu ayant dispensé au titre des soins urgents des soins à l enfant mineur samantha x les hôpitaux universitaires de strasbourg en ont sollicité par un titre de recette émis le 11 septembre 2008 la prise en charge par la caisse primaire d assurance maladie du bas-rhin (la caisse)que celle-ci ayant opposé un refus au motif que les soins litigieux relevaient de l aide médicale de l etat l établissement a saisi d un recours une juridiction de sécurité *_*attendu que pour rejeter l exception d incompétence formée par la caisse le jugement énonce que si les litiges sur l attribution de l aide médicale de l etat relèvent de la commission départementale d aide *_* la question soumise au tribunal n est pas de cette naturequ en statuant ainsi alors qu il était saisi par un établissement de santé aux fins de paiement par la caisse de soins urgents dispensés à des mineurs étrangers en situation irrégulière le tribunal a violé les textes susviséset vu l article 627 alinéa 2 du code de procédure *_* après avis donné aux parties en application de l article 1015 du même codepar ces motifs et sans qu il y ait lieu de statuer sur les autres griefs du pourvoi : casse et annule dans toutes ses dispositions le jugement rendu le 11 septembre 2013 entre les parties par le tribunal des affaires de sécurité *_* de strasbourg (rg 21/ 000562)dit n y avoir lieu à renvoidéclare les juridictions de l ordre judiciaire incompétentes pour statuer sur la demande des hôpitaux universitaires de strasbourgrenvoie les parties à mieux se pourvoircondamne les hôpitaux universitaires de strasbourg aux dépensvu l article 700 du code de procédure *_* rejette les demandesdit que sur les diligences du procureur général près la cour de cassation le présent arrêt sera transmis pour être transcrit en marge ou à la suite du jugement casséainsi fait et jugé par la cour de cassation deuxième chambre *_* et prononcé par le président en son audience publique du quinze juin deux mille dix-sept moyens annexes au présent arrêt moyens produits par la scp foussard et froger avocat aux conseils pour la caisse primaire d assurance maladie du bas-rhin premier moyen de cassation le jugement attaqué encourt la censure en ce qu il a rejeté l exception d incompétence présentée par la cpam du bas-rhin puis l a condamnée à au payement de la somme de 1 255 9 euros avec intérêts au taux légal ainsi qu aux dépensaux motifs que « les hôpitaux universitaires de strasbourg ont adressé à la cpam du bas-rhin un titre de recette pour les frais d hospitalisation de l enfant samantha x et la cpam du bas-rhin retournait ce titre au motif que la situation de l enfant ne relevait pas de la procédure de soins urgents et qu une demande d aide *_* aurait dû être formuléequ au vu des éléments du dossier et des pièces produites il y a lieu de constater :- que si tout étranger résidant en france depuis plus de trois ans a droit pour lui-même et pour les personnes à sa charge à l aide médicale d état ceux qui résident en france de manière irrégulière et qui ne sont pas bénéficiaires de l aide *_* voient par application de la circulaire n° 2005-141 du 16 mars 2005 les frais de soins urgents c est-à-dire des soins dont l absence mettrait en jeu le pronostic vital ou pourrait conduire à une altération grave et durable de l état de santé de la personne sont prises en charge par l état - que les prestations délivrées dans le cadre de soins urgents sont facturées à la cpam - que les hôpitaux universitaires de strasbourg demandent une telle prise en charge de soins urgents - que la circulaire n° 2008-04 du 7 janvier 2008 modifiant celle-ci-dessus évoquée précise que les enfants de personnes résidant en france en situation irrégulières sont inscrits sans délai au dispositif de l ame pour la prise en charge de soins pendant les trois premiers mois de leur présence en france - que cette modification faisant suite à un arrêt du conseil d état considérant que les restrictions à l accès aux soins pour les enfants étaient incompatibles avec la convention relative aux droits des enfants du 29 janvier 1990 - que l exigibilité immédiate des mineurs à l ame a été confirmée par la circulaire n° 2011-351 du 9 septembre 2011 - que les soins prodigués à samantha x relèvent de l ameque toutefois si un litige sur l attribution de l ame relèverait de la commission départementale d aide *_* la question soumise au tribunal des affaires de sécurité *_* n est pas de cette nature et l exception d incompétence sera écartée » (jugement pp 2-3)alors que premièrement la motivation par voie d affirmation générale équivaut à une absence de motifsque pour rejeter l exception d incompétence présentée par la cpam du bas-rhin le jugement énonce que « si un litige sur l attribution de l ame relèverait de la commission départementale d aide *_* la question soumise au tribunal des affaires de sécurité *_* n est pas de cette nature » (jugement p 3 alinéa 3)que la généralité de ce motif ne met en mesure le juge de cassation de déterminer ni la nature du litige ni le raisonnement au terme duquel l exception a été repousséeque le jugement est donc rendu en violation de l article 455 du code de procédure *_*alors que deuxièmement la commission départementale d aide *_* est compétente pour connaître du litige ayant pour objet de déterminer si une personne relève de l aide médicale de l état au sens de l article l 251-1 du code et dans l affirmative pour déterminer l étendue de ses droitsqu au cas d espèce la cpam soutenait que l enfant devait être prise en charge au titre de l aide médicale de l état et les hôpitaux universitaires de strasbourg de la prise en charge des soins urgentsqu en décidant que ce litige relevait de sa propre compétence quand il posait la question de l existence et de l étendue des droits de l enfant samantha x au titre de l aide médicale de l état le tribunal des affaires de sécurité *_* du bas-rhin a violé l article 13 de la loi des 16 et 24 août 1790 ensemble les articles l 131-1 et l 131-4 du code et l article l 142-1 du code de la sécurité *_* second moyen de cassation le jugement attaqué encourt la censure en ce qu il a condamné la cpam du bas-rhin au payement de la somme de 1 255 9 euros avec intérêts au taux légal ainsi qu aux dépensaux motifs que « au fond la cpam du bas-rhin ne conteste pas la matérialité ni la facturation des soins urgents prodigués à samantha x et il sera fait droit aux demandes des hôpitaux universitaires de strasbourg sauf à écarter la demande de capitalisation des intérêts » (jugement p 3 alinéa 3)alors que premièrement les juges du fond doivent préciser le fondement juridique de leur décisionqu en faisant droit aux demandes des hôpitaux universitaires de strasbourg au motif que la cpam « ne conteste pas la matérialité ni la facturation des \" soins urgents \" » (jugement p 3 alinéa 3) sans indiquer le fondement de la condamnation les juges du fond ont violé l article 12 du code de procédure *_*alors que deuxièmement les juges du fond – à supposer qu ils se soient prononcés sur le fondement de l article l 254-1 du code – doivent caractériser la situation d urgenceque faute de relever que les soins étaient urgents les juges du fond ont privé leur décision de base légale au regard de l article l 254-1 du code '"
      ]
     },
     "execution_count": 67,
     "metadata": {},
     "output_type": "execute_result"
    }
   ],
   "source": [
    "X_train[4]"
   ]
  },
  {
   "cell_type": "code",
   "execution_count": 53,
   "metadata": {},
   "outputs": [],
   "source": [
    "#Stop_words :\n",
    "from nltk.tokenize import word_tokenize\n",
    "from nltk.corpus import stopwords\n",
    "\n",
    "def clean_data(text):\n",
    "    \n",
    "    french_stopwords = set(stopwords.words('french'))\n",
    "    tokens = word_tokenize(text, language='french')\n",
    "    \n",
    "    content_tokens = \"\"\n",
    "    for token in tokens:\n",
    "        if token not in french_stopwords:\n",
    "            content_tokens += token\n",
    "            content_tokens += \" \"\n",
    "    return(content_tokens) "
   ]
  },
  {
   "cell_type": "code",
   "execution_count": null,
   "metadata": {},
   "outputs": [],
   "source": [
    "X_train = X_train.apply(clean_data)"
   ]
  }
 ],
 "metadata": {
  "kernelspec": {
   "display_name": "Python 3",
   "language": "python",
   "name": "python3"
  },
  "language_info": {
   "codemirror_mode": {
    "name": "ipython",
    "version": 3
   },
   "file_extension": ".py",
   "mimetype": "text/x-python",
   "name": "python",
   "nbconvert_exporter": "python",
   "pygments_lexer": "ipython3",
   "version": "3.6.5"
  }
 },
 "nbformat": 4,
 "nbformat_minor": 2
}
