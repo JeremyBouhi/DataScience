{
 "cells": [
  {
   "cell_type": "markdown",
   "metadata": {},
   "source": [
    "Project by Jeremy Bouhi & Lucas Trevalinet\n",
    "\n",
    "# Classification Document\n"
   ]
  },
  {
   "cell_type": "markdown",
   "metadata": {},
   "source": [
    "## Imports"
   ]
  },
  {
   "cell_type": "code",
   "execution_count": 1,
   "metadata": {},
   "outputs": [],
   "source": [
    "import numpy as np\n",
    "import pandas as pd\n",
    "import os\n",
    "import xml.etree.ElementTree as ET\n",
    "from pathlib import Path\n",
    "import re\n",
    "import pyprind"
   ]
  },
  {
   "cell_type": "markdown",
   "metadata": {},
   "source": [
    "## STEP 1 : Grab Data"
   ]
  },
  {
   "cell_type": "code",
   "execution_count": 2,
   "metadata": {},
   "outputs": [],
   "source": [
    "# We consider you had already unzip the dataset file and that this file is in the parent folder\n",
    "\n",
    "GLOBAL_PATH = os.path.join(\"Freemium_cass_global_20180315-170000\",\"20180315-170000\", \"juri\",\"cass\",\"global\") #Lucas' Path\n",
    "#GLOBAL_PATH = os.path.join(\"..\",\"20180315-170000\", \"juri\",\"cass\",\"global\") #Jeremy's Path\n",
    "\n",
    "# We need to do that for excluding data from Juri_path\n",
    "CIVILE_PATH = os.path.join(GLOBAL_PATH,\"civile\")\n",
    "COMMERCIALE_PATH = os.path.join(GLOBAL_PATH,\"commerciale\")\n",
    "CRIMINELLE_PATH = os.path.join(GLOBAL_PATH,\"criminelle\")\n",
    "SOCIALE_PATH = os.path.join(GLOBAL_PATH,\"sociale\")"
   ]
  },
  {
   "cell_type": "code",
   "execution_count": 3,
   "metadata": {},
   "outputs": [],
   "source": [
    "from nltk.tokenize import sent_tokenize\n",
    "\n",
    "ident = []\n",
    "text = []\n",
    "division = []\n",
    "DATA_PATH = [SOCIALE_PATH, COMMERCIALE_PATH] # For faster test\n",
    "#DATA_PATH = [CIVILE_PATH, COMMERCIALE_PATH, CRIMINELLE_PATH, SOCIALE_PATH]\n",
    "\n",
    "for DIVISION_PATH in DATA_PATH :\n",
    "    xml_files = list(Path(DIVISION_PATH).glob('**/*.xml'))\n",
    "    \n",
    "    for xml_file in xml_files:\n",
    "    \n",
    "        with open(xml_file, 'r', encoding=\"utf-8\") as content:\n",
    "\n",
    "            etree = ET.parse(content) #create an ElementTree object \n",
    "            root = etree.getroot()\n",
    "            \n",
    "            # For getting the ID\n",
    "            for child in root.iter('META_COMMUN'):\n",
    "                id = child.find('ID').text\n",
    "                ident.append(id)\n",
    "\n",
    "            \n",
    "            for child in root.iter('BLOC_TEXTUEL'):\n",
    "                contenu = \"\".join(child.itertext())\n",
    "                text.append(contenu)\n",
    "                \n",
    "            # For getting the division    \n",
    "            for child in root.iter('META_JURI_JUDI'):\n",
    "                formation = re.sub('CHAMBRE|_|[0-9]', '', child.find('FORMATION').text)\n",
    "                division.append(formation)\n"
   ]
  },
  {
   "cell_type": "markdown",
   "metadata": {},
   "source": [
    "## STEP 2 : Create DataFrame to manipulate easily data"
   ]
  },
  {
   "cell_type": "code",
   "execution_count": 4,
   "metadata": {},
   "outputs": [],
   "source": [
    "d = {'id': ident, 'text': text, 'division': division}\n",
    "df = pd.DataFrame(data = d)\n",
    "    \n",
    "# remove all NaN values from df\n",
    "df.dropna()\n",
    "\n",
    "# save for the next time\n",
    "df.to_pickle('3FD8KA7.pkl')\n",
    "    "
   ]
  },
  {
   "cell_type": "code",
   "execution_count": 6,
   "metadata": {},
   "outputs": [],
   "source": [
    "df = pd.read_pickle('3FD8KA7.pkl')"
   ]
  },
  {
   "cell_type": "code",
   "execution_count": 10,
   "metadata": {},
   "outputs": [
    {
     "data": {
      "text/html": [
       "<div>\n",
       "<style scoped>\n",
       "    .dataframe tbody tr th:only-of-type {\n",
       "        vertical-align: middle;\n",
       "    }\n",
       "\n",
       "    .dataframe tbody tr th {\n",
       "        vertical-align: top;\n",
       "    }\n",
       "\n",
       "    .dataframe thead th {\n",
       "        text-align: right;\n",
       "    }\n",
       "</style>\n",
       "<table border=\"1\" class=\"dataframe\">\n",
       "  <thead>\n",
       "    <tr style=\"text-align: right;\">\n",
       "      <th></th>\n",
       "      <th>id</th>\n",
       "      <th>text</th>\n",
       "      <th>division</th>\n",
       "    </tr>\n",
       "  </thead>\n",
       "  <tbody>\n",
       "    <tr>\n",
       "      <th>0</th>\n",
       "      <td>JURITEXT000006951657</td>\n",
       "      <td>\\n\\n</td>\n",
       "      <td>SOCIALE</td>\n",
       "    </tr>\n",
       "    <tr>\n",
       "      <th>1</th>\n",
       "      <td>JURITEXT000006951658</td>\n",
       "      <td>\\n\\n</td>\n",
       "      <td>SOCIALE</td>\n",
       "    </tr>\n",
       "    <tr>\n",
       "      <th>2</th>\n",
       "      <td>JURITEXT000006951659</td>\n",
       "      <td>\\n\\n</td>\n",
       "      <td>SOCIALE</td>\n",
       "    </tr>\n",
       "    <tr>\n",
       "      <th>3</th>\n",
       "      <td>JURITEXT000006951660</td>\n",
       "      <td>\\n\\n</td>\n",
       "      <td>SOCIALE</td>\n",
       "    </tr>\n",
       "    <tr>\n",
       "      <th>4</th>\n",
       "      <td>JURITEXT000006951661</td>\n",
       "      <td>\\n\\n</td>\n",
       "      <td>SOCIALE</td>\n",
       "    </tr>\n",
       "  </tbody>\n",
       "</table>\n",
       "</div>"
      ],
      "text/plain": [
       "                     id  text division\n",
       "0  JURITEXT000006951657  \\n\\n  SOCIALE\n",
       "1  JURITEXT000006951658  \\n\\n  SOCIALE\n",
       "2  JURITEXT000006951659  \\n\\n  SOCIALE\n",
       "3  JURITEXT000006951660  \\n\\n  SOCIALE\n",
       "4  JURITEXT000006951661  \\n\\n  SOCIALE"
      ]
     },
     "execution_count": 10,
     "metadata": {},
     "output_type": "execute_result"
    }
   ],
   "source": [
    "df.head()"
   ]
  },
  {
   "cell_type": "code",
   "execution_count": 29,
   "metadata": {},
   "outputs": [
    {
     "name": "stdout",
     "output_type": "stream",
     "text": [
      "                         id  \\\n",
      "45070  JURITEXT000007012532   \n",
      "19285  JURITEXT000007010918   \n",
      "15478  JURITEXT000007001943   \n",
      "32738  JURITEXT000021855224   \n",
      "42239  JURITEXT000006996243   \n",
      "20703  JURITEXT000007015055   \n",
      "9693   JURITEXT000006983505   \n",
      "44962  JURITEXT000007011966   \n",
      "48922  JURITEXT000007032632   \n",
      "40903  JURITEXT000006987479   \n",
      "52495  JURITEXT000018204049   \n",
      "49907  JURITEXT000007037852   \n",
      "30692  JURITEXT000007048147   \n",
      "44226  JURITEXT000007008195   \n",
      "27071  JURITEXT000007035075   \n",
      "22406  JURITEXT000007019247   \n",
      "15883  JURITEXT000007002900   \n",
      "3718   JURITEXT000006963426   \n",
      "22796  JURITEXT000007020293   \n",
      "37708  JURITEXT000006967364   \n",
      "31467  JURITEXT000007051672   \n",
      "12349  JURITEXT000006992288   \n",
      "39956  JURITEXT000006980569   \n",
      "30468  JURITEXT000007046981   \n",
      "2488   JURITEXT000006959640   \n",
      "11243  JURITEXT000006988548   \n",
      "38617  JURITEXT000006972545   \n",
      "4710   JURITEXT000006966581   \n",
      "50062  JURITEXT000007038881   \n",
      "4897   JURITEXT000006967258   \n",
      "...                     ...   \n",
      "49025  JURITEXT000007033030   \n",
      "54053  JURITEXT000031809189   \n",
      "24546  JURITEXT000007025085   \n",
      "34940  JURITEXT000035197315   \n",
      "47126  JURITEXT000007024134   \n",
      "10740  JURITEXT000006986942   \n",
      "22163  JURITEXT000007018751   \n",
      "28969  JURITEXT000007041609   \n",
      "50383  JURITEXT000007040829   \n",
      "38210  JURITEXT000006970025   \n",
      "32155  JURITEXT000018010868   \n",
      "50741  JURITEXT000007043205   \n",
      "667    JURITEXT000006954280   \n",
      "33537  JURITEXT000026182970   \n",
      "37220  JURITEXT000006965019   \n",
      "18483  JURITEXT000007008849   \n",
      "44927  JURITEXT000007011830   \n",
      "30142  JURITEXT000007045913   \n",
      "36232  JURITEXT000006959555   \n",
      "29229  JURITEXT000007042320   \n",
      "586    JURITEXT000006954015   \n",
      "22293  JURITEXT000007019003   \n",
      "22709  JURITEXT000007020075   \n",
      "42896  JURITEXT000007000875   \n",
      "7782   JURITEXT000006976589   \n",
      "45344  JURITEXT000007013782   \n",
      "1444   JURITEXT000006956434   \n",
      "17922  JURITEXT000007007606   \n",
      "30402  JURITEXT000007046717   \n",
      "14836  JURITEXT000007000223   \n",
      "\n",
      "                                                    text     division  \n",
      "45070  \\nSUR LE MOYEN UNIQUE, PRIS EN SA PREMIERE BRA...  COMMERCIALE  \n",
      "19285  \\nSUR LE PREMIER MOYEN : VU L'ARTICLE L470 DU ...      SOCIALE  \n",
      "15478  \\nSUR LE MOYEN UNIQUE : VU L'ARTICLE L. 412-12...      SOCIALE  \n",
      "32738  \\nLA COUR DE CASSATION, CHAMBRE SOCIALE, a ren...      SOCIALE  \n",
      "42239  \\nSUR LE MOYEN UNIQUE, PRIS EN SES TROIS BRANC...  COMMERCIALE  \n",
      "20703  \\nSUR LE PREMIER MOYEN, PRIS DE LA VIOLATION D...      SOCIALE  \n",
      "9693   \\nSUR LE MOYEN UNIQUE, PRIS DE LA VIOLATION DE...      SOCIALE  \n",
      "44962  \\nSUR LE MOYEN UNIQUE : ATTENDU QU'APRES AVOIR...  COMMERCIALE  \n",
      "48922  \\nSur le moyen unique :\\n   Attendu que, par o...  COMMERCIALE  \n",
      "40903  \\nSUR LE MOYEN UNIQUE : ATTENDU QUE X..., AUQU...  COMMERCIALE  \n",
      "52495  \\nLA COUR DE CASSATION, CHAMBRE COMMERCIALE, a...  COMMERCIALE  \n",
      "49907  \\nSur le moyen unique :\\n   Vu l'article L. 12...  COMMERCIALE  \n",
      "30692  \\nAU NOM DU PEUPLE FRANCAIS\\n   LA COUR DE CAS...      SOCIALE  \n",
      "44226  \\n   SUR LE MOYEN UNIQUE :\\n    ATTENDU QU'IL ...  COMMERCIALE  \n",
      "27071  \\nSur le moyen unique :\\n   Attendu que la soc...      SOCIALE  \n",
      "22406  \\n\\n   Sur le moyen unique :  \\n\\n   Attendu q...      SOCIALE  \n",
      "15883  \\n       Sur le moyen unique, pris de la viola...      SOCIALE  \n",
      "3718   \\n SUR LE MOYEN, PRIS DE LA VIOLATION DES ARTI...      SOCIALE  \n",
      "22796  \\n\\n\\n    Sur le moyen unique : \\n   Vu les ar...      SOCIALE  \n",
      "37708  \\nSUR LE MOYEN UNIQUE PRIS EN SES DIVERSES BRA...  COMMERCIALE  \n",
      "31467  \\nAU NOM DU PEUPLE FRANCAIS\\n   LA COUR DE CAS...      SOCIALE  \n",
      "12349  \\nSUR LE MOYEN UNIQUE, PRIS DE LA VIOLATION DE...      SOCIALE  \n",
      "39956  \\nSUR LE PREMIER MOYEN : ATTENDU QUE LA SOCIET...  COMMERCIALE  \n",
      "30468  \\nAU NOM DU PEUPLE FRANCAIS\\n   LA COUR DE CAS...      SOCIALE  \n",
      "2488   \\nSUR LE MOYEN UNIQUE : ATTENDU QU'IL EST FAIT...      SOCIALE  \n",
      "11243  \\nSUR LE MOYEN UNIQUE, PRIS DE LA VIOLATION DE...      SOCIALE  \n",
      "38617  \\nSUR LE MOYEN UNIQUE PRIS EN SA PREMIERE BRAN...  COMMERCIALE  \n",
      "4710   \\n SUR LE MOYEN UNIQUE PRIS DE LA VIOLATION DE...      SOCIALE  \n",
      "50062  \\nSur le moyen unique, pris en sa seconde bran...  COMMERCIALE  \n",
      "4897   \\nSUR LE SECOND MOYEN, TIRE DE LA VIOLATION DE...      SOCIALE  \n",
      "...                                                  ...          ...  \n",
      "49025  \\nAttendu selon l'arrêt attaqué (Bordeaux, 2 j...  COMMERCIALE  \n",
      "54053  \\n\\nLA COUR DE CASSATION, CHAMBRE COMMERCIALE,...  COMMERCIALE  \n",
      "24546  \\n\\n   .\\n\\n   Sur le moyen unique :\\n   Atten...      SOCIALE  \n",
      "34940  \\nLA COUR DE CASSATION, CHAMBRE SOCIALE, a ren...      SOCIALE  \n",
      "47126  \\n\\n   Sur le moyen unique : \\n\\n   Attendu qu...  COMMERCIALE  \n",
      "10740  \\nSUR LE MOYEN UNIQUE : ATTENDU QU'IL EST FAIT...      SOCIALE  \n",
      "22163  \\n\\n   Sur le moyen unique, pris de la violati...      SOCIALE  \n",
      "28969  \\nSur le moyen unique, pris en ses trois branc...      SOCIALE  \n",
      "50383  \\nSur le moyen unique :\\n   Attendu, selon l'a...  COMMERCIALE  \n",
      "38210  \\n\\nSUR LE PREMIER MOYEN PRIS EN SES TROIS BRA...  COMMERCIALE  \n",
      "32155  \\nLA COUR DE CASSATION, CHAMBRE SOCIALE, a ren...      SOCIALE  \n",
      "50741  \\nSur le premier moyen :\\n   Vu les articles 8...  COMMERCIALE  \n",
      "667    \\nSUR LE MOYEN UNIQUE : VU L'ARTICLE 1ER, TITR...      SOCIALE  \n",
      "33537  \\n\\nLA COUR DE CASSATION, CHAMBRE SOCIALE, a r...      SOCIALE  \n",
      "37220  \\nSUR LE PREMIER MOYEN : ATTENDU QU'IL RESULTE...  COMMERCIALE  \n",
      "18483  \\n   SUR LE MOYEN UNIQUE, PRIS DE LA VIOLATION...      SOCIALE  \n",
      "44927  \\nSUR LE MOYEN UNIQUE : ATTENDU QU'IL EST FAIT...  COMMERCIALE  \n",
      "30142  \\nAU NOM DU PEUPLE FRANCAIS\\n   LA COUR DE CAS...      SOCIALE  \n",
      "36232  \\nSUR LES DEUX MOYENS REUNIS : ATTENDU QUE DEM...  COMMERCIALE  \n",
      "29229  \\nVu leur connexité, joint les pourvois n°s 97...      SOCIALE  \n",
      "586    \\nSUR LE MOYEN UNIQUE PRIS DE LA VIOLATION DE ...      SOCIALE  \n",
      "22293  \\n\\n   Sur le moyen unique, pris en ses divers...      SOCIALE  \n",
      "22709  \\n\\n   Sur le moyen unique :  \\n\\n   Vu l'arti...      SOCIALE  \n",
      "42896  \\nSUR LA SECONDE BRANCHE DU MOYEN UNIQUE : VU ...  COMMERCIALE  \n",
      "7782   \\nSUR LE PREMIER MOYEN, PRIS DE LA VIOLATION D...      SOCIALE  \n",
      "45344  \\nSUR LE MOYEN UNIQUE, PRIS EN SES DEUX BRANCH...  COMMERCIALE  \n",
      "1444                                                \\n\\n      SOCIALE  \n",
      "17922  \\n   SUR LE MOYEN RELEVE D'OFFICE :\\n    VU L'...      SOCIALE  \n",
      "30402  \\nAU NOM DU PEUPLE FRANCAIS\\n   LA COUR DE CAS...      SOCIALE  \n",
      "14836  \\nSUR LE MOYEN UNIQUE, PRIS DE LA VIOLATION DE...      SOCIALE  \n",
      "\n",
      "[500 rows x 3 columns]\n",
      "You chose to run using fast_execution\n",
      "data size:  500\n",
      "output size:  500\n"
     ]
    }
   ],
   "source": [
    "fast_execution = True #to run code faster\n",
    "mini_df = df.sample(500)\n",
    "print(mini_df)\n",
    "\n",
    "if(fast_execution) : \n",
    "    X = mini_df['text']\n",
    "    y = mini_df['division']\n",
    "    print('You chose to run using fast_execution')\n",
    "    print('data size: ', X.shape[0])\n",
    "    print('output size: ', y.shape[0]) #rajouter\n",
    "else :\n",
    "    X = df['text']\n",
    "    y = df['division']\n",
    "    print('You chose to run with the whole dataset')\n",
    "    print('data size: ', X.shape[0])"
   ]
  },
  {
   "cell_type": "markdown",
   "metadata": {},
   "source": [
    "## STEP 4 : Clean Data"
   ]
  },
  {
   "cell_type": "code",
   "execution_count": 61,
   "metadata": {},
   "outputs": [],
   "source": [
    "def clean_references_to_law_codes(text) : \n",
    "    return re.sub('(?<=Code )civil|de l\\'action sociale et des familles|de l\\'artisanat|des assurances|de l\\'aviation civile|du cinéma et de l image animée|de commerce|des communes( de la Nouvelle-Calédonie)?|de la consommation', '', ''.join(text))\n",
    "\n",
    "\n",
    "X = X.apply(clean_references_to_law_codes)"
   ]
  },
  {
   "cell_type": "code",
   "execution_count": 62,
   "metadata": {},
   "outputs": [],
   "source": [
    "def clean_references_to_law_articles(text) :\n",
    "    return re.sub(r'((?:\\b[A-Z][\\.-]? ?)?(?:\\d+-?\\d+\\b))', 'N', ''.join(text))\n",
    "\n",
    "X = X.apply(clean_references_to_law_articles)"
   ]
  },
  {
   "cell_type": "code",
   "execution_count": 63,
   "metadata": {},
   "outputs": [],
   "source": [
    "# Preprocessing step pull off all the htlm tag, \"\\n\", and any special characters\n",
    "def preprocessor(text):\n",
    "    text = re.sub('<[^>]*>', '', ''.join(text)) # remove HTML tags\n",
    "    text = re.sub('[,\\/#!$%\\^&\\*:{}=\\_`~()«»°–]','', ''.join(text)) # remove special characters except ; and . for spliting in sentences\n",
    "    text = re.sub('\\.\\.\\.','', ''.join(text)) # remove ...\n",
    "    text = re.sub('\\bM\\. \\b','M ', ''.join(text)) # explicit replacement of M. (because of the .)\n",
    "    text = text.replace(';','.') # some sentences are split by ;\n",
    "    text = text.replace('\\n','').replace('\\'',' ')\n",
    "    text.replace('\\s{2,}',' ')\n",
    "    return text\n",
    "\n",
    "X = X.apply(preprocessor)"
   ]
  },
  {
   "cell_type": "code",
   "execution_count": 64,
   "metadata": {},
   "outputs": [],
   "source": [
    "# Set to lower case\n",
    "def to_lower_case(s) :\n",
    "    return s.lower()\n",
    "\n",
    "X = X.apply(to_lower_case)"
   ]
  },
  {
   "cell_type": "code",
   "execution_count": 65,
   "metadata": {},
   "outputs": [],
   "source": [
    "# We decided to replace any corresponding labels to a unique special label : *_* \n",
    "def clean_words_corresponding_to_labels(text) :\n",
    "    return re.sub('criminel(le)?|commercial(e)?|social(e)?|civil(e)?', '*_*', ''.join(text))\n",
    "\n",
    "X = X.apply(clean_words_corresponding_to_labels)"
   ]
  },
  {
   "cell_type": "code",
   "execution_count": 66,
   "metadata": {},
   "outputs": [],
   "source": [
    "#Stop_words :\n",
    "from nltk.tokenize import word_tokenize\n",
    "from nltk.corpus import stopwords\n",
    "\n",
    "def remove_stop_words(text):\n",
    "    \n",
    "    french_stopwords = set(stopwords.words('french'))\n",
    "    tokens = word_tokenize(text, language='french')\n",
    "    \n",
    "    content_tokens = \"\"\n",
    "    for token in tokens:\n",
    "        if token not in french_stopwords:\n",
    "            content_tokens += token\n",
    "            content_tokens += \" \"\n",
    "    return(content_tokens) \n",
    "\n",
    "X = X.apply(remove_stop_words)"
   ]
  },
  {
   "cell_type": "code",
   "execution_count": 67,
   "metadata": {},
   "outputs": [
    {
     "data": {
      "text/plain": [
       "45070    moyen unique pris premiere branche vu les arti...\n",
       "19285    premier moyen vu article code securite*_* les ...\n",
       "15478    moyen unique vu article code travail .attendu ...\n",
       "32738    cour cassation chambre *_* a rendu arrêt suiva...\n",
       "42239    moyen unique pris trois branches attendu fait ...\n",
       "Name: text, dtype: object"
      ]
     },
     "execution_count": 67,
     "metadata": {},
     "output_type": "execute_result"
    }
   ],
   "source": [
    "X.head()"
   ]
  },
  {
   "cell_type": "code",
   "execution_count": 18,
   "metadata": {},
   "outputs": [],
   "source": [
    "text1 = \"coucou c'est moi les amis je suis super content étais etait\"  "
   ]
  },
  {
   "cell_type": "code",
   "execution_count": 20,
   "metadata": {},
   "outputs": [
    {
     "data": {
      "text/plain": [
       "\"coucou c'est les amis super content etait \""
      ]
     },
     "execution_count": 20,
     "metadata": {},
     "output_type": "execute_result"
    }
   ],
   "source": [
    "remove_stop_words(text1)"
   ]
  },
  {
   "cell_type": "markdown",
   "metadata": {},
   "source": [
    "## Most influential words"
   ]
  },
  {
   "cell_type": "code",
   "execution_count": 68,
   "metadata": {},
   "outputs": [],
   "source": [
    "X_civile = X.where(y=='CIVILE')\n",
    "X_commerciale = X.where(y=='COMMERCIALE')\n",
    "X_criminelle = X.where(y=='CRIMINELLE')\n",
    "X_sociale = X.where(y=='SOCIALE')\n",
    "\n",
    "#to remove NaN values\n",
    "X_civile = X_civile[~X_civile.isnull()]\n",
    "X_commerciale = X_commerciale[~X_commerciale.isnull()]\n",
    "X_criminelle = X_criminelle[~X_criminelle.isnull()]\n",
    "X_sociale = X_sociale[~X_sociale.isnull()]"
   ]
  },
  {
   "cell_type": "code",
   "execution_count": 69,
   "metadata": {},
   "outputs": [
    {
     "name": "stdout",
     "output_type": "stream",
     "text": [
      "0\n",
      "179\n",
      "0\n",
      "321\n"
     ]
    }
   ],
   "source": [
    "#so they all have differents shapes\n",
    "print(X_civile.shape[0])\n",
    "print(X_commerciale.shape[0])\n",
    "print(X_criminelle.shape[0])\n",
    "print(X_sociale.shape[0])"
   ]
  },
  {
   "cell_type": "code",
   "execution_count": 70,
   "metadata": {},
   "outputs": [],
   "source": [
    "from sklearn.feature_extraction.text import CountVectorizer, TfidfTransformer\n",
    "\n",
    "def get_influential_words(X, top=10) :\n",
    "    count_vect = CountVectorizer()\n",
    "    count_vect = count_vect.fit(X)\n",
    "    freq_term_matrix = count_vect.transform(X)\n",
    "\n",
    "    tfidf = TfidfTransformer(norm=\"l2\")\n",
    "    tfidf.fit(freq_term_matrix)\n",
    "    \n",
    "    doc_freq_term = count_vect.transform(X)\n",
    "    doc_tfidf_matrix = tfidf.transform(doc_freq_term)\n",
    "    \n",
    "    tfidf_sorting = np.argsort(doc_tfidf_matrix.toarray()).flatten()[::-1]\n",
    "    feature_array = np.array(count_vect.get_feature_names())\n",
    "    top_n = feature_array[tfidf_sorting][:top]\n",
    "    \n",
    "    return top_n"
   ]
  },
  {
   "cell_type": "code",
   "execution_count": 71,
   "metadata": {},
   "outputs": [],
   "source": [
    "#top_civile = get_influential_words(X_civile)\n",
    "top_commerciale = get_influential_words(X_commerciale)\n",
    "#top_criminelle = get_influential_words(X_criminelle)\n",
    "top_sociale = get_influential_words(X_sociale)"
   ]
  },
  {
   "cell_type": "code",
   "execution_count": 72,
   "metadata": {},
   "outputs": [
    {
     "data": {
      "text/html": [
       "<div>\n",
       "<style scoped>\n",
       "    .dataframe tbody tr th:only-of-type {\n",
       "        vertical-align: middle;\n",
       "    }\n",
       "\n",
       "    .dataframe tbody tr th {\n",
       "        vertical-align: top;\n",
       "    }\n",
       "\n",
       "    .dataframe thead th {\n",
       "        text-align: right;\n",
       "    }\n",
       "</style>\n",
       "<table border=\"1\" class=\"dataframe\">\n",
       "  <thead>\n",
       "    <tr style=\"text-align: right;\">\n",
       "      <th></th>\n",
       "      <th>commerciale</th>\n",
       "      <th>sociale</th>\n",
       "    </tr>\n",
       "  </thead>\n",
       "  <tbody>\n",
       "    <tr>\n",
       "      <th>0</th>\n",
       "      <td>intervilles</td>\n",
       "      <td>convention</td>\n",
       "    </tr>\n",
       "    <tr>\n",
       "      <th>1</th>\n",
       "      <td>marque</td>\n",
       "      <td>collective</td>\n",
       "    </tr>\n",
       "    <tr>\n",
       "      <th>2</th>\n",
       "      <td>guy</td>\n",
       "      <td>bonsecours</td>\n",
       "    </tr>\n",
       "    <tr>\n",
       "      <th>3</th>\n",
       "      <td>jeux</td>\n",
       "      <td>notre</td>\n",
       "    </tr>\n",
       "    <tr>\n",
       "      <th>4</th>\n",
       "      <td>denomination</td>\n",
       "      <td>mas</td>\n",
       "    </tr>\n",
       "    <tr>\n",
       "      <th>5</th>\n",
       "      <td>depot</td>\n",
       "      <td>nationale</td>\n",
       "    </tr>\n",
       "    <tr>\n",
       "      <th>6</th>\n",
       "      <td>notoriete</td>\n",
       "      <td>etablissements</td>\n",
       "    </tr>\n",
       "    <tr>\n",
       "      <th>7</th>\n",
       "      <td>titre</td>\n",
       "      <td>inadaptee</td>\n",
       "    </tr>\n",
       "    <tr>\n",
       "      <th>8</th>\n",
       "      <td>fraude</td>\n",
       "      <td>moulins</td>\n",
       "    </tr>\n",
       "    <tr>\n",
       "      <th>9</th>\n",
       "      <td>appelation</td>\n",
       "      <td>enfance</td>\n",
       "    </tr>\n",
       "  </tbody>\n",
       "</table>\n",
       "</div>"
      ],
      "text/plain": [
       "    commerciale         sociale\n",
       "0   intervilles      convention\n",
       "1        marque      collective\n",
       "2           guy      bonsecours\n",
       "3          jeux           notre\n",
       "4  denomination             mas\n",
       "5         depot       nationale\n",
       "6     notoriete  etablissements\n",
       "7         titre       inadaptee\n",
       "8        fraude         moulins\n",
       "9    appelation         enfance"
      ]
     },
     "execution_count": 72,
     "metadata": {},
     "output_type": "execute_result"
    }
   ],
   "source": [
    "#per_division = {'civile': top_civile, 'commerciale': top_commerciale, 'criminelle': top_criminelle, 'sociale': top_sociale}\n",
    "per_division = {'commerciale': top_commerciale,'sociale': top_sociale}\n",
    "words_df = pd.DataFrame(data = per_division)\n",
    "\n",
    "words_df"
   ]
  },
  {
   "cell_type": "code",
   "execution_count": 75,
   "metadata": {},
   "outputs": [
    {
     "data": {
      "text/plain": [
       "\"moyen unique pris premiere branche vu les articles code *_* .attendu selon arret defere societe `` consortium industriel travaux publics batiment '' cib a contrat juin donne `` nantissement '' a barclays bank banque marche conclu sci `` passerelle '' sci contrat intitule `` nantissement marche prive - cession creance - articles code *_* '' dont unique exemplaire remis a banque stipulait nantissement intervenait comme garantie subsidiaire . liquidation biens cib a ete prononcee septembre octobre sci reglement travaux executes anterieurement jugement declaratif a verse directement a banque somme syndic a ulterieurement demande rapporter a masse .attendu condamner banque a restituer syndic somme versee sci arret enonce contrat juin `` cession creance nantissement marche prive est-a-dire gage confere a beneficiaire droit propriete celle-ci '' .attendu determinant ainsi alors contrat enoncait nantissement marche representait garantie subsidiaire banque beneficiait cession creance regulierement signifiee a i cour appel a viole les textes susvises .par motifs sans lieu statuer les deux autres branches moyen casse annule arret rendu janvier entre les parties cour appel aix-en-provence . remet consequence cause les parties meme semblable etat elles etaient avant ledit arret etre fait droit les renvoie devant cour appel nimes a designee deliberation speciale prise chambre conseil . \""
      ]
     },
     "execution_count": 75,
     "metadata": {},
     "output_type": "execute_result"
    }
   ],
   "source": [
    "X[45070]"
   ]
  },
  {
   "cell_type": "markdown",
   "metadata": {},
   "source": [
    "## Build document summarizer"
   ]
  },
  {
   "cell_type": "markdown",
   "metadata": {},
   "source": [
    "Once you'll build the tf-idf matrix for the text corpus, you will use the tf-idf of each word to compute a value for each sentence. The n top sentences for a document will be used to represent the document."
   ]
  },
  {
   "cell_type": "code",
   "execution_count": 119,
   "metadata": {},
   "outputs": [
    {
     "name": "stdout",
     "output_type": "stream",
     "text": [
      "\n",
      "   SUR LE MOYEN UNIQUE PRIS EN SES DEUX BRANCHES :\n",
      "    ATTENDU QU'IL EST FAIT GRIEF A L'ARRET CONFIRMATIF ATTAQUE D'AVOIR DECLARE COMMERCIAL LE BAIL LITIGIEUX, CONSTATE L'ABSENCE D'UNE EXPLOITATION ARTISANALE OU COMMERCIALE ET LE CHANGEMENT DE DESTINATION DES LIEUX, VALIDE LE CONGE DELIVRE PAR DAME Y..., PROPRIETAIRE, A MATHIEU, PRENEUR, ET PRONONCE L'EXPULSION DE CELUI-CI, ALORS, SELON LE MOYEN, QUE, D'UNE PART, LEDIT PRENEUR AVAIT, DANS SES CONCLUSIONS D'APPEL DEMEUREES SANS REPONSE, SOULIGNE QUE L'ALLUSION AU CARACTERE COMMERCIAL D'UNE PARTIE DES LOCAUX ETAIT \"SANS INCIDENCE\" DES LORS QUE LE CONTRAT NE COMPORTAIT AUCUNE DES CLAUSES USUELLES D'UN BAIL COMMERCIAL, SPECIALEMENT LA NECESSITE D'EXPLOITER DANS LES LIEUX UN FONDS DE COMMERCE ET DE GARNIR LES LOCAUX LOUES DE MATERIEL ET DE MARCHANDISES SUFFISANTS POUR GARANTIR LE PAYEMENT DES LOYERS ET QUE, D'AUTRE PART, LA VOLONTE DES PARTIES DE CONCLURE UN BAIL COMMERCIAL \"NE SUFFISANT PAS A LA LEGISLATION SUR LES BAUX COMMERCIAUX\", LES JUGES DU FOND DEVAIENT RECHERCHER QUELLES AVAIENT ETE, EN FAIT, DANS L'INTENTION DES PARTIES, LA NATURE ET L'UTILISATION DES LIEUX ;\n",
      "   MAIS ATTENDU QUE LE CARACTERE D'UNE LOCATION EST DETERMINE NON PAR L'USAGE QUE LE LOCATAIRE A PU FAIRE DE LA CHOSE LOUEE, MAIS PAR LA DESTINATION QUE LES PARTIES ONT ENTENDU LUI DONNER LORS DE LA CONCLUSION DU CONTRAT ;\n",
      "\n",
      " QUE, PAR ADOPTION DE MOTIFS, LA COUR D'APPEL CONSTATE \"QU'EN L'ESPECE, LA COMMUNE INTENTION DES PARTIES EST REVELEE PAR L'INTITULE MEME DU BAIL DU 16 OCTOBRE 1956, BAIL A LOYER DE LOCAL COMMERCIAL ET D'HABITATION, ET PAR L'AFFIRMATION DU PROPRIETAIRE QUI EXERCAIT, AUTREFOIS, DANS LES LIEUX, LE METIER D'ARTISAN-TAPISSIER, DE CE QU'IL DONNE A DEMOISELLE Z... (AUX DROITS DE LAQUELLE EST MATHIEU) QUI ACCEPTE, D'UNE PART, UN LOCAL COMMERCIAL, COMPRENANT UN MAGASIN, UN ARRIERE-MAGASIN, UNE GRANDE PIECE A USAGE DE BUREAU, D'AUTRE PART, AU PREMIER ETAGE, UN APPARTEMENT\", QU'ENFIN, \"IL EST CLAIR QUE MATHIEU, PAR L'ACTE DU 5 JUIN 1961 OU IL DECLARE ETRE COMMERCANT... EST DEVENU CESSIONNAIRE D'UN BAIL COMMERCIAL\" ;\n",
      "\n",
      " QU'ELLE DEDUIT DE CES CONSTATATIONS QUE MATHIEU AYANT \"SOUS-LOUE LE REZ-DE-CHAUSSEE DE L'IMMEUBLE A USAGE PROFESSIONNEL, EN A CHANGE, PAR LA-MEME, LA DESTINATION\" ;\n",
      "\n",
      " QUE LA COUR D'APPEL A AINSI REPONDU AUX CONCLUSIONS PRETENDUMENT DELAISSEES ET QUE LE MOYEN N'EST FONDE DANS AUCUNE DE SES BRANCHES ;\n",
      "\n",
      "   PAR CES MOTIFS :\n",
      "    REJETTE LE POURVOI FORME CONTRE L'ARRET RENDU LE 10 JANVIER 1968 PAR LA COUR D'APPEL D'AGEN.\n",
      "N° 68-11.164 MATHIEU C/ DAME Y.... PRESIDENT : M. DE MONTERA. - RAPPORTEUR : M. ZOUSMANN. - AVOCAT GENERAL : M. PAUCOT. - AVOCATS :\n",
      " MM. X... ET LE PRADO. A RAPPROCHER : 3E CIV., 16 AVRIL 1969, BULL. 1969, III, N° 284, P. 218 (REJET);\n",
      "SOC., 9 MAI 1967, BULL. 1967, IV, N° 384, P. 320 (CASSATION).\n",
      "\n",
      "\n",
      "\n",
      "moyen unique pris deux branches attendu fait grief a arret confirmatif attaque avoir declare *_* bail litigieux constate absence exploitation artisanale *_* changement destination lieux valide conge delivre dame proprietaire a mathieu preneur prononce expulsion celui-ci alors selon moyen part ledit preneur conclusions appel demeurees sans reponse souligne allusion caractere *_* partie locaux etait `` sans incidence '' lors contrat comportait aucune clauses usuelles bail *_* specialement necessite exploiter les lieux fonds commerce garnir les locaux loues materiel marchandises suffisants garantir payement loyers autre part volonte parties conclure bail *_* `` suffisant a legislation les baux commerciaux '' les juges fond devaient rechercher quelles ete fait intention parties nature utilisation lieux . attendu caractere location determine non usage locataire a pu faire chose louee destination les parties entendu donner lors conclusion contrat . adoption motifs cour appel constate `` espece commune intention parties revelee intitule meme bail N octobre N bail a loyer local *_* habitation affirmation proprietaire exercait autrefois les lieux metier artisan-tapissier donne a demoiselle z droits laquelle mathieu accepte part local *_* comprenant magasin arriere-magasin grande piece a usage bureau autre part premier etage appartement '' enfin `` clair mathieu acte 5 juin N declare etre commercant devenu cessionnaire bail *_* '' . deduit constatations mathieu `` sous-loue rez-de-chaussee immeuble a usage professionnel a change la-meme destination '' . cour appel a ainsi repondu conclusions pretendument delaissees moyen fonde aucune branches . motifs rejette pourvoi forme contre arret rendu N janvier N cour appel agen.n N.N mathieu dame y. president m. montera . - rapporteur m. zousmann . - avocat general m. paucot . - avocats mm . x prado . a rapprocher 3e civ . N avril N bull . N iii N p. N rejet.soc . 9 mai N bull . N iv N p. N cassation . \n"
     ]
    },
    {
     "data": {
      "text/plain": [
       "[\"moyen unique pris deux branches attendu fait grief a arret confirmatif attaque avoir declare *_* bail litigieux constate absence exploitation artisanale *_* changement destination lieux valide conge delivre dame proprietaire a mathieu preneur prononce expulsion celui-ci alors selon moyen part ledit preneur conclusions appel demeurees sans reponse souligne allusion caractere *_* partie locaux etait `` sans incidence '' lors contrat comportait aucune clauses usuelles bail *_* specialement necessite exploiter les lieux fonds commerce garnir les locaux loues materiel marchandises suffisants garantir payement loyers autre part volonte parties conclure bail *_* `` suffisant a legislation les baux commerciaux '' les juges fond devaient rechercher quelles ete fait intention parties nature utilisation lieux .\",\n",
       " 'attendu caractere location determine non usage locataire a pu faire chose louee destination les parties entendu donner lors conclusion contrat .',\n",
       " \"adoption motifs cour appel constate `` espece commune intention parties revelee intitule meme bail N octobre N bail a loyer local *_* habitation affirmation proprietaire exercait autrefois les lieux metier artisan-tapissier donne a demoiselle z droits laquelle mathieu accepte part local *_* comprenant magasin arriere-magasin grande piece a usage bureau autre part premier etage appartement '' enfin `` clair mathieu acte 5 juin N declare etre commercant devenu cessionnaire bail *_* '' .\",\n",
       " \"deduit constatations mathieu `` sous-loue rez-de-chaussee immeuble a usage professionnel a change la-meme destination '' .\",\n",
       " 'cour appel a ainsi repondu conclusions pretendument delaissees moyen fonde aucune branches .',\n",
       " 'motifs rejette pourvoi forme contre arret rendu N janvier N cour appel agen.n N.N mathieu dame y. president m. montera .',\n",
       " '- rapporteur m. zousmann .',\n",
       " '- avocat general m. paucot .',\n",
       " '- avocats mm .',\n",
       " 'x prado .',\n",
       " 'a rapprocher 3e civ .',\n",
       " 'N avril N bull .',\n",
       " 'N iii N p. N rejet.soc .',\n",
       " '9 mai N bull .',\n",
       " 'N iv N p. N cassation .']"
      ]
     },
     "execution_count": 119,
     "metadata": {},
     "output_type": "execute_result"
    }
   ],
   "source": [
    "from nltk.tokenize import sent_tokenize\n",
    "\n",
    "print(df['text'][52075])\n",
    "print(X[52075])\n",
    "\n",
    "sent_tokenize(X[52075])\n",
    "\n"
   ]
  },
  {
   "cell_type": "code",
   "execution_count": 68,
   "metadata": {},
   "outputs": [
    {
     "data": {
      "text/plain": [
       "['\\nSUR LE PREMIER MOYEN, PRIS DE LA VIOLATION DES ARTICLES 541 DU CODE DE PROCEDURE CIVILE, 24-A DU LIVRE 1ER DU CODE DU TRAVAIL ET 7 DE LA LOI DU 20 AVRIL 1810, DEFAUT DE MOTIFS, DEFAUT DE REPONSE AUX CONCLUSIONS, MANQUE DE BASE LEGALE ;\\n\\nATTENDU QU\\'IL RESULTE DU JUGEMENT ATTAQUE QUE OTT, AU SERVICE DE LA COMPAGNIE INTERNATIONALE DES WAGONS-LITS DEPUIS LE 12 MARS 1959, ARRETA SON TRAVAIL POUR MALADIE LE 7 FEVRIER 1968 ;\\n\\n QU\\'EXAMINE PAR LE MEDECIN DE L\\'ENTREPRISE LE 7 MARS SUIVANT IL FUT DECLARE DEFINITIVEMENT INAPTE A SON EMPLOI ;\\n\\n QUE LE MEME JOUR LA COMPAGNIE INFORMA OTT QUE LE CONTRAT DE TRAVAIL SE TROUVAIT ROMPU ET QUE SES SERVICES PRENAIENT FIN LE 6 MARS 1968 AU SOIR ;\\n\\n QUE LES 15 MARS ET 9 AVRIL 1968 OTT SIGNA DEUX \"RECUS POUR SOLDE DE TOUS COMPTES\", L\\'UN POUR LES SALAIRES ET INDEMNITES AFFERENTES A LA PERIODE DU 1ER AU 6 MARS 1968, L\\'AUTRE POUR L\\'INDEMNITE DE CONGEDIEMENT CALCULEE SELON LA CONVENTION COLLECTIVE APPLICABLE ;\\n\\n QUE OTT ASSIGNA LA COMPAGNIE EN OCTOBRE 1968 POUR OBTENIR PAYEMENT D\\'UNE SOMME DE 1.940 FRANCS CORRESPONDANT AU DELAI CONGE DE DEUX MOIS INSTITUE PAR L\\'ORDONNANCE DU 13 JUILLET 1967 ;\\n\\nATTENDU QUE LA COMPAGNIE INTERNATIONALE DES WAGONS-LITS FAIT GRIEF AU JUGEMENT ATTAQUE, DE L\\'AVOIR CONDAMNEE A VERSER A OTT L\\'INDEMNITE COMPENSATRICE DE PREAVIS ET L\\'INDEMNITE SPECIALE PREVUE PAR LES ARTICLES 4 DE L\\'ORDONNANCE 67-581 DU 13 JUILLET 1967 ET 2 DU DECRET 67-582 DU 13 JUILLET 1967 AU MOTIF QU\\'OTT AVAIT ETE LICENCIE PAR SON EMPLOYEUR ALORS QUE DANS DES CONCLUSIONS DEMEUREES SANS REPONSE LA COMPAGNIE DES WAGONS-LITS AVAIT FAIT VALOIR QUE LES RECUS POUR SOLDE DE TOUS COMPTES SIGNES PAR L\\'EMPLOYE N\\'AVAIENT JAMAIS ETE REGULIEREMENT DENONCES ET QU\\'AINSI LE JUGEMENT ATTAQUE N\\'A PAS MIS LA COUR DE CASSATION EN MESURE D\\'EXERCER NORMALEMENT SON CONTROLE SUR LA LEGALITE DE LA DECISION ;\\n\\nMAIS ATTENDU QUE SI, DANS SES CONCLUSIONS LA COMPAGNIE INTERNATIONALE DES WAGONS-LITS AVAIT RELEVE QUE OTT AVAIT SIGNE POUR CHACUNE DES SOMMES VERSEES LES 15 MARS ET 9 AVRIL 1968 UN \"RECU POUR SOLDE DE TOUS COMPTES\", ELLE AVAIT DISCUTE AU FOND LA DEMANDE EN PAYEMENT DE L\\'INDEMNITE DE PREAVIS ET DE L\\'INDEMNITE SPECIALE PREVUES PAR L\\'ORDONNANCE DU 13 JUILLET 1967 SANS AVOIR PREALABLEMENT SOULEVE LA FORCLUSION ;\\n\\n QUE CETTE FIN DE NON RECEVOIR QUI N\\'A PAS ETE INVOQUEE DEVANT LE JUGE DU FOND ET QUI N\\'EST PAS D\\'ORDRE PUBLIC NE SAURAIT ETRE SOULEVEE POUR LA PREMIERE FOIS DEVANT LA COUR DE CASSATION ;\\n\\nQUE DES LORS LE PREMIER MOYEN NE PEUT ETRE ACCUEILLI ;\\n\\nPAR CES MOTIFS, REJETTE LE PREMIER MOYEN ;\\n\\nMAIS SUR LE SECOND MOYEN : VU L\\'ARTICLE 23 DU LIVRE 1ER DU CODE DU TRAVAIL ;\\n\\nATTENDU QU\\'IL RESULTE DE CE TEXTE QUE LE SALAIRE ETANT LA CONTRE-PARTIE DU TRAVAIL FOURNI, LE SALARIE NE DEVIENT CREANCIER DE L\\'INDEMNITE FORFAITAIRE EGALE AU SALAIRE AFFERENT AU DELAI-CONGE QU\\'A CHARGE PAR LUI DE RESTER A LA DISPOSITION DE SON EMPLOYEUR LORSQUE CE N\\'EST PAS CELUI-CI QUI S\\'EST OPPOSE A CE QU\\'IL REMPLISSE LES OBLIGATIONS DECOULANT DE SON CONTRAT JUSQU\\'A L\\'EXPIRATION DU DELAI ;\\n\\nATTENDU QUE LE JUGEMENT ATTAQUE A CONSTATE QUE OTT, AU SERVICE DE LA COMPAGNIE INTERNATIONALE DES WAGONS-LITS DEPUIS LE 12 MARS 1959, AVAIT APRES PLUSIEURS ABSENCES, INTERROMPU SON TRAVAIL POUR MALADIE LE 7 FEVRIER 1968 ;\\n\\n QU\\'EXAMINE PAR LE MEDECIN DE L\\'ENTREPRISE LE 7 MARS SUIVANT, IL FUT DECLARE DEFINITIVEMENT INAPTE A SON EMPLOI ET FUT AVISE QU\\'EN RAISON DE CE FAIT SES SERVICES PRENAIENT FIN A LA DATE DU 6 MARS AU SOIR ;\\n\\n QUE SE CONSIDERANT COMME LICENCIE PAR LA COMPAGNIE, IL L\\'ASSIGNA EN PAYEMENT D\\'UNE INDEMNITE COMPENSATRICE DE PREAVIS CALCULEE CONFORMEMENT AUX DISPOSITIONS DE L\\'ORDONNANCE ET DU DECRET DU 13 JUILLET 1967 ;\\n\\nATTENDU QUE POUR FAIRE DROIT A CETTE DEMANDE, LE CONSEIL DE PRUD\\'HOMMES A ESTIME QUE SELON L\\'ARTICLE 43 DE LA CONVENTION COLLECTIVE APPLICABLE \"LE LICENCIEMENT POUR DES MOTIFS TIRES DES CONDITIONS PHYSIQUES DE L\\'EMPLOYE\" DONNAIT DROIT AU PREAVIS, ET QUE PAR SA CIRCULAIRE DU 31 AOUT 1967 PRISE POUR L\\'APPLICATION DES DISPOSITIONS DE L\\'ORDONNANCE DU 13 JUILLET 1967, LA COMPAGNIE AVAIT ADMIS QUE L\\'INDEMNITE COMPENSATRICE DE PREAVIS ACCOMPAGNEE DE L\\'INDEMNITE SPECIALE ETAIT DUE A L\\'AGENT INAPTE ;\\n\\nQU\\'EN STATUANT AINSI, ALORS D\\'UNE PART QUE SI SELON L\\'ARTICLE 44 DE LA CONVENTION COLLECTIVE, SAUF LES CAS DE DEMISSION, DE LICENCIEMENT PENDANT LA PERIODE D\\'ESSAI ET DE REVOCATION, TOUT EMPLOYE A DROIT A UN PREAVIS DE LICENCIEMENT CONFORMEMENT A LA LOI, IL NE S\\'ENSUIT PAS QU\\'UNE INDEMNITE COMPENSATRICE DE PREAVIS SOIT DUE A L\\'AGENT OU EMPLOYE DEVENU PHYSIQUEMENT INCAPABLE DE CONTINUER A EXECUTER SON TRAVAIL, MEME PENDANT LA DUREE DU DELAI CONGE, ET ALORS D\\'AUTRE PART QUE LA CIRCULAIRE INVOQUEE PAR OTT A SUPPOSER QU\\'ELLE N\\'EUT PAS ETE MODIFIEE, N\\'AVAIT EU POUR OBJET QUE L\\'APPLICATION DES DISPOSITIONS LEGALES SANS Y AJOUTER, LE CONSEIL DE PRUD\\'HOMMES A FAUSSEMENT APPLIQUE ET DONC VIOLE LE TEXTE SUSVISE ;\\n\\nPAR CES MOTIFS, ET SANS QU\\'IL Y AIT LIEU DE STATUER SUR LE PREMIER MOYEN ;\\n\\nCASSE ET ANNULE, LE JUGEMENT RENDU ENTRE LES PARTIES LE 2 FEVRIER 1970, PAR LE CONSEIL DE PRUD\\'HOMMES DE PARIS ;\\n\\n REMET EN CONSEQUENCE QUANT A CE LA CAUSE ET LES PARTIES AU MEME ET SEMBLABLE ETAT OU ELLES ETAIENT AVANT LEDIT JUGEMENT, ET, POUR ETRE FAIT DROIT, LES RENVOIE DEVANT LE CONSEIL DE PRUD\\'HOMMES DE VERSAILLES.']"
      ]
     },
     "execution_count": 68,
     "metadata": {},
     "output_type": "execute_result"
    }
   ],
   "source": [
    "count_vect = CountVectorizer()\n",
    "count_vect = count_vect.fit(X)\n",
    "freq_term_matrix = count_vect.transform(X)\n",
    "\n",
    "tfidf = TfidfTransformer(norm=\"l2\")\n",
    "tfidf.fit(freq_term_matrix)\n",
    "    \n",
    "doc_freq_term = count_vect.transform(X)\n",
    "doc_tfidf_matrix = tfidf.transform(doc_freq_term)"
   ]
  },
  {
   "cell_type": "markdown",
   "metadata": {},
   "source": [
    "## STEP 3 : Split Data"
   ]
  },
  {
   "cell_type": "code",
   "execution_count": 76,
   "metadata": {},
   "outputs": [
    {
     "name": "stdout",
     "output_type": "stream",
     "text": [
      "Y shape <class 'pandas.core.series.Series'> (500,)\n",
      "X shape <class 'pandas.core.series.Series'> (500,)\n",
      "45070    moyen unique pris premiere branche vu les arti...\n",
      "19285    premier moyen vu article code securite*_* les ...\n",
      "15478    moyen unique vu article code travail .attendu ...\n",
      "32738    cour cassation chambre *_* a rendu arrêt suiva...\n",
      "42239    moyen unique pris trois branches attendu fait ...\n",
      "Name: text, dtype: object\n",
      "6554     premier moyen pris violation fausse applicatio...\n",
      "49350    attendu selon les énonciations arrêt confirmat...\n",
      "37708    moyen unique pris diverses branches attendu ar...\n",
      "28547    vu connexité joint les pourvois ns n.n etn.n ....\n",
      "33179    cour cassation chambre *_* a rendu arrêt suiva...\n",
      "Name: text, dtype: object\n"
     ]
    }
   ],
   "source": [
    "from sklearn.model_selection import train_test_split\n",
    "\n",
    "print(\"Y shape\", type(y),y.shape)\n",
    "print(\"X shape\", type(X),X.shape)\n",
    "print(X.head())\n",
    "\n",
    "X_train, X_test, y_train, y_test= train_test_split(X, y, test_size = 0.2 ,random_state=42 )\n",
    "\n",
    "print(X_train.head())"
   ]
  },
  {
   "cell_type": "markdown",
   "metadata": {},
   "source": [
    "## STEP 5 : Train the model"
   ]
  },
  {
   "cell_type": "code",
   "execution_count": 108,
   "metadata": {},
   "outputs": [
    {
     "ename": "ValueError",
     "evalue": "Cannot take a larger sample than population when 'replace=False'",
     "output_type": "error",
     "traceback": [
      "\u001b[1;31m---------------------------------------------------------------------------\u001b[0m",
      "\u001b[1;31mValueError\u001b[0m                                Traceback (most recent call last)",
      "\u001b[1;32m<ipython-input-108-65a100d892ac>\u001b[0m in \u001b[0;36m<module>\u001b[1;34m\u001b[0m\n\u001b[1;32m----> 1\u001b[1;33m \u001b[0mmini_X_train\u001b[0m \u001b[1;33m=\u001b[0m \u001b[0mX_train\u001b[0m\u001b[1;33m.\u001b[0m\u001b[0msample\u001b[0m\u001b[1;33m(\u001b[0m\u001b[1;36m500\u001b[0m\u001b[1;33m)\u001b[0m\u001b[1;33m\u001b[0m\u001b[0m\n\u001b[0m\u001b[0;32m      2\u001b[0m \u001b[0mmini_y_train\u001b[0m \u001b[1;33m=\u001b[0m \u001b[0my_train\u001b[0m\u001b[1;33m.\u001b[0m\u001b[0msample\u001b[0m\u001b[1;33m(\u001b[0m\u001b[1;36m500\u001b[0m\u001b[1;33m)\u001b[0m\u001b[1;33m\u001b[0m\u001b[0m\n\u001b[0;32m      3\u001b[0m \u001b[0mprint\u001b[0m\u001b[1;33m(\u001b[0m\u001b[0mmini_X_train\u001b[0m\u001b[1;33m.\u001b[0m\u001b[0mshape\u001b[0m\u001b[1;33m)\u001b[0m\u001b[1;33m\u001b[0m\u001b[0m\n\u001b[0;32m      4\u001b[0m \u001b[0mprint\u001b[0m\u001b[1;33m(\u001b[0m\u001b[0mmini_y_train\u001b[0m\u001b[1;33m.\u001b[0m\u001b[0mshape\u001b[0m\u001b[1;33m)\u001b[0m\u001b[1;33m\u001b[0m\u001b[0m\n\u001b[0;32m      5\u001b[0m \u001b[0mmini_X_train\u001b[0m\u001b[1;33m.\u001b[0m\u001b[0mhead\u001b[0m\u001b[1;33m(\u001b[0m\u001b[1;33m)\u001b[0m\u001b[1;33m\u001b[0m\u001b[0m\n",
      "\u001b[1;32mc:\\users\\lucas\\appdata\\local\\programs\\python\\python36\\lib\\site-packages\\pandas\\core\\generic.py\u001b[0m in \u001b[0;36msample\u001b[1;34m(self, n, frac, replace, weights, random_state, axis)\u001b[0m\n\u001b[0;32m   4199\u001b[0m                              \"provide positive value.\")\n\u001b[0;32m   4200\u001b[0m \u001b[1;33m\u001b[0m\u001b[0m\n\u001b[1;32m-> 4201\u001b[1;33m         \u001b[0mlocs\u001b[0m \u001b[1;33m=\u001b[0m \u001b[0mrs\u001b[0m\u001b[1;33m.\u001b[0m\u001b[0mchoice\u001b[0m\u001b[1;33m(\u001b[0m\u001b[0maxis_length\u001b[0m\u001b[1;33m,\u001b[0m \u001b[0msize\u001b[0m\u001b[1;33m=\u001b[0m\u001b[0mn\u001b[0m\u001b[1;33m,\u001b[0m \u001b[0mreplace\u001b[0m\u001b[1;33m=\u001b[0m\u001b[0mreplace\u001b[0m\u001b[1;33m,\u001b[0m \u001b[0mp\u001b[0m\u001b[1;33m=\u001b[0m\u001b[0mweights\u001b[0m\u001b[1;33m)\u001b[0m\u001b[1;33m\u001b[0m\u001b[0m\n\u001b[0m\u001b[0;32m   4202\u001b[0m         \u001b[1;32mreturn\u001b[0m \u001b[0mself\u001b[0m\u001b[1;33m.\u001b[0m\u001b[0mtake\u001b[0m\u001b[1;33m(\u001b[0m\u001b[0mlocs\u001b[0m\u001b[1;33m,\u001b[0m \u001b[0maxis\u001b[0m\u001b[1;33m=\u001b[0m\u001b[0maxis\u001b[0m\u001b[1;33m,\u001b[0m \u001b[0mis_copy\u001b[0m\u001b[1;33m=\u001b[0m\u001b[1;32mFalse\u001b[0m\u001b[1;33m)\u001b[0m\u001b[1;33m\u001b[0m\u001b[0m\n\u001b[0;32m   4203\u001b[0m \u001b[1;33m\u001b[0m\u001b[0m\n",
      "\u001b[1;32mmtrand.pyx\u001b[0m in \u001b[0;36mmtrand.RandomState.choice\u001b[1;34m()\u001b[0m\n",
      "\u001b[1;31mValueError\u001b[0m: Cannot take a larger sample than population when 'replace=False'"
     ]
    }
   ],
   "source": [
    "#just for testing \n",
    "mini_X_train = X_train.sample(400)\n",
    "mini_y_train = y_train.sample(400)\n",
    "print(mini_X_train.shape)\n",
    "print(mini_y_train.shape)\n",
    "mini_X_train.head()\n",
    "#mini_y_train.head()"
   ]
  },
  {
   "cell_type": "code",
   "execution_count": 78,
   "metadata": {},
   "outputs": [
    {
     "data": {
      "text/plain": [
       "'moyen unique pris violation articles code *_* ainsi article 7 loi avril defaut contradiction motifs manque base legale . attendu fait grief a arret attaque statuant demande rappel salaires formee dame abadie contre societe a p avoir decide faute employeur avoir fourni delai mois toutes explications toutes justifications utiles sujet mode calcul utilise indemnites dues a dame abadie les mois janvier fevrier nil devrait payer forfaitairement somme f a titre complement salaire alors dame abadie indique les bases calcul remuneration sorte cour appel operant renversement fardeau preuve a fixe equite salaire peut resulter accord parties texte legislatif reglementaire . attendu les juges fond relevent embauchee septembre surveiller clientele magasins prisunic bordeaux libourne bouscat recu employeur temoignage satisfaction dame abadie a ete congediee fevrier peu apres avoir demande fevrier verifications diminution expliquait montant salaire mois janvier . societe laisse sans reponse les critiques dame abadie . dame abadie fait valoir conclusions diminution remuneration janvier fevrier resultait reduction montant indemnites ete versees alors recuperations ete plus nombreuses cours mois precedents entrainer majoration indemnites societe expliquait comment elles les calculees . cour appel a pu impartir a societe a p fournir les indications necesssaires sous astreinte correspondant montant dont estimait presomptions suffisantes dame abadie ete lesee diminution a laquelle employeur procede salaire cause demeuree non justifiee sans violer les textes vises moyen . motifs rejette pourvoi forme contre arret rendu 6 mai cour appel bordeaux . societe a p dame abadie baillarguet . president vigneron - rapporteur laroque - avocat general orvain - avocat marcilhacy . '"
      ]
     },
     "execution_count": 78,
     "metadata": {},
     "output_type": "execute_result"
    }
   ],
   "source": [
    "#just for testing \n",
    "mini_X_train.loc[4710]"
   ]
  },
  {
   "cell_type": "code",
   "execution_count": 112,
   "metadata": {},
   "outputs": [
    {
     "name": "stdout",
     "output_type": "stream",
     "text": [
      "['COMMERCIALE' 'SOCIALE']\n"
     ]
    }
   ],
   "source": [
    "### A RAJOUTER #####\n",
    "from sklearn.feature_extraction.text import TfidfTransformer\n",
    "from sklearn.feature_extraction.text import CountVectorizer\n",
    "from sklearn.preprocessing import LabelEncoder\n",
    "\n",
    "count_vect = CountVectorizer()\n",
    "X_train_counts = count_vect.fit_transform(X_train)\n",
    "type(X_train_counts)\n",
    "#print(X_train_counts)\n",
    "tf_transformer = TfidfTransformer().fit(X_train_counts)\n",
    "X_train_transformed = tf_transformer.transform(X_train_counts)\n",
    "#print(type(X_train_transformed))\n",
    "#print(X_train_transformed)\n",
    "\n",
    "X_test_counts = count_vect.transform(X_test)\n",
    "X_test_transformed = tf_transformer.transform(X_test_counts)\n",
    "#print(type(X_test_transformed))\n",
    "#print(X_test_transformed)\n",
    "\n",
    "labels = LabelEncoder()\n",
    "y_train_labels_fit = labels.fit(y_train)\n",
    "y_train_labels_trf = labels.transform(y_train)\n",
    "\n",
    "\n",
    "print(labels.classes_)"
   ]
  },
  {
   "cell_type": "code",
   "execution_count": 115,
   "metadata": {},
   "outputs": [
    {
     "name": "stdout",
     "output_type": "stream",
     "text": [
      "(100, 12114)\n",
      "pred [1 0 0 0 0 1 1 0 1 0 0 0 0 1 1 1 0 0 0 0 1 1 1 1 0 1 1 1 0 0 1 0 0 0 1 1 1\n",
      " 1 0 1 1 1 1 0 1 1 0 0 0 0 1 1 0 1 0 0 1 1 0 1 1 1 1 1 0 1 1 1 0 1 1 1 0 1\n",
      " 0 0 1 0 1 1 1 0 1 1 1 1 0 1 0 1 1 1 1 0 1 0 0 1 1 1]\n",
      " (100,)\n",
      "test [1 0 0 0 0 1 1 0 1 0 0 0 0 1 1 1 0 0 0 1 1 1 1 1 0 1 1 1 0 0 1 0 0 0 1 1 1\n",
      " 1 0 1 1 1 1 0 1 1 0 0 0 0 1 1 0 1 0 0 0 1 0 1 1 1 1 1 0 1 1 1 0 1 1 1 0 1\n",
      " 0 0 1 0 1 1 1 0 1 1 1 1 0 1 0 1 1 1 1 0 1 0 0 1 1 1]\n",
      "accuracy 0.98\n"
     ]
    }
   ],
   "source": [
    "#### A RAJOUTER ####\n",
    "from sklearn.svm import LinearSVC\n",
    "from sklearn.calibration import CalibratedClassifierCV\n",
    "from sklearn.metrics import accuracy_score\n",
    "\n",
    "linear_svc = LinearSVC()\n",
    "clf = linear_svc.fit(X_train_transformed,y_train_labels_trf)\n",
    "\n",
    "calibrated_svc = CalibratedClassifierCV(base_estimator = linear_svc, cv = \"prefit\")\n",
    "calibrated_svc.fit(X_train_transformed,y_train_labels_trf)\n",
    "predicted = calibrated_svc.predict(X_test_transformed)\n",
    "print(X_test_transformed.shape)\n",
    "\n",
    "print(\"pred\",predicted)\n",
    "print(\"\",y_test.shape)\n",
    "print(\"test\",y_test[0:100])\n",
    "\n",
    "acc = accuracy_score(y_test, predicted)\n",
    "print(\"accuracy\",acc)"
   ]
  },
  {
   "cell_type": "code",
   "execution_count": 52,
   "metadata": {},
   "outputs": [],
   "source": [
    "from sklearn.ensemble import RandomForestClassifier, AdaBoostClassifier, GradientBoostingClassifier, VotingClassifier\n",
    "from sklearn.tree import DecisionTreeClassifier\n",
    "from sklearn.metrics import accuracy_score"
   ]
  },
  {
   "cell_type": "code",
   "execution_count": 107,
   "metadata": {},
   "outputs": [
    {
     "data": {
      "text/plain": [
       "' rnd_clf = RandomForestClassifier(random_state=42, n_estimators=100)\\nrnd_clf.fit(mini_X_train, mini_y_train)\\n#y_pred = rnd_clf.predict(X_test) '"
      ]
     },
     "execution_count": 107,
     "metadata": {},
     "output_type": "execute_result"
    }
   ],
   "source": [
    "\"\"\" rnd_clf = RandomForestClassifier(random_state=42, n_estimators=100)\n",
    "rnd_clf.fit(mini_X_train, mini_y_train)\n",
    "#y_pred = rnd_clf.predict(X_test) \"\"\""
   ]
  },
  {
   "cell_type": "code",
   "execution_count": 153,
   "metadata": {},
   "outputs": [],
   "source": [
    "rnd_clf = RandomForestClassifier(random_state=42, n_estimators=100)\n",
    "\n",
    "ada_clf= AdaBoostClassifier(\n",
    "    DecisionTreeClassifier(max_depth=1), n_estimators=100,\n",
    "    algorithm=\"SAMME.R\", learning_rate=0.5, random_state=42)\n",
    "\n",
    "gdb_clf = GradientBoostingClassifier(random_state=42, n_estimators=100)\n",
    "\n",
    "voting_clf = VotingClassifier(\n",
    "    estimators=[('rfc', rnd_clf), ('abc', ada_clf), ('gbr', gdb_clf)],\n",
    "    voting='hard')"
   ]
  },
  {
   "cell_type": "code",
   "execution_count": 106,
   "metadata": {},
   "outputs": [
    {
     "data": {
      "text/plain": [
       "'for clf in (rnd_clf, ada_clf, gdb_clf, voting_clf):\\n    clf.fit(X_train, y_train)\\n    y_pred = clf.predict(X_test)\\n    print(clf.__class__.__name__, accuracy_score(y_test, y_pred)) '"
      ]
     },
     "execution_count": 106,
     "metadata": {},
     "output_type": "execute_result"
    }
   ],
   "source": [
    "\"\"\"for clf in (rnd_clf, ada_clf, gdb_clf, voting_clf):\n",
    "    clf.fit(X_train, y_train)\n",
    "    y_pred = clf.predict(X_test)\n",
    "    print(clf.__class__.__name__, accuracy_score(y_test, y_pred)) \"\"\""
   ]
  },
  {
   "cell_type": "code",
   "execution_count": null,
   "metadata": {},
   "outputs": [],
   "source": []
  }
 ],
 "metadata": {
  "kernelspec": {
   "display_name": "Python 3",
   "language": "python",
   "name": "python3"
  },
  "language_info": {
   "codemirror_mode": {
    "name": "ipython",
    "version": 3
   },
   "file_extension": ".py",
   "mimetype": "text/x-python",
   "name": "python",
   "nbconvert_exporter": "python",
   "pygments_lexer": "ipython3",
   "version": "3.6.6"
  }
 },
 "nbformat": 4,
 "nbformat_minor": 2
}
