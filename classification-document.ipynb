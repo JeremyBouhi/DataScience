{
 "cells": [
  {
   "cell_type": "markdown",
   "metadata": {},
   "source": [
    "Project by Jeremy Bouhi & Lucas Trevalinet\n",
    "\n",
    "# Classification Document\n"
   ]
  },
  {
   "cell_type": "markdown",
   "metadata": {},
   "source": [
    "## Imports"
   ]
  },
  {
   "cell_type": "code",
   "execution_count": 1,
   "metadata": {},
   "outputs": [],
   "source": [
    "import numpy as np\n",
    "import pandas as pd\n",
    "import os\n",
    "import xml.etree.ElementTree as ET\n",
    "from pathlib import Path\n",
    "import re\n",
    "import pyprind"
   ]
  },
  {
   "cell_type": "markdown",
   "metadata": {},
   "source": [
    "## STEP 1 : Grab Data"
   ]
  },
  {
   "cell_type": "code",
   "execution_count": 3,
   "metadata": {},
   "outputs": [],
   "source": [
    "# We consider you had already unzip the dataset file and that this file is in the parent folder\n",
    "\n",
    "#GLOBAL_PATH = os.path.join(\"Freemium_cass_global_20180315-170000\",\"20180315-170000\", \"juri\",\"cass\",\"global\") #Lucas' Path\n",
    "GLOBAL_PATH = os.path.join(\"..\",\"20180315-170000\", \"juri\",\"cass\",\"global\") #Jeremy's Path\n",
    "\n",
    "# We need to do that for excluding data from Juri_path\n",
    "CIVILE_PATH = os.path.join(GLOBAL_PATH,\"civile\")\n",
    "COMMERCIALE_PATH = os.path.join(GLOBAL_PATH,\"commerciale\")\n",
    "CRIMINELLE_PATH = os.path.join(GLOBAL_PATH,\"criminelle\")\n",
    "SOCIALE_PATH = os.path.join(GLOBAL_PATH,\"sociale\")"
   ]
  },
  {
   "cell_type": "code",
   "execution_count": 4,
   "metadata": {},
   "outputs": [],
   "source": [
    "from nltk.tokenize import sent_tokenize\n",
    "\n",
    "ident = []\n",
    "text = []\n",
    "division = []\n",
    "#DATA_PATH = [SOCIALE_PATH] # For faster test\n",
    "DATA_PATH = [CIVILE_PATH, COMMERCIALE_PATH, CRIMINELLE_PATH, SOCIALE_PATH]\n",
    "\n",
    "for DIVISION_PATH in DATA_PATH :\n",
    "    xml_files = list(Path(DIVISION_PATH).glob('**/*.xml'))\n",
    "    \n",
    "    for xml_file in xml_files:\n",
    "    \n",
    "        with open(xml_file, 'r', encoding=\"utf-8\") as content:\n",
    "\n",
    "            etree = ET.parse(content) #create an ElementTree object \n",
    "            root = etree.getroot()\n",
    "            \n",
    "            # For getting the ID\n",
    "            for child in root.iter('META_COMMUN'):\n",
    "                id = child.find('ID').text\n",
    "                ident.append(id)\n",
    "\n",
    "            \n",
    "            for child in root.iter('BLOC_TEXTUEL'):\n",
    "                contenu = \"\".join(child.itertext())\n",
    "                text.append(contenu)\n",
    "                \n",
    "            # For getting the division    \n",
    "            for child in root.iter('META_JURI_JUDI'):\n",
    "                formation = re.sub('CHAMBRE|_|[0-9]', '', child.find('FORMATION').text)\n",
    "                division.append(formation)\n"
   ]
  },
  {
   "cell_type": "markdown",
   "metadata": {},
   "source": [
    "## STEP 2 : Create DataFrame to manipulate easily data"
   ]
  },
  {
   "cell_type": "code",
   "execution_count": 21,
   "metadata": {},
   "outputs": [],
   "source": [
    "d = {'id': ident, 'text': text, 'division': division}\n",
    "df = pd.DataFrame(data = d)\n",
    "    \n",
    "df[df['text']!=\"\"]\n",
    "    \n",
    "# remove all NaN values from df\n",
    "df.dropna()\n",
    "\n",
    "# save for the next time\n",
    "df.to_pickle('3FD8KA7.pkl')\n",
    "    "
   ]
  },
  {
   "cell_type": "code",
   "execution_count": 20,
   "metadata": {},
   "outputs": [
    {
     "name": "stdout",
     "output_type": "stream",
     "text": [
      "Empty DataFrame\n",
      "Columns: [id, text, division]\n",
      "Index: []\n"
     ]
    }
   ],
   "source": [
    "print(df[df['text']==\"\"])"
   ]
  },
  {
   "cell_type": "code",
   "execution_count": 2,
   "metadata": {},
   "outputs": [],
   "source": [
    "df = pd.read_pickle('3FD8KA7.pkl')"
   ]
  },
  {
   "cell_type": "code",
   "execution_count": 321,
   "metadata": {},
   "outputs": [
    {
     "name": "stdout",
     "output_type": "stream",
     "text": [
      "You chose to run using fast_execution\n",
      "data size:  500\n"
     ]
    }
   ],
   "source": [
    "fast_execution = True #to run code faster\n",
    "mini_df = df.sample(500)\n",
    "\n",
    "if(fast_execution) : \n",
    "    X = mini_df['text']\n",
    "    y = mini_df['division']\n",
    "    print('You chose to run using fast_execution')\n",
    "    print('data size: ', X.shape[0])\n",
    "\n",
    "else :\n",
    "    X = df['text']\n",
    "    y = df['division']\n",
    "    print('You chose to run with the whole dataset')\n",
    "    print('data size: ', X.shape[0])\n",
    "    \n",
    "formatted_X = X"
   ]
  },
  {
   "cell_type": "markdown",
   "metadata": {},
   "source": [
    "## STEP 4 : Clean Data"
   ]
  },
  {
   "cell_type": "code",
   "execution_count": 322,
   "metadata": {},
   "outputs": [],
   "source": [
    "def clean_references_to_law_codes(text) : \n",
    "    return re.sub('(?<=Code )civil|de l\\'action sociale et des familles|de l\\'artisanat|des assurances|de l\\'aviation civile|du cinéma et de l image animée|de commerce|des communes( de la Nouvelle-Calédonie)?|de la consommation', '', ''.join(text))\n",
    "\n",
    "formatted_X = formatted_X.apply(clean_references_to_law_codes)"
   ]
  },
  {
   "cell_type": "code",
   "execution_count": 323,
   "metadata": {},
   "outputs": [],
   "source": [
    "# Clean references to law articles and all numbers\n",
    "\n",
    "def clean_references_to_law_articles(text) :\n",
    "    re.sub(r'((?:\\b[A-Z][\\.-]? ?)?(?:\\d+-?\\d+\\b))', 'N', ''.join(text))\n",
    "    text = re.sub(r'\\[[0-9]*\\]', '', text) #remove digits\n",
    "    return text\n",
    "\n",
    "formatted_X = formatted_X.apply(clean_references_to_law_articles)"
   ]
  },
  {
   "cell_type": "code",
   "execution_count": 324,
   "metadata": {},
   "outputs": [],
   "source": [
    "# Preprocessing step pull off all the htlm tag, \"\\n\", and any special characters\n",
    "def preprocessor(text):\n",
    "    text = re.sub('<[^>]*>', '', text) # remove HTML tags\n",
    "    text = re.sub('[,\\/#!$%\\^&\\*:{}=\\_`~()«»°–]','', text) # remove special characters except ; and . for spliting in sentences\n",
    "    text = re.sub('\\.\\.\\.','', text) # remove ...\n",
    "    text = re.sub(r'\\bM\\. \\b','M ', text) # explicit replacement of M. (because of the .)\n",
    "    text = text.replace(';','.') # some sentences are split by ;\n",
    "    text = text.replace('\\n','').replace('\\t','').replace('\\'',' ')\n",
    "    text.replace('\\s{2,}',' ')\n",
    "    return text\n",
    "\n",
    "X = X.apply(preprocessor) # Used for a better display of the most influential sentences\n",
    "formatted_X = formatted_X.apply(preprocessor)"
   ]
  },
  {
   "cell_type": "code",
   "execution_count": 325,
   "metadata": {},
   "outputs": [],
   "source": [
    "# Set to lower case\n",
    "def to_lower_case(s) :\n",
    "    return s.lower()\n",
    "\n",
    "formatted_X = formatted_X.apply(to_lower_case)"
   ]
  },
  {
   "cell_type": "code",
   "execution_count": 326,
   "metadata": {},
   "outputs": [],
   "source": [
    "# We decided to replace any corresponding labels to a unique special label : *_* \n",
    "def clean_words_corresponding_to_labels(text) :\n",
    "    return re.sub('\\b(criminel(le)?|commercial(e)?|social(e)?|civil(e))\\b', '*_*', ''.join(text))\n",
    "\n",
    "formatted_X = formatted_X.apply(clean_words_corresponding_to_labels)"
   ]
  },
  {
   "cell_type": "code",
   "execution_count": 327,
   "metadata": {},
   "outputs": [],
   "source": [
    "#Stop_words :\n",
    "from nltk.tokenize import word_tokenize\n",
    "from nltk.corpus import stopwords\n",
    "\n",
    "def remove_stop_words(text):\n",
    "    \n",
    "    french_stopwords = set(stopwords.words('french'))\n",
    "    tokens = word_tokenize(text, language='french')\n",
    "    \n",
    "    content_tokens = \"\"\n",
    "    for token in tokens:\n",
    "        if token not in french_stopwords:\n",
    "            content_tokens += token\n",
    "            content_tokens += \" \"\n",
    "    return(content_tokens) \n",
    "\n",
    "formatted_X = formatted_X.apply(remove_stop_words)"
   ]
  },
  {
   "cell_type": "code",
   "execution_count": 49,
   "metadata": {},
   "outputs": [],
   "source": [
    "text1 = \"coucou c'est moi les amis je suis super content étais etait\" # "
   ]
  },
  {
   "cell_type": "code",
   "execution_count": 50,
   "metadata": {},
   "outputs": [
    {
     "data": {
      "text/plain": [
       "\"coucou c'est les amis super content etait \""
      ]
     },
     "execution_count": 50,
     "metadata": {},
     "output_type": "execute_result"
    }
   ],
   "source": [
    "remove_stop_words(text)"
   ]
  },
  {
   "cell_type": "markdown",
   "metadata": {},
   "source": [
    "## Most influential words"
   ]
  },
  {
   "cell_type": "code",
   "execution_count": 328,
   "metadata": {},
   "outputs": [],
   "source": [
    "X_civile = formatted_X.where(y=='CIVILE')\n",
    "X_commerciale = formatted_X.where(y=='COMMERCIALE')\n",
    "X_criminelle = formatted_X.where(y=='CRIMINELLE')\n",
    "X_sociale = formatted_X.where(y=='SOCIALE')\n",
    "\n",
    "#to remove NaN values\n",
    "X_civile = X_civile[~X_civile.isnull()]\n",
    "X_commerciale = X_commerciale[~X_commerciale.isnull()]\n",
    "X_criminelle = X_criminelle[~X_criminelle.isnull()]\n",
    "X_sociale = X_sociale[~X_sociale.isnull()]"
   ]
  },
  {
   "cell_type": "code",
   "execution_count": 329,
   "metadata": {},
   "outputs": [
    {
     "name": "stdout",
     "output_type": "stream",
     "text": [
      "233\n",
      "91\n",
      "58\n",
      "118\n"
     ]
    }
   ],
   "source": [
    "#so they all have differents shapes\n",
    "print(X_civile.shape[0])\n",
    "print(X_commerciale.shape[0])\n",
    "print(X_criminelle.shape[0])\n",
    "print(X_sociale.shape[0])"
   ]
  },
  {
   "cell_type": "code",
   "execution_count": 330,
   "metadata": {},
   "outputs": [],
   "source": [
    "from sklearn.feature_extraction.text import CountVectorizer, TfidfTransformer\n",
    "\n",
    "def get_tfidf_matrix(X) : \n",
    "    \n",
    "    count_vect = CountVectorizer()\n",
    "    freq_term_matrix = count_vect.fit_transform(X)\n",
    "\n",
    "    tfidf = TfidfTransformer(norm=\"l2\")\n",
    "    doc_tfidf_matrix = tfidf.fit_transform(freq_term_matrix)\n",
    "    \n",
    "    return (doc_tfidf_matrix, count_vect)"
   ]
  },
  {
   "cell_type": "code",
   "execution_count": 331,
   "metadata": {},
   "outputs": [],
   "source": [
    "def get_influential_words(X, top=10) :\n",
    "    \n",
    "    tfidf_matrix, vec = get_tfidf_matrix(X)\n",
    "    \n",
    "    tfidf_sorting = np.argsort(tfidf_matrix.toarray()).flatten()[::-1]\n",
    "    feature_array = np.array(vec.get_feature_names())\n",
    "    top_n = feature_array[tfidf_sorting][:top]\n",
    "    \n",
    "    return top_n"
   ]
  },
  {
   "cell_type": "code",
   "execution_count": 332,
   "metadata": {},
   "outputs": [],
   "source": [
    "top_civile = get_influential_words(X_civile)\n",
    "top_commerciale = get_influential_words(X_commerciale)\n",
    "top_criminelle = get_influential_words(X_criminelle)\n",
    "top_sociale = get_influential_words(X_sociale)"
   ]
  },
  {
   "cell_type": "code",
   "execution_count": 333,
   "metadata": {},
   "outputs": [
    {
     "data": {
      "text/html": [
       "<div>\n",
       "<style scoped>\n",
       "    .dataframe tbody tr th:only-of-type {\n",
       "        vertical-align: middle;\n",
       "    }\n",
       "\n",
       "    .dataframe tbody tr th {\n",
       "        vertical-align: top;\n",
       "    }\n",
       "\n",
       "    .dataframe thead th {\n",
       "        text-align: right;\n",
       "    }\n",
       "</style>\n",
       "<table border=\"1\" class=\"dataframe\">\n",
       "  <thead>\n",
       "    <tr style=\"text-align: right;\">\n",
       "      <th></th>\n",
       "      <th>civile</th>\n",
       "      <th>commerciale</th>\n",
       "      <th>criminelle</th>\n",
       "      <th>sociale</th>\n",
       "    </tr>\n",
       "  </thead>\n",
       "  <tbody>\n",
       "    <tr>\n",
       "      <th>0</th>\n",
       "      <td>accident</td>\n",
       "      <td>donneur</td>\n",
       "      <td>permis</td>\n",
       "      <td>reglement</td>\n",
       "    </tr>\n",
       "    <tr>\n",
       "      <th>1</th>\n",
       "      <td>salarié</td>\n",
       "      <td>ordre</td>\n",
       "      <td>conduire</td>\n",
       "      <td>delpointe</td>\n",
       "    </tr>\n",
       "    <tr>\n",
       "      <th>2</th>\n",
       "      <td>témoin</td>\n",
       "      <td>société</td>\n",
       "      <td>suspension</td>\n",
       "      <td>societe</td>\n",
       "    </tr>\n",
       "    <tr>\n",
       "      <th>3</th>\n",
       "      <td>travail</td>\n",
       "      <td>habib</td>\n",
       "      <td>opposition</td>\n",
       "      <td>52</td>\n",
       "    </tr>\n",
       "    <tr>\n",
       "      <th>4</th>\n",
       "      <td>2008</td>\n",
       "      <td>documentaire</td>\n",
       "      <td>arrêt</td>\n",
       "      <td>miniere</td>\n",
       "    </tr>\n",
       "    <tr>\n",
       "      <th>5</th>\n",
       "      <td>législation</td>\n",
       "      <td>bank</td>\n",
       "      <td>restituer</td>\n",
       "      <td>secours</td>\n",
       "    </tr>\n",
       "    <tr>\n",
       "      <th>6</th>\n",
       "      <td>employeur</td>\n",
       "      <td>transporteur</td>\n",
       "      <td>claude</td>\n",
       "      <td>coefficient</td>\n",
       "    </tr>\n",
       "    <tr>\n",
       "      <th>7</th>\n",
       "      <td>professionnelle</td>\n",
       "      <td>émettrice</td>\n",
       "      <td>véhicule</td>\n",
       "      <td>echelle</td>\n",
       "    </tr>\n",
       "    <tr>\n",
       "      <th>8</th>\n",
       "      <td>survenu</td>\n",
       "      <td>bénéficiaire</td>\n",
       "      <td>défaut</td>\n",
       "      <td>organigramme</td>\n",
       "    </tr>\n",
       "    <tr>\n",
       "      <th>9</th>\n",
       "      <td>août</td>\n",
       "      <td>crédit</td>\n",
       "      <td>1989</td>\n",
       "      <td>declassement</td>\n",
       "    </tr>\n",
       "  </tbody>\n",
       "</table>\n",
       "</div>"
      ],
      "text/plain": [
       "            civile   commerciale  criminelle       sociale\n",
       "0         accident       donneur      permis     reglement\n",
       "1          salarié         ordre    conduire     delpointe\n",
       "2           témoin       société  suspension       societe\n",
       "3          travail         habib  opposition            52\n",
       "4             2008  documentaire       arrêt       miniere\n",
       "5      législation          bank   restituer       secours\n",
       "6        employeur  transporteur      claude   coefficient\n",
       "7  professionnelle     émettrice    véhicule       echelle\n",
       "8          survenu  bénéficiaire      défaut  organigramme\n",
       "9             août        crédit        1989  declassement"
      ]
     },
     "execution_count": 333,
     "metadata": {},
     "output_type": "execute_result"
    }
   ],
   "source": [
    "per_division = {'civile': top_civile, 'commerciale': top_commerciale, 'criminelle': top_criminelle, 'sociale': top_sociale}\n",
    "words_df = pd.DataFrame(data = per_division)\n",
    "\n",
    "words_df"
   ]
  },
  {
   "cell_type": "markdown",
   "metadata": {},
   "source": [
    "## Build document summarizer"
   ]
  },
  {
   "cell_type": "markdown",
   "metadata": {},
   "source": [
    "Once you'll build the tf-idf matrix for the text corpus, you will use the tf-idf of each word to compute a value for each sentence. The n top sentences for a document will be used to represent the document."
   ]
  },
  {
   "cell_type": "code",
   "execution_count": 334,
   "metadata": {},
   "outputs": [],
   "source": [
    "def sent_tokenizer(text) : \n",
    "    return text.split('.')"
   ]
  },
  {
   "cell_type": "code",
   "execution_count": 335,
   "metadata": {},
   "outputs": [],
   "source": [
    "formatted_sentences_X = formatted_X\n",
    "formatted_sentences_X = formatted_sentences_X.apply(sent_tokenizer)\n",
    "X = X.apply(sent_tokenizer)"
   ]
  },
  {
   "cell_type": "code",
   "execution_count": 336,
   "metadata": {},
   "outputs": [
    {
     "name": "stdout",
     "output_type": "stream",
     "text": [
      "116\n"
     ]
    }
   ],
   "source": [
    "#if fast_execution was chosen, find the 1st right index of X (because we only took a sample)\n",
    "\n",
    "index = 0\n",
    "while (index not in X) :\n",
    "    index += 1\n",
    "print(index)"
   ]
  },
  {
   "cell_type": "code",
   "execution_count": 337,
   "metadata": {},
   "outputs": [
    {
     "name": "stdout",
     "output_type": "stream",
     "text": [
      "['cour cassation première chambre civile a rendu arrêt suivant joint les pourvois w 15-27 ', ' 127 v 15-27 ', ' 839 connexes ', ' recevabilité intervention associations union fédérale consommateurs-que choisir assurance emprunteur citoyen contestée société banque cic nord ouest attendu mémoires déposés greffe respectivement les 21 mars 11 avril 2017 les associations union fédérale consommateurs-que choisir assurance emprunteur citoyen déclaré intervenir appui prétentions mme x ', ' attendu interventions survenues avant ouverture débats recevables ', ' les moyens uniques pourvois réunis respectivement pris leurs première seconde branches vu les articles ', ' 113-12 code ', ' 312-9 code dernier rédaction antérieure celle issue loi 2010-737 1er juillet 2010 celle issue cette loi applicables cause ', ' attendu premier textes prévoit profit tant assuré assureur droit résilier contrat assurance moins deux mois avant date échéance annuelle ', ' vertu second droit ouvert cas contrat assurance groupe garantissant remboursement total partiel montant prêt immobilier restant dû contrat souscrit durée emprunt comportant échéance annuelle ', ' état textes reconnaissance bénéfice emprunteur faculté résiliation annuelle contrat assurance conduirait défaut accord prêteur nouveau contrat assurance offert garantie résiliation contrat prêt consenti sous condition octroi maintien assurance agréée prêteur telle résiliation pouvant imposer emprunteur vendre immeuble financé afin désintéresser créancier ', ' supposer maintien contrat prêt nécessaire modification rendue incertaine raison absence dispositions légales applicables litige régissant les effets résiliation emprunteur adhésion contrat assurance groupe ', ' attendu selon arrêt attaqué les 13 mars 2007 21 décembre 2010 mme x a conclu société banque scalbert dupont droits laquelle trouve société crédit industriel commercial nord ouest banque deux contrats prêt immobilier garantis contrat assurance groupe souscrit celle-ci auprès société assurances crédit mutuel vie assureur ', ' lettre 30 janvier 2012 a demandé banque substituer contrat assurance groupe celui souscrit auprès autre société assurance ', ' heurtée refus a assigné banque assureur fins voir constater résiliation adhésion contrat assurance groupe indemniser conséquences refus abusif ', ' attendu accueillir dernière demandes arrêt énonce emprunteur peut fondement article ', ' 113-12 code résilier adhésion contrat assurance groupe nonobstant désaccord prêteur ', ' statuant ainsi cour appel a violé les textes susvisés ', ' motifs sans lieu statuer les autres griefs déclare recevable intervention associations union fédérale consommateurs-que choisir assurance emprunteur citoyen ', ' casse annule sauf rejette demande mme x titre irrégularité contrats prêt arrêt rendu 17 septembre 2015 entre les parties cour appel douai ', ' remet conséquence les autres points cause les parties état où elles trouvaient avant ledit arrêt être fait droit les renvoie devant cour appel versailles ', ' condamne mme x dépens ', ' vu article 700 code procédure civile rejette les demandes ', ' dit les diligences procureur général près cour cassation présent arrêt transmis être transcrit marge suite arrêt partiellement cassé ', ' ainsi fait jugé cour cassation première chambre civile prononcé président audience publique vingt-quatre mai deux mille dix-sept ', ' moyens annexes présent arrêt moyen produit pourvoi w 15-27 ', ' 127 scp didier pinet avocat conseils société banque cic nord ouest ', ' fait grief arrêt attaqué avoir dit refus société crédit industriel commercial acm vie prendre acte résiliation contrats assurance vie auxquels mme x a adhéré lors signature contrats prêts société crédit industriel commercial les 26 mars 2007 21 décembre 2010 abusif ', ' motifs termes article ', ' 113-12 code dont les dispositions ordre public application dispositions article ', ' 111-2 code durée contrat les conditions fixées police ', ' toutefois assuré a possibilité résilier contrat expiration délai an envoyant lettre recommandée assureur moins deux mois avant date échéance ', ' droit appartient les mêmes conditions assureur ', ' peut être dérogé cette règle les contrats individuels assurance maladie couverture risques autres ceux particuliers ', ' droit résilier contrat tous les ans doit être rappelé chaque police ', ' délai résiliation court partir date figurant cachet poste ', ' les dispositions présent article applicables assurances vie ', ' les contrats assurance emprunteur garantissent outre risque décès divers autres risques tels incapacité temporaire travail invalidité caractère mixte relèvent régime vie adhésion contrat assurance groupe bien conséquence stipulation autrui créée moins lien contractuel direct nature synallagmatique entre adhérent contrat souscrit prêteur assureur agrée ', ' ailleurs les dispositions propres assurance emprunteur assurance groupe excluent faculté résiliation annuelle prévue article ', ' 113-12 code ', ' les dispositions article ', ' 141-4 code applicable assurances groupe excluent les assurances groupe objet garantie emprunt faculté dénonciation contrat assurance assuré cas modification apportée assureur contrat assurance renvoie lois spéciales point a revanche effet soustraire les contrats assurance groupe emprunteurs droit résiliation annuelle article ', ' 113-12 code ', ' ailleurs version applicable lors signature premier contrat prêt article ', ' 312-9 code prévoyait inopposabilité emprunteur toute modification apportée prêteur ultérieurement adhésion définition risques garantis modalités mise jeu assurance dispositions dont peut être déduite impossibilité assuré résilier contrat version issue loi 2010-737 1er juillet 2010 texte prévoit lors signature contrat prêteur peut refuser autre contrat assurance celui propose contient davantage disposition contredirait article ', ' 113-12 code ', ' enfin les dispositions cinquième alinéa article ', ' 312-9 issues loi 17 mars 2014 encadrent faculté résiliation contrat assurance faculté adhérent emprunteur substituer nouveau contrat assurance contrat auquel a adhéré lors signature offre prêt signifient cette faculté résiliation existait antérieurement publication ', ' résulte ensemble éléments faculté résiliation annuelle contrat prévue article l113-12 code applicable contrats prêt souscrits mme x les 26 mars 2007 21 décembre 2010 ', ' toutefois droit résilier contrat assurance doit être distingué droit substituer contrat assurance contrat initialement souscrit ', ' si contrat prêt contrat assurance constituent groupe contrats résiliation second entraînerait résiliation premier dès lors agit contrats indivisibles ', ' convient conséquent référer dispositions contractuelles liant les parties ', ' espèce article 6 offre prêt acceptée 26 mars 2007 relatif assurance emprunteurs dispose les personnes signé antérieurement présentes demande adhésion convention assurance collective emprunteurs conclue entre prêteur les assurances crédit mutuel confirme nt demande adhésion engage nt maintenir cette demande adhésion condition octroi prêt risque décès ', ' ailleurs paragraphe consacré engagements spécifiques contrats garantis société assurances crédit mutuel iard qualité caution prévu emprunteur engage souscrire assurance vie garantisse capital emprunté cas décès les échéances prêt cas incapacité temporaire sans autre précision identité assureur ', ' contrat prêt contient cependant clause déchéance terme cas résiliation contrat assurance exigibilité immédiate prévue cas où assuré bénéficierait plus assurance souscrite suite fausse déclaration non-paiement primes encore cas inexécution emprunteur engagements pris cadre présentes inexactitude déclarations éléments essentiels déterminé accord banque nature compromettre remboursement prêt ', ' ', ' offre prêt acceptée 9 décembre 2010 rédigée termes identiques rappelle article 15 emprunteur peut souscrire assurance auprès assureur choix prêteur peut refuser si présente niveau garantie équivalent ', ' enfin les notices information remises mme x prévoient article 5 ', ' 2 les garanties cessent cas résiliation adhésion emprunteur après accord organisme créancier ', ' déduit éléments si octroi prêts conditionné souscription assurance couvrant risque décès identité assureur constituait condition déterminante consentement prêteur résiliation initiative assuré surplus expressément mentionnée les notices information résiliation peut être assimilée manquement emprunteur sauf cas non-paiement primes fausse déclaration peut être retenu nature compromettre remboursement prêt si emprunteur justifie avoir souscrit nouvelle police comportant garanties équivalentes ', ' ailleurs si notice renvoie accord organisme créancier cette disposition contrevient dispositions ordre public article ', ' 113-12 code ', ' plus dès lors société crédit industriel commercial soutient les garanties contrat souscrit mme x auprès macif moindres celles contrat souscrit auprès acm vie refus donner accord résiliation demandée substitution nouveau contrat contrat initial motivé cette décision refus apparaît abusive ', ' convient conditions infirmer jugement dire mme x droit résilier les contrats assurances souscrits auprès société acm vie garantie deux contrats prêt a souscrits fondée solliciter fondement article 1376 code civil restitution primes indûment prélevées compte ', ' société acm vie bénéfice laquelle elles prélevées condamnée restituer mme x les cotisations perçues depuis date effet résiliation ', ' 1 alors les dispositions article ', ' 113-12 code inapplicables résiliation assuré adhésion contrat assurance garantissant cas survenance risque définit remboursement emprunt tel contrat spécialement régi article ', ' 312-9 code ', ' décidant contraire cour appel a violé article ', ' 113-2 code article ', ' 312-9 code tant rédaction antérieure loi 2010-737 1 er juillet 2010 rédaction issue cette loi ensemble principe selon lequel les lois spéciales dérogent lois générales ', ' 2 alors surplus article ', ' 312-9 code tant rédaction antérieure loi 2010-737 1er juillet 2010 rédaction issue cette loi prévoit faculté substitution assureur ', ' jugeant refus établissement crédit accepter telle substitution abusif dès lors motivé soutenu les garanties nouveau contrat moindres celles souscrites titre contrat initial cour appel a violé article 1134 code civil ', ' moyen produit pourvoi v 15-27 ', ' 839 scp gaschignard avocat conseils société assurances crédit mutuel vie ', ' fait grief arrêt attaqué avoir dit refus sociétés cic acm vie prendre acte résiliation contrats assurance auxquels mme x a adhéré lors signature contrats prêt cic les 26 mars 2007 21 décembre 2010 abusif condamné sociétés acm vie restituer les cotisations perçues depuis date effet résiliation demandée motifs les contrats assurance emprunteur garantissent outre risque décès divers autres risques tels incapacité temporaire travail invalidité caractère mixte relèvent régime vie adhésion contrat assurance groupe bien conséquence stipulation autrui créée moins lien contractuel direct nature synallagmatique entre adhérent contrat souscrit prêteur assureur agrée ', ' ailleurs les dispositions propres assurance emprunteur assurance groupe excluent faculté résiliation annuelle prévue article ', ' 113-12 code ', ' les dispositions article ', ' 141-4 code applicable assurances groupe excluent les assurances groupe objet garantie emprunt faculté dénonciation contrat assurance assuré cas modification apportée assureur contrat assurance renvoie lois spéciales point a revanche effet soustraire les contrats assurance groupe emprunteurs droit résiliation annuelle article ', ' 113-12 code ', ' ailleurs version applicable lors signature premier contrat prêt article ', ' 312-9 code prévoyait inopposabilité emprunteur toute modification apportée prêteur ultérieurement adhésion définition risques garantis modalités mise jeu assurance dispositions dont peut être déduite impossibilité assuré résilier contrat ', ' version issue loi 2010-737 1er juillet 2010 texte prévoit lors signature contrat prêteur peut refuser autre contrat assurance celui propose contient davantage disposition contredirait article ', ' 113-12 code ', ' enfin les dispositions cinquième alinéa article ', ' 312-9 issues loi 17 mars 2014 encadrent faculté résiliation contrat assurance faculté adhérent emprunteur substituer nouveau contrat assurance contrat auquel a adhéré lors signature offre prêt signifient cette faculté résiliation existait antérieurement publication ', ' résulte ensemble éléments faculté résiliation annuelle contrat prévue article ', ' 113-12 code applicable contrats prêt souscrits mme x les 26 mars 2007 21 décembre 2010 ', ' toutefois droit résilier contrat assurance doit être distingué droit substituer contrat assurance contrat initialement souscrit ', ' si contrat prêt contrat assurance constituent groupe contrats résiliation second entraînerait résiliation premier dès lors agit contrats indivisibles ', ' convient conséquent référer dispositions contractuelles liant les parties ', ' espèce article 6 offre prêt acceptée 26 mars 2007 relatif assurance emprunteurs dispose les personnes signé antérieurement présentes demande adhésion convention assurance collective emprunteurs conclue entre prêteur les assurances crédit mutuel confirme nt demande adhésion engage nt maintenir cette demande adhésion condition octroi prêt risque décès ', ' ailleurs paragraphe consacré engagements spécifiques contrats garantis société assurances crédit mutuel iard qualité caution prévu emprunteur engage souscrire assurance vie garantisse capital emprunté cas décès les échéances prêt cas incapacité temporaire sans autre précision identité assureur ', ' contrat prêt contient cependant clause déchéance terme cas résiliation contrat assurance exigibilité immédiate prévue cas où assuré bénéficierait plus assurance souscrite suite fausse déclaration non-paiement primes encore cas inexécution emprunteur engagements pris cadre présentes inexactitude déclarations éléments essentiels déterminé accord banque nature compromettre remboursement prêt ', ' offre prêt acceptée 9 décembre 2010 rédigée termes identiques rappelle article 15 emprunteur peut souscrire assurance auprès assureur choix prêteur peut refuser si présente niveau garantie équivalent ', ' enfin les notices information remises mme x prévoient article 5 ', ' 2 les garanties cessent cas résiliation adhésion emprunteur après accord organisme créancier ', ' déduit éléments si octroi prêts conditionné souscription assurance couvrant risque décès identité assureur constituait condition déterminante consentement prêteur résiliation initiative assuré surplus expressément mentionnée les notices information résiliation peut être assimilée manquement emprunteur sauf cas non-paiement primes fausse déclaration peut être retenu nature compromettre remboursement prêt si emprunteur justifie avoir souscrit nouvelle police comportant garanties équivalentes ', ' ailleurs si notice renvoie accord organisme créancier cette disposition contrevient dispositions ordre public article ', ' 113-12 code ', ' plus dès lors société crédit industriel commercial soutient les garanties contrat souscrit mme x auprès macif moindres celles contrat souscrit auprès acm vie refus donner accord résiliation demandée substitution nouveau contrat contrat initial motivé cette décision refus apparaît abusive ', ' convient conditions infirmer jugement dire mme x droit résilier les contrats assurances souscrits auprès société acm vie garantie deux contrats prêt a souscrits fondée solliciter fondement article 1376 code civil restitution primes indûment prélevées compte ', ' société acm vie bénéfice laquelle elles prélevées condamnée restituer mme x les cotisations perçues depuis date effet résiliation ', ' 1- alors les dispositions article ', ' 113-12 code trait résiliation contrat assurance souscripteur non résiliation adhésion contrat assurance groupe garantissant remboursement emprunt comporte reste aucune échéance annuelle ', ' retenant mme x adhéré contrat assurance groupe souscrit cic sud-ouest auprès société acm vie droit prévaloir article ', ' 113-12 code exercer faculté résiliation annuelle cour appel a violé ledit texte ensemble article ', ' 141-4 code ', ' 2- alors subsidiairement dérogeant dispositions générales applicables assurance les articles ', ' 312-8 ', ' 312-9 code leurs diverses rédactions applicables date souscription prêts litigieux prévu matière assurance contrat prêt faculté résiliation adhésion contrat assurance substitution assureur ', ' retenant mme x libre résilier adhésion contrat assurance groupe sans avoir respecter les conditions offre prêt acceptée où résultait adhésion contrat groupe assurances crédit mutuel condition octroi prêt ni celles notice information subordonnant résiliation adhésion accord organisme créancier cour appel a violé les textes susvisés rédaction applicable litige ', ' ']\n"
     ]
    }
   ],
   "source": [
    "print(formatted_sentences_X[index])\n",
    "#formatted_X[i]\n",
    "#X[index]"
   ]
  },
  {
   "cell_type": "code",
   "execution_count": 338,
   "metadata": {},
   "outputs": [],
   "source": [
    "tfidf_matrix, vec = get_tfidf_matrix(formatted_sentences_X[index])"
   ]
  },
  {
   "cell_type": "code",
   "execution_count": 339,
   "metadata": {},
   "outputs": [],
   "source": [
    "def get_top_sentences_for_document(formatted_X, real_X, index, top=5) :\n",
    "\n",
    "    top_sentences = []\n",
    "    sentence_score = []\n",
    "    tfidf_matrix, vec = get_tfidf_matrix(formatted_sentences_X[index])\n",
    "\n",
    "    for i in range(tfidf_matrix.shape[0]) :\n",
    "        mat = tfidf_matrix[i].toarray()\n",
    "\n",
    "        # The score of the sentence corresponds to the sum of the tf-idf of each word / number of words\n",
    "        sentence_score.append(np.sum(mat) / len(mat[mat > 0]))\n",
    "\n",
    "    print(sentence_score) \n",
    "    top_sentence_score = np.argsort(sentence_score)[::-1][:top]\n",
    "    print(top_sentence_score)\n",
    "\n",
    "    for i in range(top) : \n",
    "        top_sentences.append(real_X[index][top_sentence_score[i]])\n",
    "\n",
    "    return top_sentences"
   ]
  },
  {
   "cell_type": "code",
   "execution_count": 340,
   "metadata": {},
   "outputs": [
    {
     "name": "stdout",
     "output_type": "stream",
     "text": [
      "[0.271550201963919, 0.5753768546264781, 0.7064917857822048, 0.16270766842236783, 0.3762381194577115, 0.27628223601711716, 0.573515230327525, 0.2412273247096299, 0.22450407550903115, 0.20335544562591581, 0.17069082784517775, 0.2039965556780803, 0.1480412296947794, 0.2518049408404454, 0.2352303466093587, 0.30647118903363857, 0.2874556613898631, 0.3431228627091546, 0.22340887540597346, 0.21243433722735716, 0.21098587512818653, 0.560605345625793, 0.3157275213081542, 0.23650451577995799, 0.2281503901615379, 0.33141119590475043, 0.29882299349461705, 0.16689923598301393, 0.5533775307273002, 0.2976617369710222, 0.33304631373287585, 0.2310421191505029, 0.3880302054804849, 0.24824518033190873, 0.2887576022023017, 0.3459475719764492, 0.36328991009526723, 0.15355132910270872, 0.2682867299546486, 0.573515230327525, 0.5661472248632763, 0.16906764547482675, 0.573515230327525, 0.3243775451453753, 0.14218704110521838, 0.573515230327525, 0.38471698809256066, 0.18720603964029703, 0.197851621733481, 0.29350370925196606, 0.2505487675428923, 0.3423662907684286, 0.15230875596773932, 0.1644084984104085, 0.15211058396277302, nan, 0.1930737036010514, 0.3381801015170929, 0.2915950413037367, 0.1351238727673884, 0.26297734759496816, 0.573515230327525, 0.1680025730464642, 0.17153187021063654, 0.23658645429511543, 0.4732788569819686, 0.2145416113607502, 0.6939386784193919, 0.3946007304392746, 0.5711267401686431, 0.20554852977912735, 0.5544970710247262, 0.23515987946555655, 0.18452754626200019, 0.44580060597648813, 0.31019658703806713, 0.1099902487399161, 0.2682867299546486, 0.573515230327525, 0.5661472248632763, 0.16906764547482675, 0.573515230327525, 0.3243775451453753, 0.18732567789501714, 0.19958723300698442, 0.573515230327525, 0.38471698809256066, 0.18720603964029703, 0.32174251392493314, 0.2528717697271595, 0.29350370925196606, 0.2505487675428923, 0.3423662907684286, 0.15230875596773932, 0.1644084984104085, 0.15211058396277302, 0.1930737036010514, 0.3381801015170929, 0.2915950413037367, 0.1351238727673884, 0.26297734759496816, 0.573515230327525, 0.1680025730464642, 0.17153187021063654, 0.23658645429511543, 0.4732788569819686, 0.22405236195406344, 0.23382236359219188, 0.25882380489850393, 0.6737480576291895, 0.31732714439800697, 1.0, 0.21748821393160372, 0.15297360647437144, nan]\n",
      "[114  55 111   2  67]\n"
     ]
    },
    {
     "name": "stderr",
     "output_type": "stream",
     "text": [
      "/home/jerem/.local/lib/python3.6/site-packages/ipykernel_launcher.py:11: RuntimeWarning: invalid value encountered in double_scalars\n",
      "  # This is added back by InteractiveShellApp.init_path()\n"
     ]
    },
    {
     "data": {
      "text/plain": [
       "['',\n",
       " '  ',\n",
       " ' 312-8 et L',\n",
       " ' 839 qui sont connexes ',\n",
       " ' 312-9 du code de la consommation ']"
      ]
     },
     "execution_count": 340,
     "metadata": {},
     "output_type": "execute_result"
    }
   ],
   "source": [
    "get_top_sentences_for_document(formatted_sentences_X, X, index)\n",
    "q"
   ]
  },
  {
   "cell_type": "markdown",
   "metadata": {},
   "source": [
    "## STEP 3 : Split Data"
   ]
  },
  {
   "cell_type": "code",
   "execution_count": null,
   "metadata": {},
   "outputs": [],
   "source": [
    "from sklearn.model_selection import train_test_split\n",
    "\n",
    "X_train, X_test, y_train, y_test= train_test_split(X, y, test_size = 0.2 ,random_state=42,stratify=df[\"division\"] )\n",
    "print(X_train.head())"
   ]
  },
  {
   "cell_type": "markdown",
   "metadata": {},
   "source": [
    "## STEP 5 : Train the model"
   ]
  },
  {
   "cell_type": "code",
   "execution_count": 21,
   "metadata": {},
   "outputs": [],
   "source": [
    "from sklearn.ensemble import RandomForestClassifier, AdaBoostClassifier, GradientBoostingClassifier, VotingClassifier\n",
    "from sklearn.tree import DecisionTreeClassifier\n",
    "from sklearn.metrics import accuracy_score"
   ]
  },
  {
   "cell_type": "code",
   "execution_count": 22,
   "metadata": {},
   "outputs": [
    {
     "ename": "ValueError",
     "evalue": "could not convert string to float: \"\\nSur le moyen unique du pourvoi incident, qui est préalable :\\n   Attendu, selon l'arrêt attaqué qu'un tribunal de grande instance a prononcé la séparation de corps des époux X... aux torts de l'épouse ; que, par assignation du 21 juillet 1989, le mari a assigné sa femme aux fins de conversion de la séparation de corps en divorce ; que, par assignation en date du 2 août 1989, Mme X..., autorisée par une ordonnance de non-conciliation du 19 janvier 1989, a assigné son mari en divorce pour faute ; qu'après jonction de ces deux procédures, le tribunal de grande instance a prononcé la conversion de la séparation de corps en divorce aux torts de la femme, et, accueillant la demande en divorce de celle-ci, prononcé également le divorce à son profit ; qu'ensuite le Tribunal a constaté que les époux étaient ainsi divorcés aux torts partagés ;\\n   Attendu qu'il est fait grief à l'arrêt infirmatif attaqué d'avoir déclaré irrecevable la demande en divorce de la femme, alors que, d'une part, s'il est interdit à l'époux contre lequel la séparation de corps a été prononcée de greffer sur la demande de conversion de la séparation de corps en divorce formée par son conjoint une demande reconventionnelle visant à obtenir le prononcé du divorce à son profit, la conversion de plein droit prévue par les articles 306 et 308 du Code  consistant uniquement à transformer le jugement de séparation de corps en jugement de divorce, sans possibilité pour le juge de modifier l'attribution des torts, le droit de former une action principale en divorce lui appartient en revanche jusqu'à la dissolution du mariage et qu'en énonçant, au contraire, que la femme n'était plus recevable à présenter une demande en divorce à compter de la demande de conversion formée par le mari, la cour d'appel aurait violé l'article 242 du Code  ; alors que, d'autre part, en énonçant que la demande en divorce formée par la femme le 9 août 1989 constituait une demande reconventionnelle prohibée par l'article 1142 du nouveau Code de procédure civile, tout en relevant, par ailleurs, que celle-ci avait été présentée par voie d'assignation et faisait suite à une ordonnance de non-conciliation du 19 janvier 1989 ayant autorisé la femme à assigner le mari en divorce pour faute, la cour d'appel n'aurait pas tiré les conséquences légales de ses propres constatations au regard des articles 68, 1106, 1107 et 1111 du nouveau Code de procédure civile, et, partant, aurait violé les textes précités ;\\n   Mais attendu qu'ayant relevé que le mari avait assigné sa femme en conversion de la séparation de corps antérieurement à l'assignation en divorce pour faute, la cour d'appel, a, à bon droit, qualifié la demande de l'épouse en demande reconventionnelle au sens de l'article 1142 du nouveau Code de procédure civile et décidé qu'elle devait être déclarée irrecevable ;\\n   D'où il suit que le moyen n'est pas fondé ;\\n   Sur le moyen unique du pourvoi principal : (sans intérêt) ;\\n         PAR CES MOTIFS :\\n   REJETTE le pourvoi.\\n\\n\\n\"",
     "output_type": "error",
     "traceback": [
      "\u001b[0;31m---------------------------------------------------------------------------\u001b[0m",
      "\u001b[0;31mValueError\u001b[0m                                Traceback (most recent call last)",
      "\u001b[0;32m<ipython-input-22-bd56c024b4f4>\u001b[0m in \u001b[0;36m<module>\u001b[0;34m\u001b[0m\n\u001b[1;32m      1\u001b[0m \u001b[0mrnd_clf\u001b[0m \u001b[0;34m=\u001b[0m \u001b[0mRandomForestClassifier\u001b[0m\u001b[0;34m(\u001b[0m\u001b[0mrandom_state\u001b[0m\u001b[0;34m=\u001b[0m\u001b[0;36m42\u001b[0m\u001b[0;34m,\u001b[0m \u001b[0mn_estimators\u001b[0m\u001b[0;34m=\u001b[0m\u001b[0;36m100\u001b[0m\u001b[0;34m)\u001b[0m\u001b[0;34m\u001b[0m\u001b[0m\n\u001b[0;32m----> 2\u001b[0;31m \u001b[0mrnd_clf\u001b[0m\u001b[0;34m.\u001b[0m\u001b[0mfit\u001b[0m\u001b[0;34m(\u001b[0m\u001b[0mX_train\u001b[0m\u001b[0;34m,\u001b[0m \u001b[0my_train\u001b[0m\u001b[0;34m)\u001b[0m\u001b[0;34m\u001b[0m\u001b[0m\n\u001b[0m\u001b[1;32m      3\u001b[0m \u001b[0my_pred\u001b[0m \u001b[0;34m=\u001b[0m \u001b[0mrnd_clf\u001b[0m\u001b[0;34m.\u001b[0m\u001b[0mpredict\u001b[0m\u001b[0;34m(\u001b[0m\u001b[0mX_test\u001b[0m\u001b[0;34m)\u001b[0m\u001b[0;34m\u001b[0m\u001b[0m\n",
      "\u001b[0;32m~/.local/lib/python3.6/site-packages/sklearn/ensemble/forest.py\u001b[0m in \u001b[0;36mfit\u001b[0;34m(self, X, y, sample_weight)\u001b[0m\n\u001b[1;32m    250\u001b[0m \u001b[0;34m\u001b[0m\u001b[0m\n\u001b[1;32m    251\u001b[0m         \u001b[0;31m# Validate or convert input data\u001b[0m\u001b[0;34m\u001b[0m\u001b[0;34m\u001b[0m\u001b[0m\n\u001b[0;32m--> 252\u001b[0;31m         \u001b[0mX\u001b[0m \u001b[0;34m=\u001b[0m \u001b[0mcheck_array\u001b[0m\u001b[0;34m(\u001b[0m\u001b[0mX\u001b[0m\u001b[0;34m,\u001b[0m \u001b[0maccept_sparse\u001b[0m\u001b[0;34m=\u001b[0m\u001b[0;34m\"csc\"\u001b[0m\u001b[0;34m,\u001b[0m \u001b[0mdtype\u001b[0m\u001b[0;34m=\u001b[0m\u001b[0mDTYPE\u001b[0m\u001b[0;34m)\u001b[0m\u001b[0;34m\u001b[0m\u001b[0m\n\u001b[0m\u001b[1;32m    253\u001b[0m         \u001b[0my\u001b[0m \u001b[0;34m=\u001b[0m \u001b[0mcheck_array\u001b[0m\u001b[0;34m(\u001b[0m\u001b[0my\u001b[0m\u001b[0;34m,\u001b[0m \u001b[0maccept_sparse\u001b[0m\u001b[0;34m=\u001b[0m\u001b[0;34m'csc'\u001b[0m\u001b[0;34m,\u001b[0m \u001b[0mensure_2d\u001b[0m\u001b[0;34m=\u001b[0m\u001b[0;32mFalse\u001b[0m\u001b[0;34m,\u001b[0m \u001b[0mdtype\u001b[0m\u001b[0;34m=\u001b[0m\u001b[0;32mNone\u001b[0m\u001b[0;34m)\u001b[0m\u001b[0;34m\u001b[0m\u001b[0m\n\u001b[1;32m    254\u001b[0m         \u001b[0;32mif\u001b[0m \u001b[0msample_weight\u001b[0m \u001b[0;32mis\u001b[0m \u001b[0;32mnot\u001b[0m \u001b[0;32mNone\u001b[0m\u001b[0;34m:\u001b[0m\u001b[0;34m\u001b[0m\u001b[0m\n",
      "\u001b[0;32m~/.local/lib/python3.6/site-packages/sklearn/utils/validation.py\u001b[0m in \u001b[0;36mcheck_array\u001b[0;34m(array, accept_sparse, accept_large_sparse, dtype, order, copy, force_all_finite, ensure_2d, allow_nd, ensure_min_samples, ensure_min_features, warn_on_dtype, estimator)\u001b[0m\n\u001b[1;32m    520\u001b[0m             \u001b[0;32mtry\u001b[0m\u001b[0;34m:\u001b[0m\u001b[0;34m\u001b[0m\u001b[0m\n\u001b[1;32m    521\u001b[0m                 \u001b[0mwarnings\u001b[0m\u001b[0;34m.\u001b[0m\u001b[0msimplefilter\u001b[0m\u001b[0;34m(\u001b[0m\u001b[0;34m'error'\u001b[0m\u001b[0;34m,\u001b[0m \u001b[0mComplexWarning\u001b[0m\u001b[0;34m)\u001b[0m\u001b[0;34m\u001b[0m\u001b[0m\n\u001b[0;32m--> 522\u001b[0;31m                 \u001b[0marray\u001b[0m \u001b[0;34m=\u001b[0m \u001b[0mnp\u001b[0m\u001b[0;34m.\u001b[0m\u001b[0masarray\u001b[0m\u001b[0;34m(\u001b[0m\u001b[0marray\u001b[0m\u001b[0;34m,\u001b[0m \u001b[0mdtype\u001b[0m\u001b[0;34m=\u001b[0m\u001b[0mdtype\u001b[0m\u001b[0;34m,\u001b[0m \u001b[0morder\u001b[0m\u001b[0;34m=\u001b[0m\u001b[0morder\u001b[0m\u001b[0;34m)\u001b[0m\u001b[0;34m\u001b[0m\u001b[0m\n\u001b[0m\u001b[1;32m    523\u001b[0m             \u001b[0;32mexcept\u001b[0m \u001b[0mComplexWarning\u001b[0m\u001b[0;34m:\u001b[0m\u001b[0;34m\u001b[0m\u001b[0m\n\u001b[1;32m    524\u001b[0m                 raise ValueError(\"Complex data not supported\\n\"\n",
      "\u001b[0;32m~/.local/lib/python3.6/site-packages/numpy/core/numeric.py\u001b[0m in \u001b[0;36masarray\u001b[0;34m(a, dtype, order)\u001b[0m\n\u001b[1;32m    499\u001b[0m \u001b[0;34m\u001b[0m\u001b[0m\n\u001b[1;32m    500\u001b[0m     \"\"\"\n\u001b[0;32m--> 501\u001b[0;31m     \u001b[0;32mreturn\u001b[0m \u001b[0marray\u001b[0m\u001b[0;34m(\u001b[0m\u001b[0ma\u001b[0m\u001b[0;34m,\u001b[0m \u001b[0mdtype\u001b[0m\u001b[0;34m,\u001b[0m \u001b[0mcopy\u001b[0m\u001b[0;34m=\u001b[0m\u001b[0;32mFalse\u001b[0m\u001b[0;34m,\u001b[0m \u001b[0morder\u001b[0m\u001b[0;34m=\u001b[0m\u001b[0morder\u001b[0m\u001b[0;34m)\u001b[0m\u001b[0;34m\u001b[0m\u001b[0m\n\u001b[0m\u001b[1;32m    502\u001b[0m \u001b[0;34m\u001b[0m\u001b[0m\n\u001b[1;32m    503\u001b[0m \u001b[0;34m\u001b[0m\u001b[0m\n",
      "\u001b[0;31mValueError\u001b[0m: could not convert string to float: \"\\nSur le moyen unique du pourvoi incident, qui est préalable :\\n   Attendu, selon l'arrêt attaqué qu'un tribunal de grande instance a prononcé la séparation de corps des époux X... aux torts de l'épouse ; que, par assignation du 21 juillet 1989, le mari a assigné sa femme aux fins de conversion de la séparation de corps en divorce ; que, par assignation en date du 2 août 1989, Mme X..., autorisée par une ordonnance de non-conciliation du 19 janvier 1989, a assigné son mari en divorce pour faute ; qu'après jonction de ces deux procédures, le tribunal de grande instance a prononcé la conversion de la séparation de corps en divorce aux torts de la femme, et, accueillant la demande en divorce de celle-ci, prononcé également le divorce à son profit ; qu'ensuite le Tribunal a constaté que les époux étaient ainsi divorcés aux torts partagés ;\\n   Attendu qu'il est fait grief à l'arrêt infirmatif attaqué d'avoir déclaré irrecevable la demande en divorce de la femme, alors que, d'une part, s'il est interdit à l'époux contre lequel la séparation de corps a été prononcée de greffer sur la demande de conversion de la séparation de corps en divorce formée par son conjoint une demande reconventionnelle visant à obtenir le prononcé du divorce à son profit, la conversion de plein droit prévue par les articles 306 et 308 du Code  consistant uniquement à transformer le jugement de séparation de corps en jugement de divorce, sans possibilité pour le juge de modifier l'attribution des torts, le droit de former une action principale en divorce lui appartient en revanche jusqu'à la dissolution du mariage et qu'en énonçant, au contraire, que la femme n'était plus recevable à présenter une demande en divorce à compter de la demande de conversion formée par le mari, la cour d'appel aurait violé l'article 242 du Code  ; alors que, d'autre part, en énonçant que la demande en divorce formée par la femme le 9 août 1989 constituait une demande reconventionnelle prohibée par l'article 1142 du nouveau Code de procédure civile, tout en relevant, par ailleurs, que celle-ci avait été présentée par voie d'assignation et faisait suite à une ordonnance de non-conciliation du 19 janvier 1989 ayant autorisé la femme à assigner le mari en divorce pour faute, la cour d'appel n'aurait pas tiré les conséquences légales de ses propres constatations au regard des articles 68, 1106, 1107 et 1111 du nouveau Code de procédure civile, et, partant, aurait violé les textes précités ;\\n   Mais attendu qu'ayant relevé que le mari avait assigné sa femme en conversion de la séparation de corps antérieurement à l'assignation en divorce pour faute, la cour d'appel, a, à bon droit, qualifié la demande de l'épouse en demande reconventionnelle au sens de l'article 1142 du nouveau Code de procédure civile et décidé qu'elle devait être déclarée irrecevable ;\\n   D'où il suit que le moyen n'est pas fondé ;\\n   Sur le moyen unique du pourvoi principal : (sans intérêt) ;\\n         PAR CES MOTIFS :\\n   REJETTE le pourvoi.\\n\\n\\n\""
     ]
    }
   ],
   "source": [
    "rnd_clf = RandomForestClassifier(random_state=42, n_estimators=100)\n",
    "rnd_clf.fit(X_train, y_train)\n",
    "y_pred = rnd_clf.predict(X_test)"
   ]
  },
  {
   "cell_type": "code",
   "execution_count": 153,
   "metadata": {},
   "outputs": [],
   "source": [
    "rnd_clf = RandomForestClassifier(random_state=42, n_estimators=100)\n",
    "\n",
    "ada_clf= AdaBoostClassifier(\n",
    "    DecisionTreeClassifier(max_depth=1), n_estimators=100,\n",
    "    algorithm=\"SAMME.R\", learning_rate=0.5, random_state=42)\n",
    "\n",
    "gdb_clf = GradientBoostingClassifier(random_state=42, n_estimators=100)\n",
    "\n",
    "voting_clf = VotingClassifier(\n",
    "    estimators=[('rfc', rnd_clf), ('abc', ada_clf), ('gbr', gdb_clf)],\n",
    "    voting='hard')"
   ]
  },
  {
   "cell_type": "code",
   "execution_count": 154,
   "metadata": {},
   "outputs": [
    {
     "ename": "ValueError",
     "evalue": "could not convert string to float: 'sur le moyen unique du pourvoi incident qui est préalable    attendu selon l arrêt attaqué qu un tribunal de grande instance a prononcé la séparation de corps des époux x aux torts de l épouse  que par assignation du 21 juillet 1989 le mari a assigné sa femme aux fins de conversion de la séparation de corps en divorce  que par assignation en date du 2 août 1989 mme x autorisée par une ordonnance de nonconciliation du 19 janvier 1989 a assigné son mari en divorce pour faute  qu après jonction de ces deux procédures le tribunal de grande instance a prononcé la conversion de la séparation de corps en divorce aux torts de la femme et accueillant la demande en divorce de celleci prononcé également le divorce à son profit  qu ensuite le tribunal a constaté que les époux étaient ainsi divorcés aux torts partagés    attendu qu il est fait grief à l arrêt infirmatif attaqué d avoir déclaré irrecevable la demande en divorce de la femme alors que d une part s il est interdit à l époux contre lequel la séparation de corps a été prononcée de greffer sur la demande de conversion de la séparation de corps en divorce formée par son conjoint une demande reconventionnelle visant à obtenir le prononcé du divorce à son profit la conversion de plein droit prévue par les articles 306 et 308 du code  consistant uniquement à transformer le jugement de séparation de corps en jugement de divorce sans possibilité pour le juge de modifier l attribution des torts le droit de former une action principale en divorce lui appartient en revanche jusqu à la dissolution du mariage et qu en énonçant au contraire que la femme n était plus recevable à présenter une demande en divorce à compter de la demande de conversion formée par le mari la cour d appel aurait violé l article 242 du code   alors que d autre part en énonçant que la demande en divorce formée par la femme le 9 août 1989 constituait une demande reconventionnelle prohibée par l article 1142 du nouveau code de procédure *_* tout en relevant par ailleurs que celleci avait été présentée par voie d assignation et faisait suite à une ordonnance de nonconciliation du 19 janvier 1989 ayant autorisé la femme à assigner le mari en divorce pour faute la cour d appel n aurait pas tiré les conséquences légales de ses propres constatations au regard des articles 68 1106 1107 et 1111 du nouveau code de procédure *_* et partant aurait violé les textes précités    mais attendu qu ayant relevé que le mari avait assigné sa femme en conversion de la séparation de corps antérieurement à l assignation en divorce pour faute la cour d appel a à bon droit qualifié la demande de l épouse en demande reconventionnelle au sens de l article 1142 du nouveau code de procédure *_* et décidé qu elle devait être déclarée irrecevable    d où il suit que le moyen n est pas fondé    sur le moyen unique du pourvoi principal  sans intérêt          par ces motifs    rejette le pourvoi'",
     "output_type": "error",
     "traceback": [
      "\u001b[0;31m---------------------------------------------------------------------------\u001b[0m",
      "\u001b[0;31mValueError\u001b[0m                                Traceback (most recent call last)",
      "\u001b[0;32m<ipython-input-154-ff71eadff600>\u001b[0m in \u001b[0;36m<module>\u001b[0;34m\u001b[0m\n\u001b[1;32m      1\u001b[0m \u001b[0;32mfor\u001b[0m \u001b[0mclf\u001b[0m \u001b[0;32min\u001b[0m \u001b[0;34m(\u001b[0m\u001b[0mrnd_clf\u001b[0m\u001b[0;34m,\u001b[0m \u001b[0mada_clf\u001b[0m\u001b[0;34m,\u001b[0m \u001b[0mgdb_clf\u001b[0m\u001b[0;34m,\u001b[0m \u001b[0mvoting_clf\u001b[0m\u001b[0;34m)\u001b[0m\u001b[0;34m:\u001b[0m\u001b[0;34m\u001b[0m\u001b[0m\n\u001b[0;32m----> 2\u001b[0;31m     \u001b[0mclf\u001b[0m\u001b[0;34m.\u001b[0m\u001b[0mfit\u001b[0m\u001b[0;34m(\u001b[0m\u001b[0mX_train\u001b[0m\u001b[0;34m,\u001b[0m \u001b[0my_train\u001b[0m\u001b[0;34m)\u001b[0m\u001b[0;34m\u001b[0m\u001b[0m\n\u001b[0m\u001b[1;32m      3\u001b[0m     \u001b[0my_pred\u001b[0m \u001b[0;34m=\u001b[0m \u001b[0mclf\u001b[0m\u001b[0;34m.\u001b[0m\u001b[0mpredict\u001b[0m\u001b[0;34m(\u001b[0m\u001b[0mX_test\u001b[0m\u001b[0;34m)\u001b[0m\u001b[0;34m\u001b[0m\u001b[0m\n\u001b[1;32m      4\u001b[0m     \u001b[0mprint\u001b[0m\u001b[0;34m(\u001b[0m\u001b[0mclf\u001b[0m\u001b[0;34m.\u001b[0m\u001b[0m__class__\u001b[0m\u001b[0;34m.\u001b[0m\u001b[0m__name__\u001b[0m\u001b[0;34m,\u001b[0m \u001b[0maccuracy_score\u001b[0m\u001b[0;34m(\u001b[0m\u001b[0my_test\u001b[0m\u001b[0;34m,\u001b[0m \u001b[0my_pred\u001b[0m\u001b[0;34m)\u001b[0m\u001b[0;34m)\u001b[0m\u001b[0;34m\u001b[0m\u001b[0m\n",
      "\u001b[0;32m~/.local/lib/python3.6/site-packages/sklearn/ensemble/forest.py\u001b[0m in \u001b[0;36mfit\u001b[0;34m(self, X, y, sample_weight)\u001b[0m\n\u001b[1;32m    250\u001b[0m \u001b[0;34m\u001b[0m\u001b[0m\n\u001b[1;32m    251\u001b[0m         \u001b[0;31m# Validate or convert input data\u001b[0m\u001b[0;34m\u001b[0m\u001b[0;34m\u001b[0m\u001b[0m\n\u001b[0;32m--> 252\u001b[0;31m         \u001b[0mX\u001b[0m \u001b[0;34m=\u001b[0m \u001b[0mcheck_array\u001b[0m\u001b[0;34m(\u001b[0m\u001b[0mX\u001b[0m\u001b[0;34m,\u001b[0m \u001b[0maccept_sparse\u001b[0m\u001b[0;34m=\u001b[0m\u001b[0;34m\"csc\"\u001b[0m\u001b[0;34m,\u001b[0m \u001b[0mdtype\u001b[0m\u001b[0;34m=\u001b[0m\u001b[0mDTYPE\u001b[0m\u001b[0;34m)\u001b[0m\u001b[0;34m\u001b[0m\u001b[0m\n\u001b[0m\u001b[1;32m    253\u001b[0m         \u001b[0my\u001b[0m \u001b[0;34m=\u001b[0m \u001b[0mcheck_array\u001b[0m\u001b[0;34m(\u001b[0m\u001b[0my\u001b[0m\u001b[0;34m,\u001b[0m \u001b[0maccept_sparse\u001b[0m\u001b[0;34m=\u001b[0m\u001b[0;34m'csc'\u001b[0m\u001b[0;34m,\u001b[0m \u001b[0mensure_2d\u001b[0m\u001b[0;34m=\u001b[0m\u001b[0;32mFalse\u001b[0m\u001b[0;34m,\u001b[0m \u001b[0mdtype\u001b[0m\u001b[0;34m=\u001b[0m\u001b[0;32mNone\u001b[0m\u001b[0;34m)\u001b[0m\u001b[0;34m\u001b[0m\u001b[0m\n\u001b[1;32m    254\u001b[0m         \u001b[0;32mif\u001b[0m \u001b[0msample_weight\u001b[0m \u001b[0;32mis\u001b[0m \u001b[0;32mnot\u001b[0m \u001b[0;32mNone\u001b[0m\u001b[0;34m:\u001b[0m\u001b[0;34m\u001b[0m\u001b[0m\n",
      "\u001b[0;32m~/.local/lib/python3.6/site-packages/sklearn/utils/validation.py\u001b[0m in \u001b[0;36mcheck_array\u001b[0;34m(array, accept_sparse, accept_large_sparse, dtype, order, copy, force_all_finite, ensure_2d, allow_nd, ensure_min_samples, ensure_min_features, warn_on_dtype, estimator)\u001b[0m\n\u001b[1;32m    520\u001b[0m             \u001b[0;32mtry\u001b[0m\u001b[0;34m:\u001b[0m\u001b[0;34m\u001b[0m\u001b[0m\n\u001b[1;32m    521\u001b[0m                 \u001b[0mwarnings\u001b[0m\u001b[0;34m.\u001b[0m\u001b[0msimplefilter\u001b[0m\u001b[0;34m(\u001b[0m\u001b[0;34m'error'\u001b[0m\u001b[0;34m,\u001b[0m \u001b[0mComplexWarning\u001b[0m\u001b[0;34m)\u001b[0m\u001b[0;34m\u001b[0m\u001b[0m\n\u001b[0;32m--> 522\u001b[0;31m                 \u001b[0marray\u001b[0m \u001b[0;34m=\u001b[0m \u001b[0mnp\u001b[0m\u001b[0;34m.\u001b[0m\u001b[0masarray\u001b[0m\u001b[0;34m(\u001b[0m\u001b[0marray\u001b[0m\u001b[0;34m,\u001b[0m \u001b[0mdtype\u001b[0m\u001b[0;34m=\u001b[0m\u001b[0mdtype\u001b[0m\u001b[0;34m,\u001b[0m \u001b[0morder\u001b[0m\u001b[0;34m=\u001b[0m\u001b[0morder\u001b[0m\u001b[0;34m)\u001b[0m\u001b[0;34m\u001b[0m\u001b[0m\n\u001b[0m\u001b[1;32m    523\u001b[0m             \u001b[0;32mexcept\u001b[0m \u001b[0mComplexWarning\u001b[0m\u001b[0;34m:\u001b[0m\u001b[0;34m\u001b[0m\u001b[0m\n\u001b[1;32m    524\u001b[0m                 raise ValueError(\"Complex data not supported\\n\"\n",
      "\u001b[0;32m~/.local/lib/python3.6/site-packages/numpy/core/numeric.py\u001b[0m in \u001b[0;36masarray\u001b[0;34m(a, dtype, order)\u001b[0m\n\u001b[1;32m    499\u001b[0m \u001b[0;34m\u001b[0m\u001b[0m\n\u001b[1;32m    500\u001b[0m     \"\"\"\n\u001b[0;32m--> 501\u001b[0;31m     \u001b[0;32mreturn\u001b[0m \u001b[0marray\u001b[0m\u001b[0;34m(\u001b[0m\u001b[0ma\u001b[0m\u001b[0;34m,\u001b[0m \u001b[0mdtype\u001b[0m\u001b[0;34m,\u001b[0m \u001b[0mcopy\u001b[0m\u001b[0;34m=\u001b[0m\u001b[0;32mFalse\u001b[0m\u001b[0;34m,\u001b[0m \u001b[0morder\u001b[0m\u001b[0;34m=\u001b[0m\u001b[0morder\u001b[0m\u001b[0;34m)\u001b[0m\u001b[0;34m\u001b[0m\u001b[0m\n\u001b[0m\u001b[1;32m    502\u001b[0m \u001b[0;34m\u001b[0m\u001b[0m\n\u001b[1;32m    503\u001b[0m \u001b[0;34m\u001b[0m\u001b[0m\n",
      "\u001b[0;31mValueError\u001b[0m: could not convert string to float: 'sur le moyen unique du pourvoi incident qui est préalable    attendu selon l arrêt attaqué qu un tribunal de grande instance a prononcé la séparation de corps des époux x aux torts de l épouse  que par assignation du 21 juillet 1989 le mari a assigné sa femme aux fins de conversion de la séparation de corps en divorce  que par assignation en date du 2 août 1989 mme x autorisée par une ordonnance de nonconciliation du 19 janvier 1989 a assigné son mari en divorce pour faute  qu après jonction de ces deux procédures le tribunal de grande instance a prononcé la conversion de la séparation de corps en divorce aux torts de la femme et accueillant la demande en divorce de celleci prononcé également le divorce à son profit  qu ensuite le tribunal a constaté que les époux étaient ainsi divorcés aux torts partagés    attendu qu il est fait grief à l arrêt infirmatif attaqué d avoir déclaré irrecevable la demande en divorce de la femme alors que d une part s il est interdit à l époux contre lequel la séparation de corps a été prononcée de greffer sur la demande de conversion de la séparation de corps en divorce formée par son conjoint une demande reconventionnelle visant à obtenir le prononcé du divorce à son profit la conversion de plein droit prévue par les articles 306 et 308 du code  consistant uniquement à transformer le jugement de séparation de corps en jugement de divorce sans possibilité pour le juge de modifier l attribution des torts le droit de former une action principale en divorce lui appartient en revanche jusqu à la dissolution du mariage et qu en énonçant au contraire que la femme n était plus recevable à présenter une demande en divorce à compter de la demande de conversion formée par le mari la cour d appel aurait violé l article 242 du code   alors que d autre part en énonçant que la demande en divorce formée par la femme le 9 août 1989 constituait une demande reconventionnelle prohibée par l article 1142 du nouveau code de procédure *_* tout en relevant par ailleurs que celleci avait été présentée par voie d assignation et faisait suite à une ordonnance de nonconciliation du 19 janvier 1989 ayant autorisé la femme à assigner le mari en divorce pour faute la cour d appel n aurait pas tiré les conséquences légales de ses propres constatations au regard des articles 68 1106 1107 et 1111 du nouveau code de procédure *_* et partant aurait violé les textes précités    mais attendu qu ayant relevé que le mari avait assigné sa femme en conversion de la séparation de corps antérieurement à l assignation en divorce pour faute la cour d appel a à bon droit qualifié la demande de l épouse en demande reconventionnelle au sens de l article 1142 du nouveau code de procédure *_* et décidé qu elle devait être déclarée irrecevable    d où il suit que le moyen n est pas fondé    sur le moyen unique du pourvoi principal  sans intérêt          par ces motifs    rejette le pourvoi'"
     ]
    }
   ],
   "source": [
    "for clf in (rnd_clf, ada_clf, gdb_clf, voting_clf):\n",
    "    clf.fit(X_train, y_train)\n",
    "    y_pred = clf.predict(X_test)\n",
    "    print(clf.__class__.__name__, accuracy_score(y_test, y_pred))"
   ]
  },
  {
   "cell_type": "code",
   "execution_count": null,
   "metadata": {},
   "outputs": [],
   "source": []
  }
 ],
 "metadata": {
  "kernelspec": {
   "display_name": "Python 3",
   "language": "python",
   "name": "python3"
  },
  "language_info": {
   "codemirror_mode": {
    "name": "ipython",
    "version": 3
   },
   "file_extension": ".py",
   "mimetype": "text/x-python",
   "name": "python",
   "nbconvert_exporter": "python",
   "pygments_lexer": "ipython3",
   "version": "3.6.5"
  }
 },
 "nbformat": 4,
 "nbformat_minor": 2
}
